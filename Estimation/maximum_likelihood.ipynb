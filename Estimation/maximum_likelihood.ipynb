{
 "cells": [
  {
   "cell_type": "markdown",
   "metadata": {},
   "source": [
    "# Estimation"
   ]
  },
  {
   "cell_type": "markdown",
   "metadata": {},
   "source": [
    "- All the probability functions that we have covered so far are families of models in the sense that they are defined by at least one parameter.\n",
    "\n",
    "- For **example** the Poisson model is defined by the occurrence rate, $\\lambda$. Changing $\\lambda$ changes the probabilities associated with the Poisson as we saw in the plots created in the ```distribution``` file.\n",
    "\n",
    "- The main goal of estimation is to find the value of an *estimator* that can be constructed given data \n"
   ]
  },
  {
   "cell_type": "markdown",
   "metadata": {},
   "source": [
    "## Maximum Likelihood"
   ]
  },
  {
   "cell_type": "markdown",
   "metadata": {},
   "source": [
    "**Definition 5.2.1:** let $k_{1}, k_{2}, \\dots k_{n}$ be a random sample of size $n$ from the discrete pdf $p_{X}(k ; \\theta)$, where $\\theta$ is an unknown parameter. The *likelihood function* $L(\\theta)$ is the product of the pdf evaluated at the $n$ $k_{i}$'s:\n",
    "\n",
    "$$L(\\theta)=\\prod_{i=1}^{n}P_{X}\\left(k_{i} ; \\theta\\right)$$."
   ]
  },
  {
   "cell_type": "markdown",
   "metadata": {},
   "source": [
    "The basic idea behind maximum likelihood estimation is to choose as the estimate for $\\theta$ the value of the parameter that maximizes the \"likelihood\" of \"observing\" the sample."
   ]
  },
  {
   "cell_type": "markdown",
   "metadata": {},
   "source": [
    "**Comment:** because we are looking for the value of $\\theta$ that maximizes $L(\\theta)$, taking a transformation of the function does not alter the location of the maximizer. It is more convenient to work with the natural logarithm of the likelihood function:\n",
    "\n",
    "$$\\text{ln} L(\\theta)=\\sum_{i=1}^{n}\\text{ln}P_{X}\\left( k_{i} ; \\theta\\right)$$."
   ]
  },
  {
   "cell_type": "markdown",
   "metadata": {},
   "source": [
    "### Maximum likelihood for the Poisson random variable"
   ]
  },
  {
   "cell_type": "markdown",
   "metadata": {},
   "source": [
    "Remember that the pdf of the Poisson distribution is given by $P_{X}(k) = \\frac{e^{-\\lambda} \\lambda^{k}}{k !}$. Assuming we have a random sample from the Poisson distribution, i.e., $k_{1}, \\dots, k_{n}$ where each $k_{i}$ distributes Poisson with parameter $\\lambda$. Because we assume that we have a random sample, each observation $i$ is independent from the others. Therefore, the probability of observing that sample is given by:\n",
    "\n",
    "$$L(\\lambda)=\\prod_{i=1}^{n} e^{-\\lambda} \\frac{\\lambda^{k_{i}}}{k_{i} !}=e^{-n \\lambda} \\lambda^{\\sum_{i=1}^{n} k_{i}} \\frac{1}{\\prod_{i=1}^{n} k_{i} !}.$$\n",
    "\n",
    "Again, it is convenient to take the natural logarithm of the likelihood function:\n",
    "\n",
    "$$\\ln L(\\lambda)=-n \\lambda+\\left(\\sum_{i=1}^{n} k_{i}\\right) \\ln \\lambda-\\ln \\prod_{i=1}^{n} k_{i} !$$\n",
    "\n",
    "To maximize this function, let's use the first order conditions for a maximum \n",
    "\n",
    "$$\\frac{d \\ln L(\\lambda)}{d \\lambda}=-n+\\frac{\\sum_{i=1}^{n} k_{i}}{\\lambda}=0,$$\n",
    "\n",
    "which implies that $\\lambda_{e}=\\frac{\\sum_{i=1}^{n} k_{i}}{n}=\\bar{k}$. You can check the second derivative to convince yourself that this is a maximum."
   ]
  },
  {
   "cell_type": "markdown",
   "metadata": {},
   "source": [
    "### R implementation:"
   ]
  },
  {
   "cell_type": "markdown",
   "metadata": {},
   "source": [
    "Before jumping into the code, note that the term $\\ln \\prod_{i=1}^{n} k_{i} !$ does not depend on lambda so that maximizing $\\ln L(\\lambda)$, is equivalent to maximize\n",
    "\n",
    "$$\\ln L(\\lambda)=-n \\lambda+\\left(\\sum_{i=1}^{n} k_{i}\\right) \\ln \\lambda$$"
   ]
  },
  {
   "cell_type": "code",
   "execution_count": 1,
   "metadata": {},
   "outputs": [],
   "source": [
    "likelihood <- function(l,k){\n",
    "    n <- length(k)\n",
    "    lnl <- -n*l + sum(k)*log(l)\n",
    "    return(-lnl)\n",
    "}"
   ]
  },
  {
   "cell_type": "markdown",
   "metadata": {},
   "source": [
    "Let's simulate some data from a Poisson distribution with parameter $\\lambda=1.5$ and in the case that we have a random sample of size $n=100$. "
   ]
  },
  {
   "cell_type": "code",
   "execution_count": 4,
   "metadata": {},
   "outputs": [],
   "source": [
    "n <- 50\n",
    "l <- 1.5\n",
    "k <- rpois(n, l)"
   ]
  },
  {
   "cell_type": "markdown",
   "metadata": {},
   "source": [
    "We can use the function ```optim()``` to calculate in R the value of $\\lambda$ that maximizes the log likelihood function. The first input is an initial value for $\\lambda$. In this case I set that value to be 0. The second input is the objective function to minimize (that is why I used a negative sign in the likelihood function definition). The third input is the data that we will use to evaluate the likelihood function. The last input is the maximization method."
   ]
  },
  {
   "cell_type": "code",
   "execution_count": 5,
   "metadata": {},
   "outputs": [
    {
     "data": {
      "text/html": [
       "1.77999997203761"
      ],
      "text/latex": [
       "1.77999997203761"
      ],
      "text/markdown": [
       "1.77999997203761"
      ],
      "text/plain": [
       "[1] 1.78"
      ]
     },
     "metadata": {},
     "output_type": "display_data"
    }
   ],
   "source": [
    "optim(0.5, likelihood, k = k,method=\"BFGS\")$par"
   ]
  },
  {
   "cell_type": "markdown",
   "metadata": {},
   "source": [
    "Here we use the option ```par``` to get only the value of $\\lambda$ (```l```) that maximizes the likelihood. In this case the result is $\\lambda_{e} = 1.26$. We would expect that by increasing the sample, the value of $\\lambda_{e}$ will get closer to the real value of $\\lambda = 1.5$. Let's simulate a new random sample of 1000 Poisson random variables."
   ]
  },
  {
   "cell_type": "code",
   "execution_count": 6,
   "metadata": {},
   "outputs": [
    {
     "data": {
      "text/html": [
       "1.49200030215617"
      ],
      "text/latex": [
       "1.49200030215617"
      ],
      "text/markdown": [
       "1.49200030215617"
      ],
      "text/plain": [
       "[1] 1.492"
      ]
     },
     "metadata": {},
     "output_type": "display_data"
    }
   ],
   "source": [
    "n2 <- 1000\n",
    "k2 <- rpois(n2, l)\n",
    "optim(0.5, likelihood, k = k2,method=\"BFGS\")$par"
   ]
  },
  {
   "cell_type": "markdown",
   "metadata": {},
   "source": [
    "As expected, the value of the maximum likelihood estimator is closer to 1.5 when the sample size increases to 1000."
   ]
  },
  {
   "cell_type": "code",
   "execution_count": 7,
   "metadata": {},
   "outputs": [],
   "source": [
    "samples <- 3:100\n",
    "estimators <- vector()\n",
    "set.seed(42)\n",
    "\n",
    "for(n in samples){\n",
    "    estimators <- append(estimators, optim(1, likelihood, k = rpois(n, l),method=\"BFGS\")$par)\n",
    "}"
   ]
  },
  {
   "cell_type": "code",
   "execution_count": 8,
   "metadata": {},
   "outputs": [
    {
     "data": {
      "image/png": "[encoded data removed]",
      "text/plain": [
       "plot without title"
      ]
     },
     "metadata": {},
     "output_type": "display_data"
    }
   ],
   "source": [
    "options(repr.plot.width=6, repr.plot.height=5)\n",
    "plot(estimators,type=\"o\", col=\"blue\",ann=FALSE)\n",
    "abline(h=l, col=\"black\",lwd=3, lty=2)"
   ]
  }
 ],
 "metadata": {
  "kernelspec": {
   "display_name": "R",
   "language": "R",
   "name": "ir"
  },
  "language_info": {
   "codemirror_mode": "r",
   "file_extension": ".r",
   "mimetype": "text/x-r-source",
   "name": "R",
   "pygments_lexer": "r",
   "version": "3.6.1"
  }
 },
 "nbformat": 4,
 "nbformat_minor": 4
}
