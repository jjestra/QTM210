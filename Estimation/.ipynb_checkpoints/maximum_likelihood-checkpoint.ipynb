{
 "cells": [
  {
   "cell_type": "markdown",
   "metadata": {},
   "source": [
    "# Estimation"
   ]
  },
  {
   "cell_type": "markdown",
   "metadata": {},
   "source": [
    "## Maximum Likelihood"
   ]
  },
  {
   "cell_type": "markdown",
   "metadata": {},
   "source": [
    "**Definition 5.2.1:** let $k_{1}, k_{2}, \\dots k_{n}$ be a random sample of size $n$ from the discrete pdf $p_{X}(k ; \\theta)$, where $\\theta$ is an unknown parameter. The *likelihood function* $L(\\theta)$ is the product of the pdf evaluated at the $n$ $k_{i}$'s:\n",
    "\n",
    "$$L(\\theta)=\\prod_{i=1}^{n}P_{X}\\left(k_{i} ; \\theta\\right)$$."
   ]
  },
  {
   "cell_type": "markdown",
   "metadata": {},
   "source": [
    "The basic idea behind maximum likelihood estimation is to choose as the estimate for $\\theta$ the value of the parameter that maximizes the \"likelihood\" of \"observing\" the sample."
   ]
  },
  {
   "cell_type": "markdown",
   "metadata": {},
   "source": [
    "**Comment:** because we are looking for the value of $\\theta$ that maximizes $L(\\theta)$, taking a transformation of the function does not alter the location of the maximizer. It is more convenient to work with the natural logarithm of the likelihood function:\n",
    "\n",
    "$$\\text{ln} L(\\theta)=\\sum_{i=1}^{n}\\text{ln}P_{X}\\left( k_{i} ; \\theta\\right)$$."
   ]
  },
  {
   "cell_type": "markdown",
   "metadata": {},
   "source": [
    "### Maximum likelihood for the Poisson random variable"
   ]
  },
  {
   "cell_type": "markdown",
   "metadata": {},
   "source": [
    "Remember that the pdf of the Poisson distribution is given by $P_{X}(k) = \\frac{e^{-\\lambda} \\lambda^{k}}{k !}$. Assuming we have a random sample from the Poisson distribution, i.e., $k_{1}, \\dots, k_{n}$ where each $k_{i}$ distributes Poisson with parameter $\\lambda$. Because we assume that we have a random sample, each observation $i$ is independent from the others. Therefore, the probability of observing that sample is given by:\n",
    "\n",
    "$$L(\\lambda)=\\prod_{i=1}^{n} e^{-\\lambda} \\frac{\\lambda^{k_{i}}}{k_{i} !}=e^{-n \\lambda} \\lambda^{\\sum_{i=1}^{n} k_{i}} \\frac{1}{\\prod_{i=1}^{n} k_{i} !}.$$\n",
    "\n",
    "Again, it is convenient to take the natural logarithm of the likelihood function:\n",
    "\n",
    "$$\\ln L(\\lambda)=-n \\lambda+\\left(\\sum_{i=1}^{n} k_{i}\\right) \\ln \\lambda-\\ln \\prod_{i=1}^{n} k_{i} !$$\n",
    "\n",
    "To maximize this function, let's use the first order conditions for a maximum \n",
    "\n",
    "$$\\frac{d \\ln L(\\lambda)}{d \\lambda}=-n+\\frac{\\sum_{i=1}^{n} k_{i}}{\\lambda}=0,$$\n",
    "\n",
    "which implies that $\\lambda_{e}=\\frac{\\sum_{i=1}^{n} k_{i}}{n}=\\bar{k}$. You can check the second derivative to convince yourself that this is a maximum."
   ]
  },
  {
   "cell_type": "markdown",
   "metadata": {},
   "source": [
    "### R implementation:"
   ]
  },
  {
   "cell_type": "markdown",
   "metadata": {},
   "source": [
    "Before jumping into the code, note that the term $\\ln \\prod_{i=1}^{n} k_{i} !$ does not depend on lambda so that maximizing $\\ln L(\\lambda)$, is equivalent to maximize\n",
    "\n",
    "$$\\ln L(\\lambda)=-n \\lambda+\\left(\\sum_{i=1}^{n} k_{i}\\right) \\ln \\lambda$$"
   ]
  },
  {
   "cell_type": "code",
   "execution_count": 15,
   "metadata": {},
   "outputs": [],
   "source": [
    "likelihood <- function(l,k){\n",
    "    n <- length(k)\n",
    "    lnl <- -n*l + sum(k)*log(l)\n",
    "    return(-lnl)\n",
    "}"
   ]
  },
  {
   "cell_type": "markdown",
   "metadata": {},
   "source": [
    "Let's simulate some data from a Poisson distribution with parameter $\\lambda=1.5$ and in the case that we have a random sample of size $n=100$. "
   ]
  },
  {
   "cell_type": "code",
   "execution_count": 8,
   "metadata": {},
   "outputs": [],
   "source": [
    "n <- 100\n",
    "l <- 1.5\n",
    "k <- rpois(n, l)"
   ]
  },
  {
   "cell_type": "markdown",
   "metadata": {},
   "source": [
    "We can use the function ```optim()``` to calculate in R the value of $\\lambda$ that maximizes the log likelihood function. The first input is an initial value for $\\lambda$. In this case I set that value to be 0. The second input is the objective function to minimize (that is why I used a negative sign in the likelihood function definition). The third input is the data that we will use to evaluate the likelihood function. The last input is the maximization method."
   ]
  },
  {
   "cell_type": "code",
   "execution_count": 18,
   "metadata": {},
   "outputs": [
    {
     "data": {
      "text/html": [
       "1.25997838278901"
      ],
      "text/latex": [
       "1.25997838278901"
      ],
      "text/markdown": [
       "1.25997838278901"
      ],
      "text/plain": [
       "[1] 1.259978"
      ]
     },
     "metadata": {},
     "output_type": "display_data"
    }
   ],
   "source": [
    "optim(0.5, likelihood, k = k,method=\"BFGS\")$par"
   ]
  },
  {
   "cell_type": "markdown",
   "metadata": {},
   "source": [
    "Here we use the option ```par``` to get only the value of $\\lambda$ (```l```) that maximizes the likelihood. In this case the result is $\\lambda_{e} = 1.26$. We would expect that by increasing the sample, the value of $\\lambda_{e}$ will get closer to the real value of $\\lambda = 1.5$. Let's simulate a new random sample of 1000 Poisson random variables."
   ]
  },
  {
   "cell_type": "code",
   "execution_count": 19,
   "metadata": {},
   "outputs": [
    {
     "data": {
      "text/html": [
       "1.4440003967238"
      ],
      "text/latex": [
       "1.4440003967238"
      ],
      "text/markdown": [
       "1.4440003967238"
      ],
      "text/plain": [
       "[1] 1.444"
      ]
     },
     "metadata": {},
     "output_type": "display_data"
    }
   ],
   "source": [
    "n2 <- 1000\n",
    "k2 <- rpois(n2, l)\n",
    "optim(0.5, likelihood, k = k2,method=\"BFGS\")$par"
   ]
  },
  {
   "cell_type": "markdown",
   "metadata": {},
   "source": [
    "As expected, the value of the maximum likelihood estimator is closer to 1.5 when the sample size increases to 1000."
   ]
  }
 ],
 "metadata": {
  "kernelspec": {
   "display_name": "R",
   "language": "R",
   "name": "ir"
  },
  "language_info": {
   "codemirror_mode": "r",
   "file_extension": ".r",
   "mimetype": "text/x-r-source",
   "name": "R",
   "pygments_lexer": "r",
   "version": "3.6.1"
  }
 },
 "nbformat": 4,
 "nbformat_minor": 4
}
