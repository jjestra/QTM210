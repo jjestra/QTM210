{
 "cells": [
  {
   "cell_type": "markdown",
   "metadata": {},
   "source": [
    "# Variance"
   ]
  },
  {
   "cell_type": "markdown",
   "metadata": {},
   "source": [
    "In the past section, we studied the location of a distribution, generally measured by the expected value. Another important feature of a distribution is the dispersion: the extent to which its values are spread out."
   ]
  },
  {
   "cell_type": "markdown",
   "metadata": {},
   "source": [
    "**Definition 1:** The variance of a random variable is the expected value of its squared deviations from its expected value ($\\mu$). If $X$ is discrete, with pdf $p_{X}(k)$,\n",
    "\n",
    "$$\\operatorname{Var}(X)=E\\left[(X-\\mu)^{2}\\right]=\\sum_{\\text {all } k}(k-\\mu)^{2} \\cdot p_{X}(k)$$\n",
    "\n",
    "If $Y$ is continuous, with pdf $f_{Y}(y)$\n",
    "\n",
    "$$\\operatorname{Var}(Y)=E\\left[(Y-\\mu)^{2}\\right]=\\int_{-\\infty}^{\\infty}(y-\\mu)^{2} \\cdot f_{Y}(y) d y$$"
   ]
  },
  {
   "cell_type": "markdown",
   "metadata": {},
   "source": [
    "**Theorem 1:** Let W be any random variable, discrete or continuous, having mean $\\mu$ and for which\n",
    "$E(W2)$ is finite. Then\n",
    "\n",
    "$$\\operatorname{Var}(W)=E\\left(W^{2}\\right)-\\mu^{2}$$"
   ]
  },
  {
   "cell_type": "markdown",
   "metadata": {},
   "source": [
    "Given that the variance is defined over $E(W^2)$, it is related with the second moment of the random variable $W$. "
   ]
  },
  {
   "cell_type": "markdown",
   "metadata": {},
   "source": [
    "## Example 1"
   ]
  },
  {
   "cell_type": "markdown",
   "metadata": {},
   "source": [
    "Extension of the function to calculate expected values in R to the calculation of any moment. "
   ]
  },
  {
   "cell_type": "markdown",
   "metadata": {},
   "source": [
    "I will use again the example of the normal distribution. Therefore, this example applies for continuous random variables. If $X$ is a random variable following a normal distribution with parameters $\\mu$ and $\\sigma^2$ $\\left(X \\sim N(\\mu,\\sigma^2)\\right)$, it can be shown that $Var(X)=\\sigma^2$."
   ]
  },
  {
   "cell_type": "markdown",
   "metadata": {},
   "source": [
    "If we follow Definition 1, we can calculate the variance of $X$ as:"
   ]
  },
  {
   "cell_type": "code",
   "execution_count": 3,
   "metadata": {},
   "outputs": [
    {
     "data": {
      "text/plain": [
       "4 with absolute error < 2.4e-07"
      ]
     },
     "metadata": {},
     "output_type": "display_data"
    }
   ],
   "source": [
    "integrate(function(x){x^2 * dnorm(x,mean=0, sd = 2)}, -Inf, Inf)"
   ]
  },
  {
   "cell_type": "markdown",
   "metadata": {},
   "source": [
    "However, it is relevant to define a function that is able to calculate any arbitrary moment. Including the first and second moments corresponding with $E(X)$ and $E(X^2)$ respectively."
   ]
  },
  {
   "cell_type": "code",
   "execution_count": 4,
   "metadata": {},
   "outputs": [],
   "source": [
    "moment <- function(pdf, ..., n, ki = -Inf, kf = Inf){\n",
    "    integrate(function(x){(x^n) * pdf(x, ...)}, ki, kf)\n",
    "}"
   ]
  },
  {
   "cell_type": "code",
   "execution_count": 9,
   "metadata": {},
   "outputs": [
    {
     "data": {
      "text/plain": [
       "1 with absolute error < 3.1e-08"
      ]
     },
     "metadata": {},
     "output_type": "display_data"
    }
   ],
   "source": [
    "moment(dnorm, mean = 1, sd = 2, n = 1)"
   ]
  },
  {
   "cell_type": "markdown",
   "metadata": {},
   "source": [
    "Now to find the variance, we can use the ```moment``` function we just created and **Theorem 1**:"
   ]
  },
  {
   "cell_type": "code",
   "execution_count": 20,
   "metadata": {},
   "outputs": [],
   "source": [
    "EX2 <- moment(dnorm, mean = 1, sd = 2, n = 2)$value\n",
    "EX <- moment(dnorm, mean = 1, sd = 2, n = 1)$value\n"
   ]
  },
  {
   "cell_type": "code",
   "execution_count": 21,
   "metadata": {},
   "outputs": [
    {
     "data": {
      "text/html": [
       "4"
      ],
      "text/latex": [
       "4"
      ],
      "text/markdown": [
       "4"
      ],
      "text/plain": [
       "[1] 4"
      ]
     },
     "metadata": {},
     "output_type": "display_data"
    }
   ],
   "source": [
    "EX2-EX^2"
   ]
  }
 ],
 "metadata": {
  "kernelspec": {
   "display_name": "R",
   "language": "R",
   "name": "ir"
  },
  "language_info": {
   "codemirror_mode": "r",
   "file_extension": ".r",
   "mimetype": "text/x-r-source",
   "name": "R",
   "pygments_lexer": "r",
   "version": "3.6.1"
  }
 },
 "nbformat": 4,
 "nbformat_minor": 4
}
