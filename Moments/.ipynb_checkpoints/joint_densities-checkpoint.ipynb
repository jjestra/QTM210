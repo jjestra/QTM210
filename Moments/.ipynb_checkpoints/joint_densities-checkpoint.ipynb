{
 "cells": [
  {
   "cell_type": "markdown",
   "metadata": {},
   "source": [
    "# Joint Densities"
   ]
  },
  {
   "cell_type": "markdown",
   "metadata": {},
   "source": [
    "- This section presents the natural extension from the probabilistic behavior of a single random variable to the analysis of two or more.\n",
    "\n",
    "\n",
    "- A relevant concept is that the knowledge of only $f_{X}(x)$ and $f_{Y}(y)$ is not enough to characterize the simultaneous behavior of $X$ and $Y$."
   ]
  },
  {
   "cell_type": "markdown",
   "metadata": {},
   "source": [
    "In this lab we will focus on how to analyze multiple random variables. The definitions will be used in the context of a simulation exercise. This is similar to the type of analysis that can be performed with real data."
   ]
  },
  {
   "cell_type": "markdown",
   "metadata": {},
   "source": [
    "## Simulation Exercise:\n",
    "\n",
    "Based on the bivariate normal distribution:"
   ]
  },
  {
   "cell_type": "markdown",
   "metadata": {},
   "source": [
    "**Definition 1:** Two random variables defined on the same set of real numbers are jointly continuous if there exists a function $f{X,Y}(x, y)$ such that for any region R in the xy-plane $P[(X, Y) \\in R]=\\iint_{R} f_{X, Y}(x, y) d x d y$. The function $f_{X,Y}(x, y)$ is the joint pdf of $X$ and $Y$."
   ]
  },
  {
   "cell_type": "markdown",
   "metadata": {},
   "source": [
    "\n",
    "$$f(x, y)=\\frac{1}{2 \\pi \\sigma_{X} \\sigma_{Y} \\sqrt{1-\\rho^{2}}} \\exp \\left(-\\frac{1}{2\\left(1-\\rho^{2}\\right)}\\left[\\frac{\\left(x-\\mu_{X}\\right)^{2}}{\\sigma_{X}^{2}}+\\frac{\\left(y-\\mu_{Y}\\right)^{2}}{\\sigma_{Y}^{2}}-\\frac{2 \\rho\\left(x-\\mu_{X}\\right)\\left(y-\\mu_{Y}\\right)}{\\sigma_{X} \\sigma_{Y}}\\right]\\right)$$\n",
    "\n",
    "$$\\boldsymbol{\\mu}=\\left(\\begin{array}{c}\n",
    "\\mu_{X} \\\\\n",
    "\\mu_{Y}\n",
    "\\end{array}\\right), \\quad \\boldsymbol{\\Sigma}=\\left(\\begin{array}{cc}\n",
    "\\sigma_{X}^{2} & \\rho \\sigma_{X} \\sigma_{Y} \\\\\n",
    "\\rho \\sigma_{X} \\sigma_{Y} & \\sigma_{Y}^{2}\n",
    "\\end{array}\\right)$$"
   ]
  },
  {
   "cell_type": "markdown",
   "metadata": {},
   "source": [
    "1. Simulate a **random sample** of size $n$"
   ]
  },
  {
   "cell_type": "code",
   "execution_count": 53,
   "metadata": {},
   "outputs": [],
   "source": [
    "mu <- c(0,0)\n",
    "sigma <- matrix(c(1,0.9,0.9,1),2,2)\n",
    "n <- 1000"
   ]
  },
  {
   "cell_type": "code",
   "execution_count": 56,
   "metadata": {},
   "outputs": [
    {
     "name": "stdout",
     "output_type": "stream",
     "text": [
      "[1] 0 0\n",
      "     [,1] [,2]\n",
      "[1,]   10    3\n",
      "[2,]    3    2\n"
     ]
    }
   ],
   "source": [
    "print(mu)\n",
    "print(sigma)"
   ]
  },
  {
   "cell_type": "code",
   "execution_count": 70,
   "metadata": {},
   "outputs": [],
   "source": [
    "set.seed(42)\n",
    "x <- mvrnorm(n = n, mu, sigma)\n",
    "df <- data.frame(x)\n",
    "colnames(df) <- c(\"x\", \"y\")"
   ]
  },
  {
   "cell_type": "code",
   "execution_count": 71,
   "metadata": {},
   "outputs": [
    {
     "data": {
      "text/html": [
       "<table>\n",
       "<thead><tr><th scope=col>x</th><th scope=col>y</th></tr></thead>\n",
       "<tbody>\n",
       "\t<tr><td>-3.5783720 </td><td>-3.64361751</td></tr>\n",
       "\t<tr><td> 1.9425233 </td><td> 0.09503448</td></tr>\n",
       "\t<tr><td>-0.8355840 </td><td>-1.30177087</td></tr>\n",
       "\t<tr><td>-1.8720462 </td><td>-1.02138027</td></tr>\n",
       "\t<tr><td>-1.5869424 </td><td> 0.52082518</td></tr>\n",
       "\t<tr><td> 0.1449723 </td><td> 0.67812639</td></tr>\n",
       "</tbody>\n",
       "</table>\n"
      ],
      "text/latex": [
       "\\begin{tabular}{r|ll}\n",
       " x & y\\\\\n",
       "\\hline\n",
       "\t -3.5783720  & -3.64361751\\\\\n",
       "\t  1.9425233  &  0.09503448\\\\\n",
       "\t -0.8355840  & -1.30177087\\\\\n",
       "\t -1.8720462  & -1.02138027\\\\\n",
       "\t -1.5869424  &  0.52082518\\\\\n",
       "\t  0.1449723  &  0.67812639\\\\\n",
       "\\end{tabular}\n"
      ],
      "text/markdown": [
       "\n",
       "| x | y |\n",
       "|---|---|\n",
       "| -3.5783720  | -3.64361751 |\n",
       "|  1.9425233  |  0.09503448 |\n",
       "| -0.8355840  | -1.30177087 |\n",
       "| -1.8720462  | -1.02138027 |\n",
       "| -1.5869424  |  0.52082518 |\n",
       "|  0.1449723  |  0.67812639 |\n",
       "\n"
      ],
      "text/plain": [
       "  x          y          \n",
       "1 -3.5783720 -3.64361751\n",
       "2  1.9425233  0.09503448\n",
       "3 -0.8355840 -1.30177087\n",
       "4 -1.8720462 -1.02138027\n",
       "5 -1.5869424  0.52082518\n",
       "6  0.1449723  0.67812639"
      ]
     },
     "metadata": {},
     "output_type": "display_data"
    }
   ],
   "source": [
    "head(df)"
   ]
  },
  {
   "cell_type": "markdown",
   "metadata": {},
   "source": [
    "**Theorem 3.7.2** Suppose $X$ and $Y$ are jointly continuous with joint pdf $f_{X,Y}(x, y)$. Then the marginal\n",
    "pdfs, $f_{X}(x)$ and $f_{Y}(y)$, are given by\n",
    "\n",
    "$$f_{X}(x)=\\int_{-\\infty}^{\\infty} f_{X, Y}(x, y) d y \\quad \\text { and } \\quad f_{Y}(y)=\\int_{-\\infty}^{\\infty} f_{X, Y}(x, y) d x$$"
   ]
  },
  {
   "cell_type": "markdown",
   "metadata": {},
   "source": [
    "In the case of the normal distribution, it can be shown that if $X$ and $Y$ distribute jointly normal:\n",
    "\n",
    "$$N\\left(\\left(\\begin{array}{c}\\mu_{X} \\\\ \\mu_{Y} \\end{array}\\right), \\left(\\begin{array}{cc} \\sigma_{X}^{2} & \\rho \\sigma_{X} \\sigma_{Y} \\\\ \\rho \\sigma_{X} \\sigma_{Y} & \\sigma_{Y}^{2}\\end{array}\\right)\\right)$$. \n",
    "\n",
    "Then, the marginal of $X$, $f_{X}(x)$, is given by $N(\\mu_{x},\\sigma_{x}^{2})$ while the marginal of $y$, $f_{X}(x)$, is $N(\\mu_{y},\\sigma_{y}^{2}$)."
   ]
  },
  {
   "cell_type": "code",
   "execution_count": 84,
   "metadata": {},
   "outputs": [
    {
     "data": {
      "image/png": "[encoded data removed]",
      "text/plain": [
       "plot without title"
      ]
     },
     "metadata": {},
     "output_type": "display_data"
    }
   ],
   "source": [
    "options(repr.plot.width=4, repr.plot.height=3)\n",
    "ggplot(data.frame(x = c(-4, 4)), aes(x = x)) + \n",
    "stat_function(fun = dnorm, args = list(0, 1),colour = \"red\",size = 0.7) +\n",
    "scale_x_continuous(name = \"Marginals of x and y\") + \n",
    "scale_y_continuous(name = \"Density\") + theme_bw()"
   ]
  },
  {
   "cell_type": "code",
   "execution_count": 34,
   "metadata": {},
   "outputs": [],
   "source": [
    "suppressWarnings(library(MASS))"
   ]
  },
  {
   "cell_type": "code",
   "execution_count": null,
   "metadata": {},
   "outputs": [],
   "source": [
    "suppressWarnings(library(RColorBrewer))"
   ]
  },
  {
   "cell_type": "markdown",
   "metadata": {},
   "source": [
    "The function ```brewer.pal()```  returns the color code information for different pallets of colors. For this example we are using the pallet ```Spectral```"
   ]
  },
  {
   "cell_type": "code",
   "execution_count": 111,
   "metadata": {},
   "outputs": [
    {
     "data": {
      "image/png": "[encoded data removed]",
      "text/plain": [
       "plot without title"
      ]
     },
     "metadata": {},
     "output_type": "display_data"
    }
   ],
   "source": [
    "options(repr.plot.width=2.5, repr.plot.height=3)\n",
    "display.brewer.pal(11,\"Spectral\")"
   ]
  },
  {
   "cell_type": "code",
   "execution_count": 115,
   "metadata": {},
   "outputs": [
    {
     "data": {
      "text/html": [
       "11"
      ],
      "text/latex": [
       "11"
      ],
      "text/markdown": [
       "11"
      ],
      "text/plain": [
       "[1] 11"
      ]
     },
     "metadata": {},
     "output_type": "display_data"
    }
   ],
   "source": [
    "length(rev(brewer.pal(11,'Spectral')))"
   ]
  },
  {
   "cell_type": "markdown",
   "metadata": {},
   "source": [
    "The function ```colorRampPalette``` create intermediate colors between the existing pallet and return their color code. In this case the total number of colors is 32."
   ]
  },
  {
   "cell_type": "code",
   "execution_count": 121,
   "metadata": {},
   "outputs": [
    {
     "data": {
      "text/html": [
       "32"
      ],
      "text/latex": [
       "32"
      ],
      "text/markdown": [
       "32"
      ],
      "text/plain": [
       "[1] 32"
      ]
     },
     "metadata": {},
     "output_type": "display_data"
    }
   ],
   "source": [
    "rf <- colorRampPalette(rev(brewer.pal(11,'Spectral')))\n",
    "r <- rf(32)"
   ]
  },
  {
   "cell_type": "code",
   "execution_count": null,
   "metadata": {},
   "outputs": [],
   "source": [
    "# Create histograms \n",
    "\n",
    "h1 <- hist(df$x, breaks=25, plot=FALSE)\n",
    "h2 <- hist(df$y, breaks=25, plot=FALSE)\n",
    "top <- max(h1$counts, h2$counts)"
   ]
  },
  {
   "cell_type": "code",
   "execution_count": 91,
   "metadata": {},
   "outputs": [],
   "source": [
    "# Devide the conitnous space between -4  and 4 into dicrete sections and assign frequencies to each\n",
    "\n",
    "k <- kde2d(df$x, df$y, n=25)"
   ]
  },
  {
   "cell_type": "markdown",
   "metadata": {},
   "source": [
    "The ```par()``` function is used to define the parameters to put multiple graphs in the same plot. There is a long list of parameters which you can access through ```?par```. In this case we are using the parameter ```mar``` which is a numeric vector of length 4, which sets the margin sizes in the following order: bottom, left, top, and right. \n",
    "\n",
    "The ```layout()``` function can also be used to combine  multiple graphs in the same plot. In this case we are dividing the plot into 4."
   ]
  },
  {
   "cell_type": "code",
   "execution_count": 133,
   "metadata": {},
   "outputs": [
    {
     "data": {
      "text/html": [
       "<table>\n",
       "<tbody>\n",
       "\t<tr><td>2</td><td>0</td></tr>\n",
       "\t<tr><td>1</td><td>3</td></tr>\n",
       "</tbody>\n",
       "</table>\n"
      ],
      "text/latex": [
       "\\begin{tabular}{ll}\n",
       "\t 2 & 0\\\\\n",
       "\t 1 & 3\\\\\n",
       "\\end{tabular}\n"
      ],
      "text/markdown": [
       "\n",
       "| 2 | 0 |\n",
       "| 1 | 3 |\n",
       "\n"
      ],
      "text/plain": [
       "     [,1] [,2]\n",
       "[1,] 2    0   \n",
       "[2,] 1    3   "
      ]
     },
     "metadata": {},
     "output_type": "display_data"
    }
   ],
   "source": [
    "matrix(c(2,0,1,3),2,2,byrow=T)"
   ]
  },
  {
   "cell_type": "markdown",
   "metadata": {},
   "source": [
    "In this case in the first position we will plot Graph 1, in the second position nothing, in the third position graph 1, and in the four position plot 3."
   ]
  },
  {
   "cell_type": "code",
   "execution_count": 143,
   "metadata": {},
   "outputs": [
    {
     "data": {
      "image/png": "[encoded data removed]",
      "text/plain": [
       "plot without title"
      ]
     },
     "metadata": {},
     "output_type": "display_data"
    }
   ],
   "source": [
    "# Define the layout\n",
    "layout(matrix(c(2,0,1,3),2,2,byrow=T),c(3,1), c(1,3))\n",
    "\n",
    "options(repr.plot.width=5, repr.plot.height=4)\n",
    "\n",
    "# Graph #1: Create the 2d histogram, comparison color rev(brewer.pal(11,'Spectral'))\n",
    "par(mar=c(3,3,1,1))\n",
    "image(k, col=r) #plot the image\n",
    "\n",
    "# Graph #2: first histogram\n",
    "par(mar=c(0,2,1,0))\n",
    "barplot(h1$counts, axes=FALSE, ylim=c(0, top), space=0, col='red')\n",
    "\n",
    "# Graph #3: second histogram\n",
    "par(mar=c(2,0,0,1))\n",
    "barplot(h2$counts, axes=FALSE, xlim=c(0, top), space=0, col='red', horiz=T)"
   ]
  },
  {
   "cell_type": "markdown",
   "metadata": {},
   "source": [
    "What if the two random variables are **independent**?"
   ]
  },
  {
   "cell_type": "markdown",
   "metadata": {},
   "source": [
    "**Theorem 3.7.4** The continuous random variables $X$ and $Y$ are independent if and only if there are functions $g(x)$ and $h(y)$ such that\n",
    "\n",
    "$$f_{X, Y}(x, y)=g(x) h(y)$$"
   ]
  },
  {
   "cell_type": "markdown",
   "metadata": {},
   "source": [
    "For the case of the normal distribution (<span style=\"color:red\">only for the normal</span>), it can be shown that no correlation ($\\rho = 0$) implies independence. "
   ]
  },
  {
   "cell_type": "code",
   "execution_count": 144,
   "metadata": {},
   "outputs": [],
   "source": [
    "sigma_i <- matrix(c(1,0,0,1),2,2)"
   ]
  },
  {
   "cell_type": "code",
   "execution_count": 147,
   "metadata": {},
   "outputs": [],
   "source": [
    "set.seed(42)\n",
    "x_ind <- mvrnorm(n = n, mu, sigma_i)\n",
    "df_ind <- data.frame(x_ind)\n",
    "colnames(df_ind) <- c(\"x_ind\", \"y_ind\")"
   ]
  },
  {
   "cell_type": "code",
   "execution_count": 152,
   "metadata": {},
   "outputs": [
    {
     "data": {
      "image/png": "[encoded data removed]",
      "text/plain": [
       "plot without title"
      ]
     },
     "metadata": {},
     "output_type": "display_data"
    }
   ],
   "source": [
    "# Create histograms \n",
    "\n",
    "h1i <- hist(df_ind$x_ind, breaks=22, plot=FALSE)\n",
    "h2i <- hist(df_ind$y_ind, breaks=22, plot=FALSE)\n",
    "topi <- max(h1i$counts, h2i$counts)\n",
    "ki <- kde2d(df_ind$x_ind, df_ind$y_ind, n=25)\n",
    "\n",
    "layout(matrix(c(2,0,1,3),2,2,byrow=T),c(3,1), c(1,3))\n",
    "options(repr.plot.width=5, repr.plot.height=4)\n",
    "\n",
    "par(mar=c(3,3,1,1))\n",
    "image(ki, col=r) \n",
    "\n",
    "par(mar=c(0,2,1,0))\n",
    "barplot(h1i$counts, axes=FALSE, ylim=c(0, top), space=0, col='red')\n",
    "\n",
    "par(mar=c(2,0,0,1))\n",
    "barplot(h2i$counts, axes=FALSE, xlim=c(0, top), space=0, col='red', horiz=T)"
   ]
  }
 ],
 "metadata": {
  "kernelspec": {
   "display_name": "R",
   "language": "R",
   "name": "ir"
  },
  "language_info": {
   "codemirror_mode": "r",
   "file_extension": ".r",
   "mimetype": "text/x-r-source",
   "name": "R",
   "pygments_lexer": "r",
   "version": "3.6.1"
  }
 },
 "nbformat": 4,
 "nbformat_minor": 4
}
