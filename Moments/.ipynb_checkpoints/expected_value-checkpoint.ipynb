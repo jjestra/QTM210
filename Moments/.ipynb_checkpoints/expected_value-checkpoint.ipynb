{
 "cells": [
  {
   "cell_type": "markdown",
   "metadata": {},
   "source": [
    "# Expected Values"
   ]
  },
  {
   "cell_type": "markdown",
   "metadata": {},
   "source": [
    "Review: **probability density functions** provide a global overview of the random variable's behavior."
   ]
  },
  {
   "cell_type": "code",
   "execution_count": 4,
   "metadata": {},
   "outputs": [],
   "source": [
    "suppressWarnings(library('gridExtra'))\n",
    "suppressWarnings(library('ggplot2'))"
   ]
  },
  {
   "cell_type": "code",
   "execution_count": 8,
   "metadata": {},
   "outputs": [
    {
     "data": {
      "image/png": "[encoded data removed]",
      "text/plain": [
       "plot without title"
      ]
     },
     "metadata": {},
     "output_type": "display_data"
    }
   ],
   "source": [
    "discrete <- ggplot(data.frame(x = 1:20, y = dbinom(1:20, 20, 0.8)), aes(x = x, y = y)) + \n",
    "            geom_bar(stat = \"identity\") +\n",
    "            scale_y_continuous(expand = c(0.01, 0)) + xlab(\"Random Variable X\") + ylab(\"Density\") + \n",
    "            theme(plot.title = element_text(size = rel(1.2), vjust = 1.5))\n",
    "\n",
    "continous<-ggplot(data.frame(x = c(-4, 4)), aes(x = x)) + \n",
    "           stat_function(fun = dnorm, args = list(0, 1),colour = \"dodgerblue3\",size = 0.7) +\n",
    "           scale_x_continuous(name = \"Random Variable Y\") + \n",
    "           scale_y_continuous(name = \"Density\") +\n",
    "           theme_bw()\n",
    "\n",
    "options(repr.plot.width=7, repr.plot.height=3)\n",
    "grid.arrange(discrete, continous, ncol=2)"
   ]
  },
  {
   "cell_type": "markdown",
   "metadata": {},
   "source": [
    "- <span style=\"color:green\">**Advantage**:</span> PDF details the likelihood of observing **each** value in the **entire** domain of the random variable.\n",
    "- <span style=\"color:red\">**Disadvantage**:</span> it may provide more information than necessary. Often it is more helpful to summarize certain features of the distribution in only one number."
   ]
  },
  {
   "cell_type": "markdown",
   "metadata": {},
   "source": [
    "**Central tendency**: intuitively, a central tendency measure is a value where the random variable realizations will tend to lie. One of the most widely used central tendency measures is the **expected value**."
   ]
  },
  {
   "cell_type": "markdown",
   "metadata": {},
   "source": [
    "**Definition 1 (expected value):** let $X$ be a **discrete** random variable with probability function $P_{X}(k)$. The *expected value* of $X$ is denoted by $E(X)$ and is given by\n",
    "\n",
    "$$E(X)=\\sum_{\\text {all } k} k \\cdot p_{X}(k)$$\n",
    "\n",
    "Similarly, if $Y$ is a **continuous** random variable with pdf $f_{Y}(y)dy$\n",
    "\n",
    "$$E(Y)=\\int_{-\\infty}^{\\infty} y \\cdot f_{Y}(y) d y$$"
   ]
  },
  {
   "cell_type": "markdown",
   "metadata": {},
   "source": [
    "### Example 1:\n",
    "\n",
    "Calculating the expected value of the binomial distribution from scratch. In class you covered Theorem 3.5.1 from the textbook. The theorem states that if $X$ is a binomial random variable with parameters $n$ and $p$, them $E(X)=np$."
   ]
  },
  {
   "cell_type": "code",
   "execution_count": 13,
   "metadata": {},
   "outputs": [
    {
     "name": "stdout",
     "output_type": "stream",
     "text": [
      "[1] \"E(X)=16\"\n"
     ]
    }
   ],
   "source": [
    "# Let's consider the binomial random variable with parameters n=20 and p=0.8\n",
    "\n",
    "n <-20\n",
    "p <-0.8\n",
    "print(paste0('E(X)=',n*p))"
   ]
  },
  {
   "cell_type": "markdown",
   "metadata": {},
   "source": [
    "To better understand how to apply the definition of expected value and to practice some R skills, let's calculate the expectation of the binomial from scratch:\n",
    "\n",
    "- First, we need to know what is the domain of the random variable $X$. That is, the set of $k$ values for which $p_{X}(k)>0$. Clearly, it is impossible to obtain more successes than the total number of trials while obtaining zero successes is still plausible. "
   ]
  },
  {
   "cell_type": "code",
   "execution_count": 16,
   "metadata": {},
   "outputs": [
    {
     "data": {
      "text/html": [
       "<ol class=list-inline>\n",
       "\t<li>1.048576e-14</li>\n",
       "\t<li>8.388608e-13</li>\n",
       "\t<li>3.18767103999999e-11</li>\n",
       "\t<li>7.65041049600003e-10</li>\n",
       "\t<li>1.30056978431999e-08</li>\n",
       "\t<li>1.6647293239296e-07</li>\n",
       "\t<li>1.66472932392959e-06</li>\n",
       "\t<li>1.33178345914368e-05</li>\n",
       "\t<li>8.6565924844339e-05</li>\n",
       "\t<li>0.000461684932503141</li>\n",
       "\t<li>0.00203141370301382</li>\n",
       "\t<li>0.00738695892005027</li>\n",
       "\t<li>0.0221608767601508</li>\n",
       "\t<li>0.054549850486525</li>\n",
       "\t<li>0.10909970097305</li>\n",
       "\t<li>0.17455952155688</li>\n",
       "\t<li>0.218199401946101</li>\n",
       "\t<li>0.205364143008095</li>\n",
       "\t<li>0.136909428672063</li>\n",
       "\t<li>0.0576460752303424</li>\n",
       "\t<li>0.0115292150460685</li>\n",
       "\t<li>0</li>\n",
       "</ol>\n"
      ],
      "text/latex": [
       "\\begin{enumerate*}\n",
       "\\item 1.048576e-14\n",
       "\\item 8.388608e-13\n",
       "\\item 3.18767103999999e-11\n",
       "\\item 7.65041049600003e-10\n",
       "\\item 1.30056978431999e-08\n",
       "\\item 1.6647293239296e-07\n",
       "\\item 1.66472932392959e-06\n",
       "\\item 1.33178345914368e-05\n",
       "\\item 8.6565924844339e-05\n",
       "\\item 0.000461684932503141\n",
       "\\item 0.00203141370301382\n",
       "\\item 0.00738695892005027\n",
       "\\item 0.0221608767601508\n",
       "\\item 0.054549850486525\n",
       "\\item 0.10909970097305\n",
       "\\item 0.17455952155688\n",
       "\\item 0.218199401946101\n",
       "\\item 0.205364143008095\n",
       "\\item 0.136909428672063\n",
       "\\item 0.0576460752303424\n",
       "\\item 0.0115292150460685\n",
       "\\item 0\n",
       "\\end{enumerate*}\n"
      ],
      "text/markdown": [
       "1. 1.048576e-14\n",
       "2. 8.388608e-13\n",
       "3. 3.18767103999999e-11\n",
       "4. 7.65041049600003e-10\n",
       "5. 1.30056978431999e-08\n",
       "6. 1.6647293239296e-07\n",
       "7. 1.66472932392959e-06\n",
       "8. 1.33178345914368e-05\n",
       "9. 8.6565924844339e-05\n",
       "10. 0.000461684932503141\n",
       "11. 0.00203141370301382\n",
       "12. 0.00738695892005027\n",
       "13. 0.0221608767601508\n",
       "14. 0.054549850486525\n",
       "15. 0.10909970097305\n",
       "16. 0.17455952155688\n",
       "17. 0.218199401946101\n",
       "18. 0.205364143008095\n",
       "19. 0.136909428672063\n",
       "20. 0.0576460752303424\n",
       "21. 0.0115292150460685\n",
       "22. 0\n",
       "\n",
       "\n"
      ],
      "text/plain": [
       " [1] 1.048576e-14 8.388608e-13 3.187671e-11 7.650410e-10 1.300570e-08\n",
       " [6] 1.664729e-07 1.664729e-06 1.331783e-05 8.656592e-05 4.616849e-04\n",
       "[11] 2.031414e-03 7.386959e-03 2.216088e-02 5.454985e-02 1.090997e-01\n",
       "[16] 1.745595e-01 2.181994e-01 2.053641e-01 1.369094e-01 5.764608e-02\n",
       "[21] 1.152922e-02 0.000000e+00"
      ]
     },
     "metadata": {},
     "output_type": "display_data"
    }
   ],
   "source": [
    "# One easy way to confirm the previous statment is to use:\n",
    "dbinom(0:21, n, p)"
   ]
  },
  {
   "cell_type": "markdown",
   "metadata": {},
   "source": [
    "Following the expected value formula $\\left(E(X)=\\sum_{\\text {all } k} k \\cdot p_{X}(k)\\right)$, we need to take all the values of $k \\in [0,20]$ and multiply each by its likelihood of occurrence. Let's illustrate the process with a graph:"
   ]
  },
  {
   "cell_type": "code",
   "execution_count": 27,
   "metadata": {},
   "outputs": [
    {
     "data": {
      "image/png": "[encoded data removed]",
      "text/plain": [
       "plot without title"
      ]
     },
     "metadata": {},
     "output_type": "display_data"
    }
   ],
   "source": [
    "ggplot(data=data.frame(k=0:20,density=dbinom(0:20, n, p)),aes(x = k, y = density)) +\n",
    "  geom_col() +\n",
    "  geom_text(aes(label = round(density,2), y = density + 0.01), position = position_dodge(0.9),size = 3,vjust = 0)"
   ]
  },
  {
   "cell_type": "markdown",
   "metadata": {},
   "source": [
    "$E(X)=\\sum_{\\text {all } k} k \\cdot p_{X}(k)=0.0004 \\times 10+0.007 \\times 11+0.022 \\times 12+\\dots+0.011 \\times 20$"
   ]
  },
  {
   "cell_type": "code",
   "execution_count": 54,
   "metadata": {},
   "outputs": [],
   "source": [
    "# Create a function to calculate the expectation of a discrete random variable\n",
    "\n",
    "Ec <- function(pdf,pdf_parameters,ki,kf){\n",
    "    expectation <- 0\n",
    "    for (j in ki:kf){\n",
    "        expectation <- expectation + do.call(pdf,c(j,pdf_parameters))*j\n",
    "    }\n",
    "    return(expectation)\n",
    "}"
   ]
  },
  {
   "cell_type": "code",
   "execution_count": 55,
   "metadata": {},
   "outputs": [
    {
     "data": {
      "text/html": [
       "16"
      ],
      "text/latex": [
       "16"
      ],
      "text/markdown": [
       "16"
      ],
      "text/plain": [
       "[1] 16"
      ]
     },
     "metadata": {},
     "output_type": "display_data"
    }
   ],
   "source": [
    "Ec(dbinom,list(n,p),0,20)"
   ]
  },
  {
   "cell_type": "markdown",
   "metadata": {},
   "source": [
    "To confirm that the function works for any arbitrary discrete function. I will also try the **Hypergeometric Distribution**. In class you showed that if $X$ distributes hypergeometric with parameters $r,w$ and $n$, then $E(X)= \\frac{rn}{r+w}$. In words, $r$ and $w$ represent the number of red and white balls. A sample of size $n$ is drawn from the container. "
   ]
  },
  {
   "cell_type": "code",
   "execution_count": 82,
   "metadata": {},
   "outputs": [
    {
     "name": "stdout",
     "output_type": "stream",
     "text": [
      "[1] \"E(X)=4.4\"\n"
     ]
    }
   ],
   "source": [
    "# Let's assume n=20, r=5, w=15. \n",
    "n <- 11\n",
    "r <- 10 \n",
    "w <- 15\n",
    "print(paste0('E(X)=',((r*n)/(r+w))))"
   ]
  },
  {
   "cell_type": "code",
   "execution_count": 83,
   "metadata": {},
   "outputs": [
    {
     "data": {
      "text/html": [
       "4.4"
      ],
      "text/latex": [
       "4.4"
      ],
      "text/markdown": [
       "4.4"
      ],
      "text/plain": [
       "[1] 4.4"
      ]
     },
     "metadata": {},
     "output_type": "display_data"
    }
   ],
   "source": [
    "Ec(dhyper,list(r,w,n),0,11)"
   ]
  },
  {
   "cell_type": "markdown",
   "metadata": {},
   "source": [
    "### Example 2:\n",
    "\n",
    "Extension to any continuous variable"
   ]
  },
  {
   "cell_type": "code",
   "execution_count": null,
   "metadata": {},
   "outputs": [],
   "source": [
    "integrate(dnorm, lower = -Inf, upper = 1)"
   ]
  },
  {
   "cell_type": "code",
   "execution_count": 88,
   "metadata": {},
   "outputs": [
    {
     "data": {
      "text/html": [
       "0.00443184841193801"
      ],
      "text/latex": [
       "0.00443184841193801"
      ],
      "text/markdown": [
       "0.00443184841193801"
      ],
      "text/plain": [
       "[1] 0.004431848"
      ]
     },
     "metadata": {},
     "output_type": "display_data"
    }
   ],
   "source": [
    "do.call(dnorm,list(0,3))"
   ]
  }
 ],
 "metadata": {
  "kernelspec": {
   "display_name": "R",
   "language": "R",
   "name": "ir"
  },
  "language_info": {
   "codemirror_mode": "r",
   "file_extension": ".r",
   "mimetype": "text/x-r-source",
   "name": "R",
   "pygments_lexer": "r",
   "version": "3.6.1"
  }
 },
 "nbformat": 4,
 "nbformat_minor": 4
}
