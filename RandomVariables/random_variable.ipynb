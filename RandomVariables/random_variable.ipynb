{
 "cells": [
  {
   "cell_type": "markdown",
   "metadata": {},
   "source": [
    "# Review:"
   ]
  },
  {
   "cell_type": "markdown",
   "metadata": {},
   "source": [
    "## Main Concepts:\n",
    "\n",
    "- **Combinatronics:** useful to calculate sample space (permutations and combinations)\n",
    "- **Probability function:** axiomatic definition and asymptotic interpretation\n",
    "- **Conditional probability:** how to update the probability of an event after new information is acquire\n",
    "- **Conditional Probabilities of higher order intersections:** relationship between the joint and conditional probabilities \n",
    "- **Baye's rule:** calculation of conditional probabilities based on the law of the total probability \n",
    "- **Independence:** $\\mathbb{P}(A \\cap B)=\\mathbb{P}(A)\\mathbb{P}(B)$\n",
    "\n",
    "\n",
    "## Coding:\n",
    "\n",
    "- **Simulation techniques (Monte Carlo simulations):** calculation of empirical probabilities based on repeating experiments many times.\n",
    "- **Construction of functions:** the basic use was to create sampling procedures and calculate empirical probabilities.\n",
    "- **Graphs:** graphing histograms (including creation of new colors) and line plots using the built in graphing function in R\n",
    "- **Frequently used:** for loops, initialization of empty vectors, logic operators (==, &, string detector), sampling and append."
   ]
  },
  {
   "cell_type": "markdown",
   "metadata": {},
   "source": [
    "# Random Variables"
   ]
  },
  {
   "cell_type": "markdown",
   "metadata": {},
   "source": [
    "- A statistical experiments produces an outcome in a sample space. The probability function assigns a value between 0 and 1 to an event given a sample space: $$P: A\\in S \\rightarrow P(A)\\in[0,1]$$ \n",
    "<p>&nbsp;</p>\n",
    "- **However,  frequently we are more interested in a number that summarizes the outcomes.** \n",
    "<p>&nbsp;</p>\n",
    "- **For instance,** if we randomly select a person with a fever and provide her with a dosage of medicine, the sample space might be the set of all people who currently have a fever. More than calculate the probability of certain event, we are interested in the summary value of **how much did the temperature of the patient decrease**."
   ]
  },
  {
   "cell_type": "markdown",
   "metadata": {},
   "source": [
    "### Definition\n",
    "\n",
    "Let $S$ be the sample space of an experiment. A *random variable* is a function $X$ mapping from $S$ to the real (natural) numbers.\n",
    "\n",
    "#### Relationship between an event from the sample space and the random variable\n",
    "suppose $X$ is a *random variable*. The events in the sample space are defined by the values of $X$. For instance $X=2$ is the event consisting of all the outcomes $s \\in S$ such that $X(s)=2$."
   ]
  },
  {
   "cell_type": "markdown",
   "metadata": {},
   "source": [
    "### Example: "
   ]
  },
  {
   "cell_type": "code",
   "execution_count": 26,
   "metadata": {},
   "outputs": [],
   "source": [
    "suppressWarnings(library(stringr))"
   ]
  },
  {
   "cell_type": "code",
   "execution_count": 27,
   "metadata": {},
   "outputs": [
    {
     "data": {
      "text/html": [
       "<ol class=list-inline>\n",
       "\t<li>3</li>\n",
       "\t<li>2</li>\n",
       "\t<li>2</li>\n",
       "\t<li>1</li>\n",
       "\t<li>2</li>\n",
       "\t<li>1</li>\n",
       "\t<li>1</li>\n",
       "\t<li>0</li>\n",
       "</ol>\n"
      ],
      "text/latex": [
       "\\begin{enumerate*}\n",
       "\\item 3\n",
       "\\item 2\n",
       "\\item 2\n",
       "\\item 1\n",
       "\\item 2\n",
       "\\item 1\n",
       "\\item 1\n",
       "\\item 0\n",
       "\\end{enumerate*}\n"
      ],
      "text/markdown": [
       "1. 3\n",
       "2. 2\n",
       "3. 2\n",
       "4. 1\n",
       "5. 2\n",
       "6. 1\n",
       "7. 1\n",
       "8. 0\n",
       "\n",
       "\n"
      ],
      "text/plain": [
       "[1] 3 2 2 1 2 1 1 0"
      ]
     },
     "metadata": {},
     "output_type": "display_data"
    }
   ],
   "source": []
  },
  {
   "cell_type": "code",
   "execution_count": 30,
   "metadata": {
    "scrolled": true
   },
   "outputs": [
    {
     "data": {
      "text/html": [
       "<ol class=list-inline>\n",
       "\t<li>3</li>\n",
       "\t<li>2</li>\n",
       "\t<li>2</li>\n",
       "\t<li>1</li>\n",
       "\t<li>2</li>\n",
       "\t<li>1</li>\n",
       "\t<li>1</li>\n",
       "\t<li>0</li>\n",
       "</ol>\n"
      ],
      "text/latex": [
       "\\begin{enumerate*}\n",
       "\\item 3\n",
       "\\item 2\n",
       "\\item 2\n",
       "\\item 1\n",
       "\\item 2\n",
       "\\item 1\n",
       "\\item 1\n",
       "\\item 0\n",
       "\\end{enumerate*}\n"
      ],
      "text/markdown": [
       "1. 3\n",
       "2. 2\n",
       "3. 2\n",
       "4. 1\n",
       "5. 2\n",
       "6. 1\n",
       "7. 1\n",
       "8. 0\n",
       "\n",
       "\n"
      ],
      "text/plain": [
       "[1] 3 2 2 1 2 1 1 0"
      ]
     },
     "metadata": {},
     "output_type": "display_data"
    }
   ],
   "source": [
    "#Suppose that 3 coins are tossed, the sample space is:\n",
    "S=c('HHH','HHT','HTH','HTT','THH','THT','TTH','TTT')\n",
    "\n",
    "\n",
    "#The random variable X can be defined as: number of heads observed. Then X is a function mapping from S to the Naturals\n",
    "X<-function(S){\n",
    "    str_count(S,'H')\n",
    "}\n",
    "\n",
    "X(S)"
   ]
  },
  {
   "cell_type": "markdown",
   "metadata": {},
   "source": [
    "We can use the connection between the random variable and the sample space to find probabilities based on the *random variable* $X$. For instance:\n",
    "\n",
    "$$P(X=2)=P(\\{HHT,HTH,THH\\})=\\frac{3}{8}$$\n"
   ]
  },
  {
   "cell_type": "code",
   "execution_count": 31,
   "metadata": {},
   "outputs": [
    {
     "data": {
      "text/html": [
       "<ol class=list-inline>\n",
       "\t<li>FALSE</li>\n",
       "\t<li>TRUE</li>\n",
       "\t<li>TRUE</li>\n",
       "\t<li>FALSE</li>\n",
       "\t<li>TRUE</li>\n",
       "\t<li>FALSE</li>\n",
       "\t<li>FALSE</li>\n",
       "\t<li>FALSE</li>\n",
       "</ol>\n"
      ],
      "text/latex": [
       "\\begin{enumerate*}\n",
       "\\item FALSE\n",
       "\\item TRUE\n",
       "\\item TRUE\n",
       "\\item FALSE\n",
       "\\item TRUE\n",
       "\\item FALSE\n",
       "\\item FALSE\n",
       "\\item FALSE\n",
       "\\end{enumerate*}\n"
      ],
      "text/markdown": [
       "1. FALSE\n",
       "2. TRUE\n",
       "3. TRUE\n",
       "4. FALSE\n",
       "5. TRUE\n",
       "6. FALSE\n",
       "7. FALSE\n",
       "8. FALSE\n",
       "\n",
       "\n"
      ],
      "text/plain": [
       "[1] FALSE  TRUE  TRUE FALSE  TRUE FALSE FALSE FALSE"
      ]
     },
     "metadata": {},
     "output_type": "display_data"
    },
    {
     "data": {
      "text/html": [
       "0.375"
      ],
      "text/latex": [
       "0.375"
      ],
      "text/markdown": [
       "0.375"
      ],
      "text/plain": [
       "[1] 0.375"
      ]
     },
     "metadata": {},
     "output_type": "display_data"
    }
   ],
   "source": [
    "X(S)==2\n",
    "mean(X(S)==2)"
   ]
  },
  {
   "cell_type": "code",
   "execution_count": 33,
   "metadata": {},
   "outputs": [
    {
     "data": {
      "text/html": [
       "<ol class=list-inline>\n",
       "\t<li>'THT'</li>\n",
       "\t<li>'THT'</li>\n",
       "\t<li>'THT'</li>\n",
       "\t<li>'THH'</li>\n",
       "\t<li>'HTT'</li>\n",
       "\t<li>'THH'</li>\n",
       "\t<li>'HTH'</li>\n",
       "\t<li>'THT'</li>\n",
       "\t<li>'THH'</li>\n",
       "\t<li>'THT'</li>\n",
       "\t<li>'HTT'</li>\n",
       "\t<li>'TTH'</li>\n",
       "\t<li>'HHH'</li>\n",
       "\t<li>'THH'</li>\n",
       "\t<li>'TTT'</li>\n",
       "\t<li>'HTH'</li>\n",
       "\t<li>'HTH'</li>\n",
       "\t<li>'HHH'</li>\n",
       "\t<li>'HHH'</li>\n",
       "\t<li>'THH'</li>\n",
       "\t<li>'THT'</li>\n",
       "\t<li>'THH'</li>\n",
       "\t<li>'HHH'</li>\n",
       "\t<li>'HTH'</li>\n",
       "\t<li>'THT'</li>\n",
       "\t<li>'THH'</li>\n",
       "\t<li>'THH'</li>\n",
       "\t<li>'HHH'</li>\n",
       "\t<li>'HTT'</li>\n",
       "\t<li>'HHT'</li>\n",
       "\t<li>'HTT'</li>\n",
       "\t<li>'HTT'</li>\n",
       "\t<li>'HHT'</li>\n",
       "\t<li>'HTH'</li>\n",
       "\t<li>'THT'</li>\n",
       "\t<li>'HHT'</li>\n",
       "\t<li>'TTT'</li>\n",
       "\t<li>'HTH'</li>\n",
       "\t<li>'TTT'</li>\n",
       "\t<li>'THT'</li>\n",
       "\t<li>'HHT'</li>\n",
       "\t<li>'HTT'</li>\n",
       "\t<li>'TTH'</li>\n",
       "\t<li>'TTT'</li>\n",
       "\t<li>'HHT'</li>\n",
       "\t<li>'THH'</li>\n",
       "\t<li>'HTH'</li>\n",
       "\t<li>'TTH'</li>\n",
       "\t<li>'THH'</li>\n",
       "\t<li>'HTH'</li>\n",
       "\t<li>'TTT'</li>\n",
       "\t<li>'TTH'</li>\n",
       "\t<li>'HTT'</li>\n",
       "\t<li>'TTT'</li>\n",
       "\t<li>'THT'</li>\n",
       "\t<li>'HTH'</li>\n",
       "\t<li>'HHT'</li>\n",
       "\t<li>'THH'</li>\n",
       "\t<li>'HTT'</li>\n",
       "\t<li>'HTH'</li>\n",
       "\t<li>'HHT'</li>\n",
       "\t<li>'TTH'</li>\n",
       "\t<li>'TTH'</li>\n",
       "\t<li>'HTH'</li>\n",
       "\t<li>'TTH'</li>\n",
       "\t<li>'HTH'</li>\n",
       "\t<li>'HHT'</li>\n",
       "\t<li>'HTH'</li>\n",
       "\t<li>'HHH'</li>\n",
       "\t<li>'THH'</li>\n",
       "\t<li>'THT'</li>\n",
       "\t<li>'HHH'</li>\n",
       "\t<li>'HHT'</li>\n",
       "\t<li>'HHT'</li>\n",
       "\t<li>'HTT'</li>\n",
       "\t<li>'TTT'</li>\n",
       "\t<li>'TTT'</li>\n",
       "\t<li>'THH'</li>\n",
       "\t<li>'THH'</li>\n",
       "\t<li>'TTH'</li>\n",
       "\t<li>'HTT'</li>\n",
       "\t<li>'HTH'</li>\n",
       "\t<li>'TTT'</li>\n",
       "\t<li>'TTH'</li>\n",
       "\t<li>'THH'</li>\n",
       "\t<li>'HTT'</li>\n",
       "\t<li>'THH'</li>\n",
       "\t<li>'HTT'</li>\n",
       "\t<li>'THH'</li>\n",
       "\t<li>'TTT'</li>\n",
       "\t<li>'THT'</li>\n",
       "\t<li>'HHH'</li>\n",
       "\t<li>'HTT'</li>\n",
       "\t<li>'TTH'</li>\n",
       "\t<li>'HHT'</li>\n",
       "\t<li>'HTT'</li>\n",
       "\t<li>'HTT'</li>\n",
       "\t<li>'HTH'</li>\n",
       "\t<li>'HTT'</li>\n",
       "\t<li>'TTT'</li>\n",
       "</ol>\n"
      ],
      "text/latex": [
       "\\begin{enumerate*}\n",
       "\\item 'THT'\n",
       "\\item 'THT'\n",
       "\\item 'THT'\n",
       "\\item 'THH'\n",
       "\\item 'HTT'\n",
       "\\item 'THH'\n",
       "\\item 'HTH'\n",
       "\\item 'THT'\n",
       "\\item 'THH'\n",
       "\\item 'THT'\n",
       "\\item 'HTT'\n",
       "\\item 'TTH'\n",
       "\\item 'HHH'\n",
       "\\item 'THH'\n",
       "\\item 'TTT'\n",
       "\\item 'HTH'\n",
       "\\item 'HTH'\n",
       "\\item 'HHH'\n",
       "\\item 'HHH'\n",
       "\\item 'THH'\n",
       "\\item 'THT'\n",
       "\\item 'THH'\n",
       "\\item 'HHH'\n",
       "\\item 'HTH'\n",
       "\\item 'THT'\n",
       "\\item 'THH'\n",
       "\\item 'THH'\n",
       "\\item 'HHH'\n",
       "\\item 'HTT'\n",
       "\\item 'HHT'\n",
       "\\item 'HTT'\n",
       "\\item 'HTT'\n",
       "\\item 'HHT'\n",
       "\\item 'HTH'\n",
       "\\item 'THT'\n",
       "\\item 'HHT'\n",
       "\\item 'TTT'\n",
       "\\item 'HTH'\n",
       "\\item 'TTT'\n",
       "\\item 'THT'\n",
       "\\item 'HHT'\n",
       "\\item 'HTT'\n",
       "\\item 'TTH'\n",
       "\\item 'TTT'\n",
       "\\item 'HHT'\n",
       "\\item 'THH'\n",
       "\\item 'HTH'\n",
       "\\item 'TTH'\n",
       "\\item 'THH'\n",
       "\\item 'HTH'\n",
       "\\item 'TTT'\n",
       "\\item 'TTH'\n",
       "\\item 'HTT'\n",
       "\\item 'TTT'\n",
       "\\item 'THT'\n",
       "\\item 'HTH'\n",
       "\\item 'HHT'\n",
       "\\item 'THH'\n",
       "\\item 'HTT'\n",
       "\\item 'HTH'\n",
       "\\item 'HHT'\n",
       "\\item 'TTH'\n",
       "\\item 'TTH'\n",
       "\\item 'HTH'\n",
       "\\item 'TTH'\n",
       "\\item 'HTH'\n",
       "\\item 'HHT'\n",
       "\\item 'HTH'\n",
       "\\item 'HHH'\n",
       "\\item 'THH'\n",
       "\\item 'THT'\n",
       "\\item 'HHH'\n",
       "\\item 'HHT'\n",
       "\\item 'HHT'\n",
       "\\item 'HTT'\n",
       "\\item 'TTT'\n",
       "\\item 'TTT'\n",
       "\\item 'THH'\n",
       "\\item 'THH'\n",
       "\\item 'TTH'\n",
       "\\item 'HTT'\n",
       "\\item 'HTH'\n",
       "\\item 'TTT'\n",
       "\\item 'TTH'\n",
       "\\item 'THH'\n",
       "\\item 'HTT'\n",
       "\\item 'THH'\n",
       "\\item 'HTT'\n",
       "\\item 'THH'\n",
       "\\item 'TTT'\n",
       "\\item 'THT'\n",
       "\\item 'HHH'\n",
       "\\item 'HTT'\n",
       "\\item 'TTH'\n",
       "\\item 'HHT'\n",
       "\\item 'HTT'\n",
       "\\item 'HTT'\n",
       "\\item 'HTH'\n",
       "\\item 'HTT'\n",
       "\\item 'TTT'\n",
       "\\end{enumerate*}\n"
      ],
      "text/markdown": [
       "1. 'THT'\n",
       "2. 'THT'\n",
       "3. 'THT'\n",
       "4. 'THH'\n",
       "5. 'HTT'\n",
       "6. 'THH'\n",
       "7. 'HTH'\n",
       "8. 'THT'\n",
       "9. 'THH'\n",
       "10. 'THT'\n",
       "11. 'HTT'\n",
       "12. 'TTH'\n",
       "13. 'HHH'\n",
       "14. 'THH'\n",
       "15. 'TTT'\n",
       "16. 'HTH'\n",
       "17. 'HTH'\n",
       "18. 'HHH'\n",
       "19. 'HHH'\n",
       "20. 'THH'\n",
       "21. 'THT'\n",
       "22. 'THH'\n",
       "23. 'HHH'\n",
       "24. 'HTH'\n",
       "25. 'THT'\n",
       "26. 'THH'\n",
       "27. 'THH'\n",
       "28. 'HHH'\n",
       "29. 'HTT'\n",
       "30. 'HHT'\n",
       "31. 'HTT'\n",
       "32. 'HTT'\n",
       "33. 'HHT'\n",
       "34. 'HTH'\n",
       "35. 'THT'\n",
       "36. 'HHT'\n",
       "37. 'TTT'\n",
       "38. 'HTH'\n",
       "39. 'TTT'\n",
       "40. 'THT'\n",
       "41. 'HHT'\n",
       "42. 'HTT'\n",
       "43. 'TTH'\n",
       "44. 'TTT'\n",
       "45. 'HHT'\n",
       "46. 'THH'\n",
       "47. 'HTH'\n",
       "48. 'TTH'\n",
       "49. 'THH'\n",
       "50. 'HTH'\n",
       "51. 'TTT'\n",
       "52. 'TTH'\n",
       "53. 'HTT'\n",
       "54. 'TTT'\n",
       "55. 'THT'\n",
       "56. 'HTH'\n",
       "57. 'HHT'\n",
       "58. 'THH'\n",
       "59. 'HTT'\n",
       "60. 'HTH'\n",
       "61. 'HHT'\n",
       "62. 'TTH'\n",
       "63. 'TTH'\n",
       "64. 'HTH'\n",
       "65. 'TTH'\n",
       "66. 'HTH'\n",
       "67. 'HHT'\n",
       "68. 'HTH'\n",
       "69. 'HHH'\n",
       "70. 'THH'\n",
       "71. 'THT'\n",
       "72. 'HHH'\n",
       "73. 'HHT'\n",
       "74. 'HHT'\n",
       "75. 'HTT'\n",
       "76. 'TTT'\n",
       "77. 'TTT'\n",
       "78. 'THH'\n",
       "79. 'THH'\n",
       "80. 'TTH'\n",
       "81. 'HTT'\n",
       "82. 'HTH'\n",
       "83. 'TTT'\n",
       "84. 'TTH'\n",
       "85. 'THH'\n",
       "86. 'HTT'\n",
       "87. 'THH'\n",
       "88. 'HTT'\n",
       "89. 'THH'\n",
       "90. 'TTT'\n",
       "91. 'THT'\n",
       "92. 'HHH'\n",
       "93. 'HTT'\n",
       "94. 'TTH'\n",
       "95. 'HHT'\n",
       "96. 'HTT'\n",
       "97. 'HTT'\n",
       "98. 'HTH'\n",
       "99. 'HTT'\n",
       "100. 'TTT'\n",
       "\n",
       "\n"
      ],
      "text/plain": [
       "  [1] \"THT\" \"THT\" \"THT\" \"THH\" \"HTT\" \"THH\" \"HTH\" \"THT\" \"THH\" \"THT\" \"HTT\" \"TTH\"\n",
       " [13] \"HHH\" \"THH\" \"TTT\" \"HTH\" \"HTH\" \"HHH\" \"HHH\" \"THH\" \"THT\" \"THH\" \"HHH\" \"HTH\"\n",
       " [25] \"THT\" \"THH\" \"THH\" \"HHH\" \"HTT\" \"HHT\" \"HTT\" \"HTT\" \"HHT\" \"HTH\" \"THT\" \"HHT\"\n",
       " [37] \"TTT\" \"HTH\" \"TTT\" \"THT\" \"HHT\" \"HTT\" \"TTH\" \"TTT\" \"HHT\" \"THH\" \"HTH\" \"TTH\"\n",
       " [49] \"THH\" \"HTH\" \"TTT\" \"TTH\" \"HTT\" \"TTT\" \"THT\" \"HTH\" \"HHT\" \"THH\" \"HTT\" \"HTH\"\n",
       " [61] \"HHT\" \"TTH\" \"TTH\" \"HTH\" \"TTH\" \"HTH\" \"HHT\" \"HTH\" \"HHH\" \"THH\" \"THT\" \"HHH\"\n",
       " [73] \"HHT\" \"HHT\" \"HTT\" \"TTT\" \"TTT\" \"THH\" \"THH\" \"TTH\" \"HTT\" \"HTH\" \"TTT\" \"TTH\"\n",
       " [85] \"THH\" \"HTT\" \"THH\" \"HTT\" \"THH\" \"TTT\" \"THT\" \"HHH\" \"HTT\" \"TTH\" \"HHT\" \"HTT\"\n",
       " [97] \"HTT\" \"HTH\" \"HTT\" \"TTT\""
      ]
     },
     "metadata": {},
     "output_type": "display_data"
    },
    {
     "data": {
      "text/html": [
       "<ol class=list-inline>\n",
       "\t<li>1</li>\n",
       "\t<li>1</li>\n",
       "\t<li>1</li>\n",
       "\t<li>2</li>\n",
       "\t<li>1</li>\n",
       "\t<li>2</li>\n",
       "\t<li>2</li>\n",
       "\t<li>1</li>\n",
       "\t<li>2</li>\n",
       "\t<li>1</li>\n",
       "\t<li>1</li>\n",
       "\t<li>1</li>\n",
       "\t<li>3</li>\n",
       "\t<li>2</li>\n",
       "\t<li>0</li>\n",
       "\t<li>2</li>\n",
       "\t<li>2</li>\n",
       "\t<li>3</li>\n",
       "\t<li>3</li>\n",
       "\t<li>2</li>\n",
       "\t<li>1</li>\n",
       "\t<li>2</li>\n",
       "\t<li>3</li>\n",
       "\t<li>2</li>\n",
       "\t<li>1</li>\n",
       "\t<li>2</li>\n",
       "\t<li>2</li>\n",
       "\t<li>3</li>\n",
       "\t<li>1</li>\n",
       "\t<li>2</li>\n",
       "\t<li>1</li>\n",
       "\t<li>1</li>\n",
       "\t<li>2</li>\n",
       "\t<li>2</li>\n",
       "\t<li>1</li>\n",
       "\t<li>2</li>\n",
       "\t<li>0</li>\n",
       "\t<li>2</li>\n",
       "\t<li>0</li>\n",
       "\t<li>1</li>\n",
       "\t<li>2</li>\n",
       "\t<li>1</li>\n",
       "\t<li>1</li>\n",
       "\t<li>0</li>\n",
       "\t<li>2</li>\n",
       "\t<li>2</li>\n",
       "\t<li>2</li>\n",
       "\t<li>1</li>\n",
       "\t<li>2</li>\n",
       "\t<li>2</li>\n",
       "\t<li>0</li>\n",
       "\t<li>1</li>\n",
       "\t<li>1</li>\n",
       "\t<li>0</li>\n",
       "\t<li>1</li>\n",
       "\t<li>2</li>\n",
       "\t<li>2</li>\n",
       "\t<li>2</li>\n",
       "\t<li>1</li>\n",
       "\t<li>2</li>\n",
       "\t<li>2</li>\n",
       "\t<li>1</li>\n",
       "\t<li>1</li>\n",
       "\t<li>2</li>\n",
       "\t<li>1</li>\n",
       "\t<li>2</li>\n",
       "\t<li>2</li>\n",
       "\t<li>2</li>\n",
       "\t<li>3</li>\n",
       "\t<li>2</li>\n",
       "\t<li>1</li>\n",
       "\t<li>3</li>\n",
       "\t<li>2</li>\n",
       "\t<li>2</li>\n",
       "\t<li>1</li>\n",
       "\t<li>0</li>\n",
       "\t<li>0</li>\n",
       "\t<li>2</li>\n",
       "\t<li>2</li>\n",
       "\t<li>1</li>\n",
       "\t<li>1</li>\n",
       "\t<li>2</li>\n",
       "\t<li>0</li>\n",
       "\t<li>1</li>\n",
       "\t<li>2</li>\n",
       "\t<li>1</li>\n",
       "\t<li>2</li>\n",
       "\t<li>1</li>\n",
       "\t<li>2</li>\n",
       "\t<li>0</li>\n",
       "\t<li>1</li>\n",
       "\t<li>3</li>\n",
       "\t<li>1</li>\n",
       "\t<li>1</li>\n",
       "\t<li>2</li>\n",
       "\t<li>1</li>\n",
       "\t<li>1</li>\n",
       "\t<li>2</li>\n",
       "\t<li>1</li>\n",
       "\t<li>0</li>\n",
       "</ol>\n"
      ],
      "text/latex": [
       "\\begin{enumerate*}\n",
       "\\item 1\n",
       "\\item 1\n",
       "\\item 1\n",
       "\\item 2\n",
       "\\item 1\n",
       "\\item 2\n",
       "\\item 2\n",
       "\\item 1\n",
       "\\item 2\n",
       "\\item 1\n",
       "\\item 1\n",
       "\\item 1\n",
       "\\item 3\n",
       "\\item 2\n",
       "\\item 0\n",
       "\\item 2\n",
       "\\item 2\n",
       "\\item 3\n",
       "\\item 3\n",
       "\\item 2\n",
       "\\item 1\n",
       "\\item 2\n",
       "\\item 3\n",
       "\\item 2\n",
       "\\item 1\n",
       "\\item 2\n",
       "\\item 2\n",
       "\\item 3\n",
       "\\item 1\n",
       "\\item 2\n",
       "\\item 1\n",
       "\\item 1\n",
       "\\item 2\n",
       "\\item 2\n",
       "\\item 1\n",
       "\\item 2\n",
       "\\item 0\n",
       "\\item 2\n",
       "\\item 0\n",
       "\\item 1\n",
       "\\item 2\n",
       "\\item 1\n",
       "\\item 1\n",
       "\\item 0\n",
       "\\item 2\n",
       "\\item 2\n",
       "\\item 2\n",
       "\\item 1\n",
       "\\item 2\n",
       "\\item 2\n",
       "\\item 0\n",
       "\\item 1\n",
       "\\item 1\n",
       "\\item 0\n",
       "\\item 1\n",
       "\\item 2\n",
       "\\item 2\n",
       "\\item 2\n",
       "\\item 1\n",
       "\\item 2\n",
       "\\item 2\n",
       "\\item 1\n",
       "\\item 1\n",
       "\\item 2\n",
       "\\item 1\n",
       "\\item 2\n",
       "\\item 2\n",
       "\\item 2\n",
       "\\item 3\n",
       "\\item 2\n",
       "\\item 1\n",
       "\\item 3\n",
       "\\item 2\n",
       "\\item 2\n",
       "\\item 1\n",
       "\\item 0\n",
       "\\item 0\n",
       "\\item 2\n",
       "\\item 2\n",
       "\\item 1\n",
       "\\item 1\n",
       "\\item 2\n",
       "\\item 0\n",
       "\\item 1\n",
       "\\item 2\n",
       "\\item 1\n",
       "\\item 2\n",
       "\\item 1\n",
       "\\item 2\n",
       "\\item 0\n",
       "\\item 1\n",
       "\\item 3\n",
       "\\item 1\n",
       "\\item 1\n",
       "\\item 2\n",
       "\\item 1\n",
       "\\item 1\n",
       "\\item 2\n",
       "\\item 1\n",
       "\\item 0\n",
       "\\end{enumerate*}\n"
      ],
      "text/markdown": [
       "1. 1\n",
       "2. 1\n",
       "3. 1\n",
       "4. 2\n",
       "5. 1\n",
       "6. 2\n",
       "7. 2\n",
       "8. 1\n",
       "9. 2\n",
       "10. 1\n",
       "11. 1\n",
       "12. 1\n",
       "13. 3\n",
       "14. 2\n",
       "15. 0\n",
       "16. 2\n",
       "17. 2\n",
       "18. 3\n",
       "19. 3\n",
       "20. 2\n",
       "21. 1\n",
       "22. 2\n",
       "23. 3\n",
       "24. 2\n",
       "25. 1\n",
       "26. 2\n",
       "27. 2\n",
       "28. 3\n",
       "29. 1\n",
       "30. 2\n",
       "31. 1\n",
       "32. 1\n",
       "33. 2\n",
       "34. 2\n",
       "35. 1\n",
       "36. 2\n",
       "37. 0\n",
       "38. 2\n",
       "39. 0\n",
       "40. 1\n",
       "41. 2\n",
       "42. 1\n",
       "43. 1\n",
       "44. 0\n",
       "45. 2\n",
       "46. 2\n",
       "47. 2\n",
       "48. 1\n",
       "49. 2\n",
       "50. 2\n",
       "51. 0\n",
       "52. 1\n",
       "53. 1\n",
       "54. 0\n",
       "55. 1\n",
       "56. 2\n",
       "57. 2\n",
       "58. 2\n",
       "59. 1\n",
       "60. 2\n",
       "61. 2\n",
       "62. 1\n",
       "63. 1\n",
       "64. 2\n",
       "65. 1\n",
       "66. 2\n",
       "67. 2\n",
       "68. 2\n",
       "69. 3\n",
       "70. 2\n",
       "71. 1\n",
       "72. 3\n",
       "73. 2\n",
       "74. 2\n",
       "75. 1\n",
       "76. 0\n",
       "77. 0\n",
       "78. 2\n",
       "79. 2\n",
       "80. 1\n",
       "81. 1\n",
       "82. 2\n",
       "83. 0\n",
       "84. 1\n",
       "85. 2\n",
       "86. 1\n",
       "87. 2\n",
       "88. 1\n",
       "89. 2\n",
       "90. 0\n",
       "91. 1\n",
       "92. 3\n",
       "93. 1\n",
       "94. 1\n",
       "95. 2\n",
       "96. 1\n",
       "97. 1\n",
       "98. 2\n",
       "99. 1\n",
       "100. 0\n",
       "\n",
       "\n"
      ],
      "text/plain": [
       "  [1] 1 1 1 2 1 2 2 1 2 1 1 1 3 2 0 2 2 3 3 2 1 2 3 2 1 2 2 3 1 2 1 1 2 2 1 2 0\n",
       " [38] 2 0 1 2 1 1 0 2 2 2 1 2 2 0 1 1 0 1 2 2 2 1 2 2 1 1 2 1 2 2 2 3 2 1 3 2 2\n",
       " [75] 1 0 0 2 2 1 1 2 0 1 2 1 2 1 2 0 1 3 1 1 2 1 1 2 1 0"
      ]
     },
     "metadata": {},
     "output_type": "display_data"
    }
   ],
   "source": [
    "#Introduction to probabilility distribution function\n",
    "\n",
    "E<-sample(S,100,replace=TRUE)\n",
    "E_X<-X(E)\n",
    "E\n",
    "E_X"
   ]
  },
  {
   "cell_type": "code",
   "execution_count": 29,
   "metadata": {},
   "outputs": [
    {
     "data": {
      "image/png": "[encoded data removed]",
      "text/plain": [
       "Plot with title \"Histogram of the Random Variable X\""
      ]
     },
     "metadata": {},
     "output_type": "display_data"
    }
   ],
   "source": [
    "c1 <- rgb(173,216,230,max = 255, alpha = 80, names = \"lt.blue\")\n",
    "\n",
    "h1<-hist(E_X, breaks=5, ann=FALSE,col=c1)\n",
    "options(repr.plot.width=5, repr.plot.height=4)\n",
    "title(main=\"Histogram of the Random Variable X\")\n",
    "title(xlab=\"X\")"
   ]
  },
  {
   "cell_type": "markdown",
   "metadata": {},
   "source": [
    "# Some Probability Distributions"
   ]
  },
  {
   "cell_type": "markdown",
   "metadata": {},
   "source": [
    "### The Binomial Probability Distribution\n",
    "\n",
    "Apply to situations involving a series of independent and identical trials ($n$), where each trial can have only one of two possible outcomes. One of the outcomes happens with probability $p$ and the other $1-p$.\n",
    "\n",
    "$$f(k,n,p)=P(X=k;n,p)={n \\choose k}p^{k}(1-p)^{n-k}$$"
   ]
  },
  {
   "cell_type": "code",
   "execution_count": 5,
   "metadata": {},
   "outputs": [],
   "source": [
    "suppressWarnings(library('ggplot2','dplyr'))"
   ]
  },
  {
   "cell_type": "code",
   "execution_count": 39,
   "metadata": {},
   "outputs": [
    {
     "data": {
      "text/html": [
       "0"
      ],
      "text/latex": [
       "0"
      ],
      "text/markdown": [
       "0"
      ],
      "text/plain": [
       "[1] 0"
      ]
     },
     "metadata": {},
     "output_type": "display_data"
    }
   ],
   "source": [
    "dbinom(21,20, 0.5)"
   ]
  },
  {
   "cell_type": "code",
   "execution_count": 35,
   "metadata": {},
   "outputs": [
    {
     "data": {
      "text/html": [
       "0.0147857666015625"
      ],
      "text/latex": [
       "0.0147857666015625"
      ],
      "text/markdown": [
       "0.0147857666015625"
      ],
      "text/plain": [
       "[1] 0.01478577"
      ]
     },
     "metadata": {},
     "output_type": "display_data"
    }
   ],
   "source": [
    "choose(20,5)*(0.5)^(5)*(0.5)^(15)"
   ]
  },
  {
   "cell_type": "code",
   "execution_count": 41,
   "metadata": {},
   "outputs": [
    {
     "data": {
      "text/html": [
       "<ol class=list-inline>\n",
       "\t<li>8.388608e-13</li>\n",
       "\t<li>3.18767103999999e-11</li>\n",
       "\t<li>7.65041049600003e-10</li>\n",
       "\t<li>1.30056978431999e-08</li>\n",
       "\t<li>1.6647293239296e-07</li>\n",
       "\t<li>1.66472932392959e-06</li>\n",
       "\t<li>1.33178345914368e-05</li>\n",
       "\t<li>8.6565924844339e-05</li>\n",
       "\t<li>0.000461684932503141</li>\n",
       "\t<li>0.00203141370301382</li>\n",
       "\t<li>0.00738695892005027</li>\n",
       "\t<li>0.0221608767601508</li>\n",
       "\t<li>0.054549850486525</li>\n",
       "\t<li>0.10909970097305</li>\n",
       "\t<li>0.17455952155688</li>\n",
       "\t<li>0.218199401946101</li>\n",
       "\t<li>0.205364143008095</li>\n",
       "\t<li>0.136909428672063</li>\n",
       "\t<li>0.0576460752303424</li>\n",
       "\t<li>0.0115292150460685</li>\n",
       "</ol>\n"
      ],
      "text/latex": [
       "\\begin{enumerate*}\n",
       "\\item 8.388608e-13\n",
       "\\item 3.18767103999999e-11\n",
       "\\item 7.65041049600003e-10\n",
       "\\item 1.30056978431999e-08\n",
       "\\item 1.6647293239296e-07\n",
       "\\item 1.66472932392959e-06\n",
       "\\item 1.33178345914368e-05\n",
       "\\item 8.6565924844339e-05\n",
       "\\item 0.000461684932503141\n",
       "\\item 0.00203141370301382\n",
       "\\item 0.00738695892005027\n",
       "\\item 0.0221608767601508\n",
       "\\item 0.054549850486525\n",
       "\\item 0.10909970097305\n",
       "\\item 0.17455952155688\n",
       "\\item 0.218199401946101\n",
       "\\item 0.205364143008095\n",
       "\\item 0.136909428672063\n",
       "\\item 0.0576460752303424\n",
       "\\item 0.0115292150460685\n",
       "\\end{enumerate*}\n"
      ],
      "text/markdown": [
       "1. 8.388608e-13\n",
       "2. 3.18767103999999e-11\n",
       "3. 7.65041049600003e-10\n",
       "4. 1.30056978431999e-08\n",
       "5. 1.6647293239296e-07\n",
       "6. 1.66472932392959e-06\n",
       "7. 1.33178345914368e-05\n",
       "8. 8.6565924844339e-05\n",
       "9. 0.000461684932503141\n",
       "10. 0.00203141370301382\n",
       "11. 0.00738695892005027\n",
       "12. 0.0221608767601508\n",
       "13. 0.054549850486525\n",
       "14. 0.10909970097305\n",
       "15. 0.17455952155688\n",
       "16. 0.218199401946101\n",
       "17. 0.205364143008095\n",
       "18. 0.136909428672063\n",
       "19. 0.0576460752303424\n",
       "20. 0.0115292150460685\n",
       "\n",
       "\n"
      ],
      "text/plain": [
       " [1] 8.388608e-13 3.187671e-11 7.650410e-10 1.300570e-08 1.664729e-07\n",
       " [6] 1.664729e-06 1.331783e-05 8.656592e-05 4.616849e-04 2.031414e-03\n",
       "[11] 7.386959e-03 2.216088e-02 5.454985e-02 1.090997e-01 1.745595e-01\n",
       "[16] 2.181994e-01 2.053641e-01 1.369094e-01 5.764608e-02 1.152922e-02"
      ]
     },
     "metadata": {},
     "output_type": "display_data"
    },
    {
     "data": {
      "text/html": [
       "1"
      ],
      "text/latex": [
       "1"
      ],
      "text/markdown": [
       "1"
      ],
      "text/plain": [
       "[1] 1"
      ]
     },
     "metadata": {},
     "output_type": "display_data"
    }
   ],
   "source": [
    "#The function dbinom returns the probability of x given a number of trials (k) and a probability (p)\n",
    "#dbinom(x,k,p)\n",
    "\n",
    "b<-dbinom(1:20, 20, 0.8)\n",
    "b\n",
    "round(sum(b),5)\n"
   ]
  },
  {
   "cell_type": "code",
   "execution_count": 42,
   "metadata": {},
   "outputs": [
    {
     "data": {
      "text/html": [
       "<table>\n",
       "<thead><tr><th scope=col>x</th><th scope=col>y</th></tr></thead>\n",
       "<tbody>\n",
       "\t<tr><td> 1          </td><td>8.388608e-13</td></tr>\n",
       "\t<tr><td> 2          </td><td>3.187671e-11</td></tr>\n",
       "\t<tr><td> 3          </td><td>7.650410e-10</td></tr>\n",
       "\t<tr><td> 4          </td><td>1.300570e-08</td></tr>\n",
       "\t<tr><td> 5          </td><td>1.664729e-07</td></tr>\n",
       "\t<tr><td> 6          </td><td>1.664729e-06</td></tr>\n",
       "\t<tr><td> 7          </td><td>1.331783e-05</td></tr>\n",
       "\t<tr><td> 8          </td><td>8.656592e-05</td></tr>\n",
       "\t<tr><td> 9          </td><td>4.616849e-04</td></tr>\n",
       "\t<tr><td>10          </td><td>2.031414e-03</td></tr>\n",
       "\t<tr><td>11          </td><td>7.386959e-03</td></tr>\n",
       "\t<tr><td>12          </td><td>2.216088e-02</td></tr>\n",
       "\t<tr><td>13          </td><td>5.454985e-02</td></tr>\n",
       "\t<tr><td>14          </td><td>1.090997e-01</td></tr>\n",
       "\t<tr><td>15          </td><td>1.745595e-01</td></tr>\n",
       "\t<tr><td>16          </td><td>2.181994e-01</td></tr>\n",
       "\t<tr><td>17          </td><td>2.053641e-01</td></tr>\n",
       "\t<tr><td>18          </td><td>1.369094e-01</td></tr>\n",
       "\t<tr><td>19          </td><td>5.764608e-02</td></tr>\n",
       "\t<tr><td>20          </td><td>1.152922e-02</td></tr>\n",
       "</tbody>\n",
       "</table>\n"
      ],
      "text/latex": [
       "\\begin{tabular}{r|ll}\n",
       " x & y\\\\\n",
       "\\hline\n",
       "\t  1           & 8.388608e-13\\\\\n",
       "\t  2           & 3.187671e-11\\\\\n",
       "\t  3           & 7.650410e-10\\\\\n",
       "\t  4           & 1.300570e-08\\\\\n",
       "\t  5           & 1.664729e-07\\\\\n",
       "\t  6           & 1.664729e-06\\\\\n",
       "\t  7           & 1.331783e-05\\\\\n",
       "\t  8           & 8.656592e-05\\\\\n",
       "\t  9           & 4.616849e-04\\\\\n",
       "\t 10           & 2.031414e-03\\\\\n",
       "\t 11           & 7.386959e-03\\\\\n",
       "\t 12           & 2.216088e-02\\\\\n",
       "\t 13           & 5.454985e-02\\\\\n",
       "\t 14           & 1.090997e-01\\\\\n",
       "\t 15           & 1.745595e-01\\\\\n",
       "\t 16           & 2.181994e-01\\\\\n",
       "\t 17           & 2.053641e-01\\\\\n",
       "\t 18           & 1.369094e-01\\\\\n",
       "\t 19           & 5.764608e-02\\\\\n",
       "\t 20           & 1.152922e-02\\\\\n",
       "\\end{tabular}\n"
      ],
      "text/markdown": [
       "\n",
       "| x | y |\n",
       "|---|---|\n",
       "|  1           | 8.388608e-13 |\n",
       "|  2           | 3.187671e-11 |\n",
       "|  3           | 7.650410e-10 |\n",
       "|  4           | 1.300570e-08 |\n",
       "|  5           | 1.664729e-07 |\n",
       "|  6           | 1.664729e-06 |\n",
       "|  7           | 1.331783e-05 |\n",
       "|  8           | 8.656592e-05 |\n",
       "|  9           | 4.616849e-04 |\n",
       "| 10           | 2.031414e-03 |\n",
       "| 11           | 7.386959e-03 |\n",
       "| 12           | 2.216088e-02 |\n",
       "| 13           | 5.454985e-02 |\n",
       "| 14           | 1.090997e-01 |\n",
       "| 15           | 1.745595e-01 |\n",
       "| 16           | 2.181994e-01 |\n",
       "| 17           | 2.053641e-01 |\n",
       "| 18           | 1.369094e-01 |\n",
       "| 19           | 5.764608e-02 |\n",
       "| 20           | 1.152922e-02 |\n",
       "\n"
      ],
      "text/plain": [
       "   x  y           \n",
       "1   1 8.388608e-13\n",
       "2   2 3.187671e-11\n",
       "3   3 7.650410e-10\n",
       "4   4 1.300570e-08\n",
       "5   5 1.664729e-07\n",
       "6   6 1.664729e-06\n",
       "7   7 1.331783e-05\n",
       "8   8 8.656592e-05\n",
       "9   9 4.616849e-04\n",
       "10 10 2.031414e-03\n",
       "11 11 7.386959e-03\n",
       "12 12 2.216088e-02\n",
       "13 13 5.454985e-02\n",
       "14 14 1.090997e-01\n",
       "15 15 1.745595e-01\n",
       "16 16 2.181994e-01\n",
       "17 17 2.053641e-01\n",
       "18 18 1.369094e-01\n",
       "19 19 5.764608e-02\n",
       "20 20 1.152922e-02"
      ]
     },
     "metadata": {},
     "output_type": "display_data"
    }
   ],
   "source": [
    "df <- data.frame(x = 1:20, y = b)\n",
    "df"
   ]
  },
  {
   "cell_type": "code",
   "execution_count": 44,
   "metadata": {},
   "outputs": [
    {
     "data": {
      "image/png": "[encoded data removed]",
      "text/plain": [
       "plot without title"
      ]
     },
     "metadata": {},
     "output_type": "display_data"
    }
   ],
   "source": [
    "#Create dataframe containing the sequence from 1 to 20 and the associated values for the binomial\n",
    "df <- data.frame(x = 1:20, y = b)\n",
    "\n",
    "plot1 <- ggplot(df, aes(x = x, y = y)) + \n",
    "  geom_bar(stat = \"identity\") +#makes the height of the bar proportional to the number of cases in each group\n",
    "  scale_y_continuous(expand = c(0.01, 0)) + xlab(\"x\") + ylab(\"Density\") + \n",
    "  labs(title = \"dbinom(x, 20, 0.7)\") + theme_bw(16, \"serif\") + #The classic dark-on-light ggplot2 theme. \n",
    "  theme(plot.title = element_text(size = rel(1.2), vjust = 1.5))\n",
    "\n",
    "print(plot1)"
   ]
  },
  {
   "cell_type": "markdown",
   "metadata": {},
   "source": [
    "### The Hypergeometric Distribution"
   ]
  },
  {
   "cell_type": "markdown",
   "metadata": {},
   "source": [
    "This distribution formalizes the urn problems that frequented the probability section. \n",
    "\n",
    "*Suppose an urn contains m white balls and n black balls, where m +n = N. Imagine drawing k balls from the urn one at a time without replacing any of the balls selected. At each drawing we record the color of the ball removed. The question is, what is the probability that exactly x white balls are included among the k that are removed?*\n",
    "\n",
    "The experiment is similar to the binomial. The difference is that because the samples are taken **without replacement**, each drawing is not an independent trial.\n",
    "\n",
    "$$f(k,n,N,K)=P(X=x)=\\frac{{m \\choose x}{n \\choose k-x}}{{n+m \\choose k}}$$\n",
    "\n",
    "- m is the number of white balls in the urn.\n",
    "- n is the number of black balls in the urn.\n",
    "- k the number of balls drawn from the urn"
   ]
  },
  {
   "cell_type": "code",
   "execution_count": 25,
   "metadata": {},
   "outputs": [
    {
     "data": {
      "text/html": [
       "0.5"
      ],
      "text/latex": [
       "0.5"
      ],
      "text/markdown": [
       "0.5"
      ],
      "text/plain": [
       "[1] 0.5"
      ]
     },
     "metadata": {},
     "output_type": "display_data"
    },
    {
     "data": {
      "text/html": [
       "0.166666666666667"
      ],
      "text/latex": [
       "0.166666666666667"
      ],
      "text/markdown": [
       "0.166666666666667"
      ],
      "text/plain": [
       "[1] 0.1666667"
      ]
     },
     "metadata": {},
     "output_type": "display_data"
    },
    {
     "data": {
      "text/html": [
       "0.3"
      ],
      "text/latex": [
       "0.3"
      ],
      "text/markdown": [
       "0.3"
      ],
      "text/plain": [
       "[1] 0.3"
      ]
     },
     "metadata": {},
     "output_type": "display_data"
    }
   ],
   "source": [
    "#function dhyper(x, m, n, k)\n",
    "#Take k=6 balls where there are m=3 white balls and n=7 black balls. What is the probability of getting exactly x=2 white balls\n",
    "\n",
    "dhyper(2,3,7,6)\n",
    "dhyper(3,3,7,6)\n",
    "dhyper(1,3,7,6)"
   ]
  },
  {
   "cell_type": "code",
   "execution_count": 21,
   "metadata": {},
   "outputs": [
    {
     "data": {
      "text/html": [
       "<ol class=list-inline>\n",
       "\t<li>3</li>\n",
       "\t<li>35</li>\n",
       "\t<li>210</li>\n",
       "</ol>\n"
      ],
      "text/latex": [
       "\\begin{enumerate*}\n",
       "\\item 3\n",
       "\\item 35\n",
       "\\item 210\n",
       "\\end{enumerate*}\n"
      ],
      "text/markdown": [
       "1. 3\n",
       "2. 35\n",
       "3. 210\n",
       "\n",
       "\n"
      ],
      "text/plain": [
       "[1]   3  35 210"
      ]
     },
     "metadata": {},
     "output_type": "display_data"
    },
    {
     "data": {
      "text/html": [
       "0.5"
      ],
      "text/latex": [
       "0.5"
      ],
      "text/markdown": [
       "0.5"
      ],
      "text/plain": [
       "[1] 0.5"
      ]
     },
     "metadata": {},
     "output_type": "display_data"
    }
   ],
   "source": [
    "c1<-choose(3,2)\n",
    "c2<-choose(7,4)\n",
    "c3<-choose(10,6)\n",
    "c(c1,c2,c3)\n",
    "(c1*c2)/c3"
   ]
  },
  {
   "cell_type": "markdown",
   "metadata": {},
   "source": [
    "### Example:\n",
    "\n",
    "What is the probability of selecting x = 14 red balls from a sample of k = 20 taken from an urn containing m = 70 red balls and n = 30 green balls?"
   ]
  },
  {
   "cell_type": "code",
   "execution_count": 6,
   "metadata": {},
   "outputs": [
    {
     "data": {
      "text/html": [
       "0.214091062978847"
      ],
      "text/latex": [
       "0.214091062978847"
      ],
      "text/markdown": [
       "0.214091062978847"
      ],
      "text/plain": [
       "[1] 0.21"
      ]
     },
     "metadata": {},
     "output_type": "display_data"
    }
   ],
   "source": [
    "# 1). probability\n",
    "x = 14\n",
    "m = 70\n",
    "n = 30\n",
    "k = 20\n",
    "dhyper(x, m, n, k)"
   ]
  },
  {
   "cell_type": "code",
   "execution_count": 8,
   "metadata": {},
   "outputs": [
    {
     "data": {
      "text/html": [
       "<ol class=list-inline>\n",
       "\t<li>0.0000000000071343836602973</li>\n",
       "\t<li>0.000000000389715707443738</li>\n",
       "\t<li>0.000000012231077587465</li>\n",
       "\t<li>0.000000248771381645047</li>\n",
       "\t<li>0.00000350270105356227</li>\n",
       "\t<li>0.0000355743075752417</li>\n",
       "\t<li>0.00026785360997829</li>\n",
       "\t<li>0.00152341740675153</li>\n",
       "\t<li>0.00662820205042773</li>\n",
       "\t<li>0.022237617879185</li>\n",
       "\t<li>0.0577600464394414</li>\n",
       "\t<li>0.116176457042968</li>\n",
       "\t<li>0.180287210929555</li>\n",
       "\t<li>0.214091062978847</li>\n",
       "\t<li>0.191825592429047</li>\n",
       "\t<li>0.126807783456701</li>\n",
       "\t<li>0.0596742510384478</li>\n",
       "\t<li>0.0188258053871293</li>\n",
       "\t<li>0.00355332805855073</li>\n",
       "\t<li>0.000302032884976812</li>\n",
       "</ol>\n"
      ],
      "text/latex": [
       "\\begin{enumerate*}\n",
       "\\item 0.0000000000071343836602973\n",
       "\\item 0.000000000389715707443738\n",
       "\\item 0.000000012231077587465\n",
       "\\item 0.000000248771381645047\n",
       "\\item 0.00000350270105356227\n",
       "\\item 0.0000355743075752417\n",
       "\\item 0.00026785360997829\n",
       "\\item 0.00152341740675153\n",
       "\\item 0.00662820205042773\n",
       "\\item 0.022237617879185\n",
       "\\item 0.0577600464394414\n",
       "\\item 0.116176457042968\n",
       "\\item 0.180287210929555\n",
       "\\item 0.214091062978847\n",
       "\\item 0.191825592429047\n",
       "\\item 0.126807783456701\n",
       "\\item 0.0596742510384478\n",
       "\\item 0.0188258053871293\n",
       "\\item 0.00355332805855073\n",
       "\\item 0.000302032884976812\n",
       "\\end{enumerate*}\n"
      ],
      "text/markdown": [
       "1. 0.0000000000071343836602973\n",
       "2. 0.000000000389715707443738\n",
       "3. 0.000000012231077587465\n",
       "4. 0.000000248771381645047\n",
       "5. 0.00000350270105356227\n",
       "6. 0.0000355743075752417\n",
       "7. 0.00026785360997829\n",
       "8. 0.00152341740675153\n",
       "9. 0.00662820205042773\n",
       "10. 0.022237617879185\n",
       "11. 0.0577600464394414\n",
       "12. 0.116176457042968\n",
       "13. 0.180287210929555\n",
       "14. 0.214091062978847\n",
       "15. 0.191825592429047\n",
       "16. 0.126807783456701\n",
       "17. 0.0596742510384478\n",
       "18. 0.0188258053871293\n",
       "19. 0.00355332805855073\n",
       "20. 0.000302032884976812\n",
       "\n",
       "\n"
      ],
      "text/plain": [
       " [1] 0.0000000000071 0.0000000003897 0.0000000122311 0.0000002487714\n",
       " [5] 0.0000035027011 0.0000355743076 0.0002678536100 0.0015234174068\n",
       " [9] 0.0066282020504 0.0222376178792 0.0577600464394 0.1161764570430\n",
       "[13] 0.1802872109296 0.2140910629788 0.1918255924290 0.1268077834567\n",
       "[17] 0.0596742510384 0.0188258053871 0.0035533280586 0.0003020328850"
      ]
     },
     "metadata": {},
     "output_type": "display_data"
    }
   ],
   "source": [
    "density = dhyper(x = 1:20, m = m, n = n, k = k)\n",
    "density"
   ]
  },
  {
   "cell_type": "code",
   "execution_count": 14,
   "metadata": {},
   "outputs": [
    {
     "data": {
      "image/png": "[encoded data removed]",
      "text/plain": [
       "plot without title"
      ]
     },
     "metadata": {},
     "output_type": "display_data"
    }
   ],
   "source": [
    "data.frame(red = 1:20, density) %>%\n",
    "  mutate(red14 = ifelse(red == 14, \"x = 14\", \"other\")) %>%\n",
    "ggplot(aes(x = factor(red), y = density, fill = red14)) +\n",
    "  geom_col() +\n",
    "  geom_text(\n",
    "    aes(label = round(density,2), y = density + 0.01),\n",
    "    position = position_dodge(0.9),\n",
    "    size = 3,\n",
    "    vjust = 0\n",
    "  )"
   ]
  },
  {
   "cell_type": "code",
   "execution_count": 16,
   "metadata": {},
   "outputs": [
    {
     "data": {
      "text/html": [
       "<table>\n",
       "<thead><tr><th scope=col>red</th><th scope=col>density</th><th scope=col>red14</th></tr></thead>\n",
       "<tbody>\n",
       "\t<tr><td> 1             </td><td>0.0000000000071</td><td>other          </td></tr>\n",
       "\t<tr><td> 2             </td><td>0.0000000003897</td><td>other          </td></tr>\n",
       "\t<tr><td> 3             </td><td>0.0000000122311</td><td>other          </td></tr>\n",
       "\t<tr><td> 4             </td><td>0.0000002487714</td><td>other          </td></tr>\n",
       "\t<tr><td> 5             </td><td>0.0000035027011</td><td>other          </td></tr>\n",
       "\t<tr><td> 6             </td><td>0.0000355743076</td><td>other          </td></tr>\n",
       "\t<tr><td> 7             </td><td>0.0002678536100</td><td>other          </td></tr>\n",
       "\t<tr><td> 8             </td><td>0.0015234174068</td><td>other          </td></tr>\n",
       "\t<tr><td> 9             </td><td>0.0066282020504</td><td>other          </td></tr>\n",
       "\t<tr><td>10             </td><td>0.0222376178792</td><td>other          </td></tr>\n",
       "\t<tr><td>11             </td><td>0.0577600464394</td><td>other          </td></tr>\n",
       "\t<tr><td>12             </td><td>0.1161764570430</td><td>other          </td></tr>\n",
       "\t<tr><td>13             </td><td>0.1802872109296</td><td>other          </td></tr>\n",
       "\t<tr><td>14             </td><td>0.2140910629788</td><td>x = 14         </td></tr>\n",
       "\t<tr><td>15             </td><td>0.1918255924290</td><td>other          </td></tr>\n",
       "\t<tr><td>16             </td><td>0.1268077834567</td><td>other          </td></tr>\n",
       "\t<tr><td>17             </td><td>0.0596742510384</td><td>other          </td></tr>\n",
       "\t<tr><td>18             </td><td>0.0188258053871</td><td>other          </td></tr>\n",
       "\t<tr><td>19             </td><td>0.0035533280586</td><td>other          </td></tr>\n",
       "\t<tr><td>20             </td><td>0.0003020328850</td><td>other          </td></tr>\n",
       "</tbody>\n",
       "</table>\n"
      ],
      "text/latex": [
       "\\begin{tabular}{r|lll}\n",
       " red & density & red14\\\\\n",
       "\\hline\n",
       "\t  1              & 0.0000000000071 & other          \\\\\n",
       "\t  2              & 0.0000000003897 & other          \\\\\n",
       "\t  3              & 0.0000000122311 & other          \\\\\n",
       "\t  4              & 0.0000002487714 & other          \\\\\n",
       "\t  5              & 0.0000035027011 & other          \\\\\n",
       "\t  6              & 0.0000355743076 & other          \\\\\n",
       "\t  7              & 0.0002678536100 & other          \\\\\n",
       "\t  8              & 0.0015234174068 & other          \\\\\n",
       "\t  9              & 0.0066282020504 & other          \\\\\n",
       "\t 10              & 0.0222376178792 & other          \\\\\n",
       "\t 11              & 0.0577600464394 & other          \\\\\n",
       "\t 12              & 0.1161764570430 & other          \\\\\n",
       "\t 13              & 0.1802872109296 & other          \\\\\n",
       "\t 14              & 0.2140910629788 & x = 14         \\\\\n",
       "\t 15              & 0.1918255924290 & other          \\\\\n",
       "\t 16              & 0.1268077834567 & other          \\\\\n",
       "\t 17              & 0.0596742510384 & other          \\\\\n",
       "\t 18              & 0.0188258053871 & other          \\\\\n",
       "\t 19              & 0.0035533280586 & other          \\\\\n",
       "\t 20              & 0.0003020328850 & other          \\\\\n",
       "\\end{tabular}\n"
      ],
      "text/markdown": [
       "\n",
       "| red | density | red14 |\n",
       "|---|---|---|\n",
       "|  1              | 0.0000000000071 | other           |\n",
       "|  2              | 0.0000000003897 | other           |\n",
       "|  3              | 0.0000000122311 | other           |\n",
       "|  4              | 0.0000002487714 | other           |\n",
       "|  5              | 0.0000035027011 | other           |\n",
       "|  6              | 0.0000355743076 | other           |\n",
       "|  7              | 0.0002678536100 | other           |\n",
       "|  8              | 0.0015234174068 | other           |\n",
       "|  9              | 0.0066282020504 | other           |\n",
       "| 10              | 0.0222376178792 | other           |\n",
       "| 11              | 0.0577600464394 | other           |\n",
       "| 12              | 0.1161764570430 | other           |\n",
       "| 13              | 0.1802872109296 | other           |\n",
       "| 14              | 0.2140910629788 | x = 14          |\n",
       "| 15              | 0.1918255924290 | other           |\n",
       "| 16              | 0.1268077834567 | other           |\n",
       "| 17              | 0.0596742510384 | other           |\n",
       "| 18              | 0.0188258053871 | other           |\n",
       "| 19              | 0.0035533280586 | other           |\n",
       "| 20              | 0.0003020328850 | other           |\n",
       "\n"
      ],
      "text/plain": [
       "   red density         red14 \n",
       "1   1  0.0000000000071 other \n",
       "2   2  0.0000000003897 other \n",
       "3   3  0.0000000122311 other \n",
       "4   4  0.0000002487714 other \n",
       "5   5  0.0000035027011 other \n",
       "6   6  0.0000355743076 other \n",
       "7   7  0.0002678536100 other \n",
       "8   8  0.0015234174068 other \n",
       "9   9  0.0066282020504 other \n",
       "10 10  0.0222376178792 other \n",
       "11 11  0.0577600464394 other \n",
       "12 12  0.1161764570430 other \n",
       "13 13  0.1802872109296 other \n",
       "14 14  0.2140910629788 x = 14\n",
       "15 15  0.1918255924290 other \n",
       "16 16  0.1268077834567 other \n",
       "17 17  0.0596742510384 other \n",
       "18 18  0.0188258053871 other \n",
       "19 19  0.0035533280586 other \n",
       "20 20  0.0003020328850 other "
      ]
     },
     "metadata": {},
     "output_type": "display_data"
    }
   ],
   "source": [
    "#Other approach without using infix operator %>%:\n",
    "dta<-data.frame(red = 1:20, density) %>% mutate(red14 = ifelse(red == 14, \"x = 14\", \"other\"))\n",
    "dta"
   ]
  },
  {
   "cell_type": "code",
   "execution_count": 17,
   "metadata": {},
   "outputs": [
    {
     "data": {
      "image/png": "[encoded data removed]",
      "text/plain": [
       "plot without title"
      ]
     },
     "metadata": {},
     "output_type": "display_data"
    }
   ],
   "source": [
    "#Other approach without using infix operator %>%:\n",
    "ggplot(data=dta,aes(x = factor(red), y = density, fill = red14)) +\n",
    "  geom_col() +\n",
    "  geom_text(\n",
    "    aes(label = round(density,2), y = density + 0.01),\n",
    "    position = position_dodge(0.9),\n",
    "    size = 3,\n",
    "    vjust = 0\n",
    "  )"
   ]
  }
 ],
 "metadata": {
  "kernelspec": {
   "display_name": "R",
   "language": "R",
   "name": "ir"
  },
  "language_info": {
   "codemirror_mode": "r",
   "file_extension": ".r",
   "mimetype": "text/x-r-source",
   "name": "R",
   "pygments_lexer": "r",
   "version": "3.6.1"
  }
 },
 "nbformat": 4,
 "nbformat_minor": 4
}
