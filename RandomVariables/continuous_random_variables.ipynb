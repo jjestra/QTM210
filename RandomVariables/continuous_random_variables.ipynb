{
 "cells": [
  {
   "cell_type": "markdown",
   "metadata": {},
   "source": [
    "# Continuous Random Variables"
   ]
  },
  {
   "cell_type": "markdown",
   "metadata": {},
   "source": [
    "A continuous random variable is associated with a sample space containing an uncountably infinite number of outcomes. "
   ]
  },
  {
   "cell_type": "markdown",
   "metadata": {},
   "source": [
    "- Countable set: for instance (1) natural numbers (countably infinite) or (2) rolling a pair of dice and recording the faces\n",
    "- uncountable set: for instance (1) the interval $[0,1]$ contains infinitely many numbers, thus the real numbers are also uncountable\n",
    "\n",
    "For more information regarding how to show that a set is uncountable see [Cantor's diagonal argument](https://en.wikipedia.org/wiki/Cantor%27s_diagonal_argument)."
   ]
  },
  {
   "cell_type": "markdown",
   "metadata": {},
   "source": [
    "## Part 1: Assigning probabilities to continuous sample spaces"
   ]
  },
  {
   "cell_type": "markdown",
   "metadata": {},
   "source": [
    "In the **discrete case**, it is simple to assign probabilities to countable outcomes $s \\in S$ by the discrete probability function $p(s)$. Then, for a random variable $X$ defined on the discrete sample space we can use the density function $P_{X}(k)=P(X=k)$ to assign probabilities to outcomes, for $P(A)=\\sum_{s\\in A} p(s)$."
   ]
  },
  {
   "cell_type": "markdown",
   "metadata": {},
   "source": [
    "For the **continuous case**, the same approach will not work because the fact that the sample space contains uncountably infinite number of outcomes eliminates the option of assigning a probability to each point."
   ]
  },
  {
   "cell_type": "markdown",
   "metadata": {},
   "source": [
    "During class you covered an example to show how to assign probabilities to continuous random variables. *Instead\n",
    "of defining probabilities for individual points, we will define probabilities for intervals of points*:\n",
    "\n",
    "A **probability function** $P$ on a set of real numbers $S$ is called continuous if there exists a function $f(t)$ such that for any closed interval $[a,b] \\subset S$, $P([a,b])=\\int_{a}^{b}f(t) dt$."
   ]
  },
  {
   "cell_type": "markdown",
   "metadata": {},
   "source": [
    "**Starting from the function**, if $f(t)$ has the properties\n",
    "\n",
    "1. $f(t) \\geq 0$ for all t\n",
    "2. $\\int_{-\\infty}^{\\infty}f(t) dt=1$ \n",
    "\n",
    "and $P(A)=\\int_{A} f(t) dt$ for all $A$, the $P$ will satisfy the probability axioms."
   ]
  },
  {
   "cell_type": "markdown",
   "metadata": {},
   "source": [
    "### Example 1"
   ]
  },
  {
   "cell_type": "markdown",
   "metadata": {},
   "source": [
    "Is $f(t)=e^{-t}$, for $0\\leq t \\leq 2$ an appropriate probability function for a continuous sample space whose outcomes consist of all the real numbers in the interval $[0, 2]$? If not, how to modify to be a probability function?"
   ]
  },
  {
   "cell_type": "markdown",
   "metadata": {},
   "source": [
    "You already solve this question analytically. First you checked conditions 1 and 2 from the definition of probability function:\n",
    "\n",
    "1. $e^{-t} \\geq 0$ by definition of the exp function this is true for all $t \\in [0,2]$\n",
    "2. $\\int_{-\\infty}^{\\infty}e^{-t} dt=-e^{-t}|_{0}^{2}=-e^{-2}+1=0.864\\neq 1$ "
   ]
  },
  {
   "cell_type": "markdown",
   "metadata": {},
   "source": [
    "Let's do it in R now:\n",
    "\n",
    "1. Check that $e^{-t} \\geq 0$ for all $t \\in [0,2]$"
   ]
  },
  {
   "cell_type": "code",
   "execution_count": 94,
   "metadata": {},
   "outputs": [],
   "source": [
    "suppressWarnings(library('ggplot2'))"
   ]
  },
  {
   "cell_type": "code",
   "execution_count": 91,
   "metadata": {},
   "outputs": [
    {
     "data": {
      "image/png": "[encoded data removed]",
      "text/plain": [
       "plot without title"
      ]
     },
     "metadata": {},
     "output_type": "display_data"
    }
   ],
   "source": [
    "#first let's define our function:\n",
    "\n",
    "f<-function(x) exp(-x)\n",
    "\n",
    "#Now, let's graph the function to check that all the values are greater than 0\n",
    "options(repr.plot.width=5, repr.plot.height=3)\n",
    "ggplot(data.frame(x = c(0, 2)), aes(x = x)) + \n",
    "    stat_function(fun = g,colour = \"dodgerblue3\",size = 0.7)+\n",
    "    geom_hline(yintercept=0, linetype=\"dashed\")"
   ]
  },
  {
   "cell_type": "markdown",
   "metadata": {},
   "source": [
    "2. Check the value of the integral $\\int_{-\\infty}^{\\infty}e^{-t} dt$. For this exercise, I will use R to compute numerical integrals:"
   ]
  },
  {
   "cell_type": "code",
   "execution_count": 16,
   "metadata": {},
   "outputs": [
    {
     "data": {
      "text/plain": [
       "0.8646647 with absolute error < 9.6e-15"
      ]
     },
     "metadata": {},
     "output_type": "display_data"
    }
   ],
   "source": [
    "#Now let's take the numerical integral of the fucntion to check if it adds up to 1\n",
    "integrate(f, lower = 0, upper = 2)"
   ]
  },
  {
   "cell_type": "markdown",
   "metadata": {},
   "source": [
    "As shown analytically, the integral of the function $f(t)$ is different from one for $t \\in [0,2]$. As suggested in class, to make this function an appropriate probability function, we can divide by the result of the integral:\n",
    "\n",
    "$$g(t)=\\frac{f(t)}{1-e^{-2}}=\\frac{e^{-2}}{1-e^{-2}}$$"
   ]
  },
  {
   "cell_type": "markdown",
   "metadata": {},
   "source": [
    "1. $g(t)\\geq 0$ for $t \\in [0,2]$:"
   ]
  },
  {
   "cell_type": "code",
   "execution_count": 92,
   "metadata": {},
   "outputs": [
    {
     "data": {
      "image/png": "[encoded data removed]",
      "text/plain": [
       "plot without title"
      ]
     },
     "metadata": {},
     "output_type": "display_data"
    }
   ],
   "source": [
    "# define our new function:\n",
    "\n",
    "g<-function(x) exp(-x)/(1-exp(-2))\n",
    "\n",
    "#Graph:\n",
    "options(repr.plot.width=5, repr.plot.height=3)\n",
    "ggplot(data.frame(x = c(0, 2)), aes(x = x)) + \n",
    "    stat_function(fun = g,colour = \"dodgerblue3\",size = 0.7)+\n",
    "    geom_hline(yintercept=0, linetype=\"dashed\")"
   ]
  },
  {
   "cell_type": "markdown",
   "metadata": {},
   "source": [
    "2. Check the value of the integral for the new function $g$:"
   ]
  },
  {
   "cell_type": "code",
   "execution_count": 20,
   "metadata": {},
   "outputs": [
    {
     "data": {
      "text/plain": [
       "1 with absolute error < 1.1e-14"
      ]
     },
     "metadata": {},
     "output_type": "display_data"
    }
   ],
   "source": [
    "integrate(g, lower = 0, upper = 2)"
   ]
  },
  {
   "cell_type": "markdown",
   "metadata": {},
   "source": [
    "We just showed using R that $f(t)$ is not a valid probability function while $g(t)$ is for the values $t \\in [0,2]$."
   ]
  },
  {
   "cell_type": "markdown",
   "metadata": {},
   "source": [
    "## Part 2: CDF and PDF"
   ]
  },
  {
   "cell_type": "markdown",
   "metadata": {},
   "source": [
    "**Definition 1 (continuous random variable):** Let $Y$ be a function from a sample space $S$ to the real numbers. The function $Y$ is called *continuous random variable* if there exists a function $f_{y}(y)$ such that for any real numbers $a<b$:\n",
    "\n",
    "$$P(a\\leq Y \\leq b)=\\int_{a}^{b} f_{y}(y) dy$$\n"
   ]
  },
  {
   "cell_type": "markdown",
   "metadata": {},
   "source": [
    "**Definition 2 (probability density function (pdf)):** is a function $f_{y}(y)$ such that **Definition 1** holds.\n",
    "\n",
    "**Definition 3 (cumulative distribution function (cdf)):** is a function $F_{y}(y)$, defined by\n",
    "\n",
    "$$F_{y}(y)=P(Y\\leq y)$$"
   ]
  },
  {
   "cell_type": "markdown",
   "metadata": {},
   "source": [
    "**Definition 4:** The cdf for a continuous random variable $Y$ is an indefinite integral of its pdf:\n",
    "$$F_{Y}(y)=\\int_{-\\infty}^{y} f_{Y}(r) d r=P(\\{s \\in S | Y(s) \\leq y\\})=P(Y \\leq y)$$"
   ]
  },
  {
   "cell_type": "markdown",
   "metadata": {},
   "source": [
    "## Example 2: \n",
    "\n",
    "Checking **Definition 4** using the normal distribution."
   ]
  },
  {
   "cell_type": "code",
   "execution_count": 93,
   "metadata": {},
   "outputs": [],
   "source": [
    "suppressWarnings(library('gridExtra'))"
   ]
  },
  {
   "cell_type": "code",
   "execution_count": 103,
   "metadata": {},
   "outputs": [],
   "source": [
    "#Create a function \n",
    "Shaded <- function(x) {\n",
    "    y <- dnorm(x, mean = 0, sd = 1)\n",
    "    y[x < -4 | x > 1.1] <- NA\n",
    "    return(y)\n",
    "}"
   ]
  },
  {
   "cell_type": "code",
   "execution_count": 104,
   "metadata": {
    "scrolled": false
   },
   "outputs": [
    {
     "data": {
      "image/png": "[encoded data removed]",
      "text/plain": [
       "plot without title"
      ]
     },
     "metadata": {},
     "output_type": "display_data"
    }
   ],
   "source": [
    "#Create plot for pdf\n",
    "pdf<-ggplot(data.frame(x = c(-4, 4)), aes(x = x)) + \n",
    "           stat_function(fun = dnorm, args = list(0, 1),colour = \"dodgerblue3\",size = 0.7) +\n",
    "           stat_function(fun=Shaded, geom=\"area\", fill=\"#1e90ff\", alpha=0.2) +\n",
    "           scale_x_continuous(name = \"Random Variable Y\") + \n",
    "           scale_y_continuous(name = \"Density\") +\n",
    "           theme_bw()\n",
    "\n",
    "#Create plot for cdf\n",
    "cdf<-ggplot(data.frame(x = c(-4, 4)), aes(x = x)) + \n",
    "            stat_function(fun = pnorm, args = list(0, 1),colour = \"dodgerblue3\",size = 0.7) +\n",
    "            geom_segment(aes(x = 1, y = 0, xend = 1, yend = pnorm(1)),linetype=\"dashed\",size=0.5) +\n",
    "            geom_segment(aes(x = -4 , y = pnorm(1), xend = 1, yend = pnorm(1)),linetype=\"dashed\",size=0.5) +\n",
    "            scale_x_continuous(name = \"Random Variable Y\") +\n",
    "            scale_y_continuous(name = \"Probability\") +\n",
    "            theme_bw()\n",
    "\n",
    "#combine plots\n",
    "options(repr.plot.width=7, repr.plot.height=3)\n",
    "grid.arrange(pdf, cdf, ncol=2)"
   ]
  },
  {
   "cell_type": "markdown",
   "metadata": {},
   "source": [
    "By **Definition 4**, the blue area in the previous figure should integrate to $F_{Y}(1)=0.8413$"
   ]
  },
  {
   "cell_type": "code",
   "execution_count": 80,
   "metadata": {},
   "outputs": [
    {
     "data": {
      "text/html": [
       "0.841344746068543"
      ],
      "text/latex": [
       "0.841344746068543"
      ],
      "text/markdown": [
       "0.841344746068543"
      ],
      "text/plain": [
       "[1] 0.8413447"
      ]
     },
     "metadata": {},
     "output_type": "display_data"
    },
    {
     "data": {
      "text/plain": [
       "0.8413448 with absolute error < 1.5e-05"
      ]
     },
     "metadata": {},
     "output_type": "display_data"
    },
    {
     "name": "stdout",
     "output_type": "stream",
     "text": [
      "[1] \"The two values coincide\"\n"
     ]
    }
   ],
   "source": [
    "#Check the value of the CDF at y=1\n",
    "pnorm(1,0,1)\n",
    "\n",
    "integrate(dnorm, lower = -Inf, upper = 1)\n",
    "\n",
    "if (round(pnorm(1,0,1),6)==round(integrate(dnorm, lower = -Inf, upper = 1)$value,6)){print('The two values coincide')}"
   ]
  },
  {
   "cell_type": "markdown",
   "metadata": {},
   "source": [
    "## Example 3:\n",
    "\n",
    "The length of time, $Y$ , that a customer spends in line at a bank teller's window before being served is described by the exponential pdf $f_{Y}(y)=0.2 e^{-0.2 y}$ for $y\\geq  0$"
   ]
  },
  {
   "cell_type": "markdown",
   "metadata": {},
   "source": [
    "1. What is the probability that a customer will wait more than ten minutes?\n",
    "2. Suppose the customer will leave if the wait is more than ten minutes. Assume that the customer goes to the bank twice next month. Let the random variable $X$ be the number of times the customer leaves without being served. Calculate $p_{X}(1)$."
   ]
  },
  {
   "cell_type": "markdown",
   "metadata": {},
   "source": [
    "**Solution:**\n",
    "\n",
    "1. The probability that a costumer wait more than 10 minutes is given by \n",
    "$$P(10 \\leq Y \\leq \\infty)=\\int_{10}^{\\infty}f_{Y}(y)dy=0.2 \\int_{10}^{\\infty}e^{-0.2 y}dy=-e^{-0.2 y}|_{10}^{\\infty}=e^{-2}=0.135$$\n",
    "\n",
    "Now, let's do it in R:"
   ]
  },
  {
   "cell_type": "code",
   "execution_count": 128,
   "metadata": {},
   "outputs": [
    {
     "name": "stdout",
     "output_type": "stream",
     "text": [
      "[1] \"The probability of a costumer waiting more than 10 minutes is: 0.135\"\n"
     ]
    },
    {
     "data": {
      "image/png": "[encoded data removed]",
      "text/plain": [
       "plot without title"
      ]
     },
     "metadata": {},
     "output_type": "display_data"
    }
   ],
   "source": [
    "#First, lets create the function\n",
    "\n",
    "fn<-function(y) 0.2*exp(-0.2*y)\n",
    "\n",
    "Shaded2 <- function(x) {\n",
    "    y <- fn(x)\n",
    "    y[x < 10 | x > 33.1] <- NA\n",
    "    return(y)\n",
    "}\n",
    "\n",
    "#Graph to see how the probability distribution looks like and the area we are interested on\n",
    "options(repr.plot.width=5, repr.plot.height=3)\n",
    "ggplot(data.frame(x = c(0, 33)), aes(x = x)) + \n",
    "    stat_function(fun = fn,colour = \"dodgerblue3\",size = 0.7)+\n",
    "    stat_function(fun=Shaded2, geom=\"area\", fill=\"#1e90ff\", alpha=0.2) +\n",
    "    scale_x_continuous(name = \"Length of Time\") + \n",
    "    scale_y_continuous(name = \"Density\") \n",
    "\n",
    "print(paste('The probability of a costumer waiting more than 10 minutes is:',\n",
    "            round(integrate(fn, lower = 10, upper = Inf)$value,3)))"
   ]
  },
  {
   "cell_type": "markdown",
   "metadata": {},
   "source": [
    "2. The new random variable $X$ is discrete. Because the costumer goes to the bank 2 times in the next month, the random variable $X$ can take the values $\\{0,1,2\\}$. We can use the binomial distribution to calculate the probability of each value of the random variable $X$. We use the binomial $f(k,2,p)$ where the parameter $p=P(10 \\leq Y \\leq \\infty)$, $n=2$, and $k=\\{0,1,2\\}$:\n",
    "\n",
    "\n",
    "- $P_{X}(0)=f(0,2,e^{-2})=0.748$\n",
    "- $P_{X}(1)=f(1,2,e^{-2})=0.234$\n",
    "- $P_{X}(2)=f(2,2,e^{-2})=0.018$"
   ]
  },
  {
   "cell_type": "code",
   "execution_count": 156,
   "metadata": {},
   "outputs": [
    {
     "data": {
      "text/html": [
       "0.747645072415509"
      ],
      "text/latex": [
       "0.747645072415509"
      ],
      "text/markdown": [
       "0.747645072415509"
      ],
      "text/plain": [
       "[1] 0.7476451"
      ]
     },
     "metadata": {},
     "output_type": "display_data"
    },
    {
     "data": {
      "text/html": [
       "0.234039288695757"
      ],
      "text/latex": [
       "0.234039288695757"
      ],
      "text/markdown": [
       "0.234039288695757"
      ],
      "text/plain": [
       "[1] 0.2340393"
      ]
     },
     "metadata": {},
     "output_type": "display_data"
    },
    {
     "data": {
      "text/html": [
       "0.0183156388887342"
      ],
      "text/latex": [
       "0.0183156388887342"
      ],
      "text/markdown": [
       "0.0183156388887342"
      ],
      "text/plain": [
       "[1] 0.01831564"
      ]
     },
     "metadata": {},
     "output_type": "display_data"
    }
   ],
   "source": [
    "dbinom(0,2,exp(-2))\n",
    "dbinom(1,2,exp(-2))\n",
    "dbinom(2,2,exp(-2))"
   ]
  }
 ],
 "metadata": {
  "kernelspec": {
   "display_name": "R",
   "language": "R",
   "name": "ir"
  },
  "language_info": {
   "codemirror_mode": "r",
   "file_extension": ".r",
   "mimetype": "text/x-r-source",
   "name": "R",
   "pygments_lexer": "r",
   "version": "3.6.1"
  }
 },
 "nbformat": 4,
 "nbformat_minor": 4
}
