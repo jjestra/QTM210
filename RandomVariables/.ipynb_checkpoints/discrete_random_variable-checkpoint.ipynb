{
 "cells": [
  {
   "cell_type": "markdown",
   "metadata": {},
   "source": [
    "# Discrete Random Variables"
   ]
  },
  {
   "cell_type": "markdown",
   "metadata": {},
   "source": [
    "The objective of this lab is to quickly review the concepts of:\n",
    "\n",
    "1. Discrete probability function \n",
    "2. Probability density function (PDF)\n",
    "3. Cumulative density function (CDF)\n",
    "\n",
    "To then give examples of how to apply those concepts to solve problems using R."
   ]
  },
  {
   "cell_type": "markdown",
   "metadata": {},
   "source": [
    "## Definition 1: Discrete probability function\n",
    "\n",
    "Suppose that $S$ is a finite or countably infinite sample space. Let $p$ be a real-valued function defined for each element of $S$ such that\n",
    "\n",
    "1. $p(s) \\geq 0$ for each $s \\in S$.\n",
    "2. $\\sum_{s \\in S} p(s)=1$\n",
    "\n",
    "Then  $p$ is said to be a **discrete probability function**."
   ]
  },
  {
   "cell_type": "markdown",
   "metadata": {},
   "source": [
    "### Example 1:\n",
    "\n",
    "Is $p(s)=\\frac{1}{1+\\lambda}(\\frac{\\lambda}{1+\\lambda})^{s}$ for $s=0,1,2,\\dots$ and $\\lambda>0$ a discrete probability function? Why or why not?"
   ]
  },
  {
   "cell_type": "markdown",
   "metadata": {},
   "source": [
    "For $p(s)$ to be a discrete probability function, we require that the function $p(s)$ satisfies parts 1 and 2 in **Definition 1**. Let's solve this question using R:"
   ]
  },
  {
   "cell_type": "markdown",
   "metadata": {},
   "source": [
    "First, let's create a sequence of numbers from 0 to 20:"
   ]
  },
  {
   "cell_type": "code",
   "execution_count": 24,
   "metadata": {},
   "outputs": [
    {
     "data": {
      "text/html": [
       "<ol class=list-inline>\n",
       "\t<li>0</li>\n",
       "\t<li>1</li>\n",
       "\t<li>2</li>\n",
       "\t<li>3</li>\n",
       "\t<li>4</li>\n",
       "\t<li>5</li>\n",
       "\t<li>6</li>\n",
       "\t<li>7</li>\n",
       "\t<li>8</li>\n",
       "\t<li>9</li>\n",
       "\t<li>10</li>\n",
       "\t<li>11</li>\n",
       "\t<li>12</li>\n",
       "\t<li>13</li>\n",
       "\t<li>14</li>\n",
       "\t<li>15</li>\n",
       "\t<li>16</li>\n",
       "\t<li>17</li>\n",
       "\t<li>18</li>\n",
       "\t<li>19</li>\n",
       "\t<li>20</li>\n",
       "</ol>\n"
      ],
      "text/latex": [
       "\\begin{enumerate*}\n",
       "\\item 0\n",
       "\\item 1\n",
       "\\item 2\n",
       "\\item 3\n",
       "\\item 4\n",
       "\\item 5\n",
       "\\item 6\n",
       "\\item 7\n",
       "\\item 8\n",
       "\\item 9\n",
       "\\item 10\n",
       "\\item 11\n",
       "\\item 12\n",
       "\\item 13\n",
       "\\item 14\n",
       "\\item 15\n",
       "\\item 16\n",
       "\\item 17\n",
       "\\item 18\n",
       "\\item 19\n",
       "\\item 20\n",
       "\\end{enumerate*}\n"
      ],
      "text/markdown": [
       "1. 0\n",
       "2. 1\n",
       "3. 2\n",
       "4. 3\n",
       "5. 4\n",
       "6. 5\n",
       "7. 6\n",
       "8. 7\n",
       "9. 8\n",
       "10. 9\n",
       "11. 10\n",
       "12. 11\n",
       "13. 12\n",
       "14. 13\n",
       "15. 14\n",
       "16. 15\n",
       "17. 16\n",
       "18. 17\n",
       "19. 18\n",
       "20. 19\n",
       "21. 20\n",
       "\n",
       "\n"
      ],
      "text/plain": [
       " [1]  0  1  2  3  4  5  6  7  8  9 10 11 12 13 14 15 16 17 18 19 20"
      ]
     },
     "metadata": {},
     "output_type": "display_data"
    }
   ],
   "source": [
    "s<-0:20\n",
    "s"
   ]
  },
  {
   "cell_type": "markdown",
   "metadata": {},
   "source": [
    "Now, let's evaluate the function $p(s)$ for each of the values in $s$ and 4 different values of $\\lambda>0$:"
   ]
  },
  {
   "cell_type": "code",
   "execution_count": 29,
   "metadata": {},
   "outputs": [
    {
     "data": {
      "text/html": [
       "0.10546875"
      ],
      "text/latex": [
       "0.10546875"
      ],
      "text/markdown": [
       "0.10546875"
      ],
      "text/plain": [
       "[1] 0.1054688"
      ]
     },
     "metadata": {},
     "output_type": "display_data"
    }
   ],
   "source": [
    "#1. Create the function p(s)\n",
    "ps<-function(s,l){\n",
    "    (1/(1+l))*((l/(1+l))^(s))\n",
    "}\n",
    "ps(3,3)"
   ]
  },
  {
   "cell_type": "code",
   "execution_count": 3,
   "metadata": {},
   "outputs": [],
   "source": [
    "#2. Create the possible values of lambda\n",
    "lvalues<-c(1,5,10,15)"
   ]
  },
  {
   "cell_type": "code",
   "execution_count": 32,
   "metadata": {
    "scrolled": true
   },
   "outputs": [
    {
     "data": {
      "text/html": [
       "<table>\n",
       "<thead><tr><th scope=col>s</th><th scope=col>l1</th><th scope=col>l5</th><th scope=col>l10</th><th scope=col>l15</th></tr></thead>\n",
       "<tbody>\n",
       "\t<tr><td>NA</td><td>NA</td><td>NA</td><td>NA</td><td>NA</td></tr>\n",
       "\t<tr><td>NA</td><td>NA</td><td>NA</td><td>NA</td><td>NA</td></tr>\n",
       "\t<tr><td>NA</td><td>NA</td><td>NA</td><td>NA</td><td>NA</td></tr>\n",
       "\t<tr><td>NA</td><td>NA</td><td>NA</td><td>NA</td><td>NA</td></tr>\n",
       "\t<tr><td>NA</td><td>NA</td><td>NA</td><td>NA</td><td>NA</td></tr>\n",
       "\t<tr><td>NA</td><td>NA</td><td>NA</td><td>NA</td><td>NA</td></tr>\n",
       "</tbody>\n",
       "</table>\n"
      ],
      "text/latex": [
       "\\begin{tabular}{r|lllll}\n",
       " s & l1 & l5 & l10 & l15\\\\\n",
       "\\hline\n",
       "\t NA & NA & NA & NA & NA\\\\\n",
       "\t NA & NA & NA & NA & NA\\\\\n",
       "\t NA & NA & NA & NA & NA\\\\\n",
       "\t NA & NA & NA & NA & NA\\\\\n",
       "\t NA & NA & NA & NA & NA\\\\\n",
       "\t NA & NA & NA & NA & NA\\\\\n",
       "\\end{tabular}\n"
      ],
      "text/markdown": [
       "\n",
       "| s | l1 | l5 | l10 | l15 |\n",
       "|---|---|---|---|---|\n",
       "| NA | NA | NA | NA | NA |\n",
       "| NA | NA | NA | NA | NA |\n",
       "| NA | NA | NA | NA | NA |\n",
       "| NA | NA | NA | NA | NA |\n",
       "| NA | NA | NA | NA | NA |\n",
       "| NA | NA | NA | NA | NA |\n",
       "\n"
      ],
      "text/plain": [
       "  s  l1 l5 l10 l15\n",
       "1 NA NA NA NA  NA \n",
       "2 NA NA NA NA  NA \n",
       "3 NA NA NA NA  NA \n",
       "4 NA NA NA NA  NA \n",
       "5 NA NA NA NA  NA \n",
       "6 NA NA NA NA  NA "
      ]
     },
     "metadata": {},
     "output_type": "display_data"
    }
   ],
   "source": [
    "#3. Create empty dataframe to containt the results of the function\n",
    "p_functions <- data.frame(matrix(ncol = length(lvalues)+1, nrow = length(s)))\n",
    "\n",
    "names<-c(\"s\", \"l1\", \"l5\", \"l10\", \"l15\")\n",
    "colnames(p_functions) <- names\n",
    "head(p_functions)"
   ]
  },
  {
   "cell_type": "code",
   "execution_count": 35,
   "metadata": {
    "scrolled": true
   },
   "outputs": [
    {
     "data": {
      "text/html": [
       "<table>\n",
       "<thead><tr><th scope=col>s</th><th scope=col>l1</th><th scope=col>l5</th><th scope=col>l10</th><th scope=col>l15</th></tr></thead>\n",
       "<tbody>\n",
       "\t<tr><td>0 </td><td>NA</td><td>NA</td><td>NA</td><td>NA</td></tr>\n",
       "\t<tr><td>1 </td><td>NA</td><td>NA</td><td>NA</td><td>NA</td></tr>\n",
       "\t<tr><td>2 </td><td>NA</td><td>NA</td><td>NA</td><td>NA</td></tr>\n",
       "\t<tr><td>3 </td><td>NA</td><td>NA</td><td>NA</td><td>NA</td></tr>\n",
       "\t<tr><td>4 </td><td>NA</td><td>NA</td><td>NA</td><td>NA</td></tr>\n",
       "\t<tr><td>5 </td><td>NA</td><td>NA</td><td>NA</td><td>NA</td></tr>\n",
       "</tbody>\n",
       "</table>\n"
      ],
      "text/latex": [
       "\\begin{tabular}{r|lllll}\n",
       " s & l1 & l5 & l10 & l15\\\\\n",
       "\\hline\n",
       "\t 0  & NA & NA & NA & NA\\\\\n",
       "\t 1  & NA & NA & NA & NA\\\\\n",
       "\t 2  & NA & NA & NA & NA\\\\\n",
       "\t 3  & NA & NA & NA & NA\\\\\n",
       "\t 4  & NA & NA & NA & NA\\\\\n",
       "\t 5  & NA & NA & NA & NA\\\\\n",
       "\\end{tabular}\n"
      ],
      "text/markdown": [
       "\n",
       "| s | l1 | l5 | l10 | l15 |\n",
       "|---|---|---|---|---|\n",
       "| 0  | NA | NA | NA | NA |\n",
       "| 1  | NA | NA | NA | NA |\n",
       "| 2  | NA | NA | NA | NA |\n",
       "| 3  | NA | NA | NA | NA |\n",
       "| 4  | NA | NA | NA | NA |\n",
       "| 5  | NA | NA | NA | NA |\n",
       "\n"
      ],
      "text/plain": [
       "  s l1 l5 l10 l15\n",
       "1 0 NA NA NA  NA \n",
       "2 1 NA NA NA  NA \n",
       "3 2 NA NA NA  NA \n",
       "4 3 NA NA NA  NA \n",
       "5 4 NA NA NA  NA \n",
       "6 5 NA NA NA  NA "
      ]
     },
     "metadata": {},
     "output_type": "display_data"
    }
   ],
   "source": [
    "p_functions$s<-s\n",
    "head(p_functions)"
   ]
  },
  {
   "cell_type": "code",
   "execution_count": 39,
   "metadata": {
    "scrolled": true
   },
   "outputs": [
    {
     "data": {
      "text/html": [
       "<ol class=list-inline>\n",
       "\t<li>0.5</li>\n",
       "\t<li>0.25</li>\n",
       "\t<li>0.125</li>\n",
       "\t<li>0.0625</li>\n",
       "\t<li>0.03125</li>\n",
       "\t<li>0.015625</li>\n",
       "\t<li>0.0078125</li>\n",
       "\t<li>0.00390625</li>\n",
       "\t<li>0.001953125</li>\n",
       "\t<li>0.0009765625</li>\n",
       "\t<li>0.00048828125</li>\n",
       "\t<li>0.000244140625</li>\n",
       "\t<li>0.0001220703125</li>\n",
       "\t<li>6.103515625e-05</li>\n",
       "\t<li>3.0517578125e-05</li>\n",
       "\t<li>1.52587890625e-05</li>\n",
       "\t<li>7.62939453125e-06</li>\n",
       "\t<li>3.814697265625e-06</li>\n",
       "\t<li>1.9073486328125e-06</li>\n",
       "\t<li>9.5367431640625e-07</li>\n",
       "\t<li>4.76837158203125e-07</li>\n",
       "</ol>\n"
      ],
      "text/latex": [
       "\\begin{enumerate*}\n",
       "\\item 0.5\n",
       "\\item 0.25\n",
       "\\item 0.125\n",
       "\\item 0.0625\n",
       "\\item 0.03125\n",
       "\\item 0.015625\n",
       "\\item 0.0078125\n",
       "\\item 0.00390625\n",
       "\\item 0.001953125\n",
       "\\item 0.0009765625\n",
       "\\item 0.00048828125\n",
       "\\item 0.000244140625\n",
       "\\item 0.0001220703125\n",
       "\\item 6.103515625e-05\n",
       "\\item 3.0517578125e-05\n",
       "\\item 1.52587890625e-05\n",
       "\\item 7.62939453125e-06\n",
       "\\item 3.814697265625e-06\n",
       "\\item 1.9073486328125e-06\n",
       "\\item 9.5367431640625e-07\n",
       "\\item 4.76837158203125e-07\n",
       "\\end{enumerate*}\n"
      ],
      "text/markdown": [
       "1. 0.5\n",
       "2. 0.25\n",
       "3. 0.125\n",
       "4. 0.0625\n",
       "5. 0.03125\n",
       "6. 0.015625\n",
       "7. 0.0078125\n",
       "8. 0.00390625\n",
       "9. 0.001953125\n",
       "10. 0.0009765625\n",
       "11. 0.00048828125\n",
       "12. 0.000244140625\n",
       "13. 0.0001220703125\n",
       "14. 6.103515625e-05\n",
       "15. 3.0517578125e-05\n",
       "16. 1.52587890625e-05\n",
       "17. 7.62939453125e-06\n",
       "18. 3.814697265625e-06\n",
       "19. 1.9073486328125e-06\n",
       "20. 9.5367431640625e-07\n",
       "21. 4.76837158203125e-07\n",
       "\n",
       "\n"
      ],
      "text/plain": [
       " [1] 5.000000e-01 2.500000e-01 1.250000e-01 6.250000e-02 3.125000e-02\n",
       " [6] 1.562500e-02 7.812500e-03 3.906250e-03 1.953125e-03 9.765625e-04\n",
       "[11] 4.882812e-04 2.441406e-04 1.220703e-04 6.103516e-05 3.051758e-05\n",
       "[16] 1.525879e-05 7.629395e-06 3.814697e-06 1.907349e-06 9.536743e-07\n",
       "[21] 4.768372e-07"
      ]
     },
     "metadata": {},
     "output_type": "display_data"
    },
    {
     "data": {
      "text/html": [
       "0.5"
      ],
      "text/latex": [
       "0.5"
      ],
      "text/markdown": [
       "0.5"
      ],
      "text/plain": [
       "[1] 0.5"
      ]
     },
     "metadata": {},
     "output_type": "display_data"
    },
    {
     "data": {
      "text/html": [
       "0.25"
      ],
      "text/latex": [
       "0.25"
      ],
      "text/markdown": [
       "0.25"
      ],
      "text/plain": [
       "[1] 0.25"
      ]
     },
     "metadata": {},
     "output_type": "display_data"
    },
    {
     "data": {
      "text/html": [
       "<ol class=list-inline>\n",
       "\t<li>0</li>\n",
       "\t<li>1</li>\n",
       "\t<li>2</li>\n",
       "\t<li>3</li>\n",
       "\t<li>4</li>\n",
       "\t<li>5</li>\n",
       "\t<li>6</li>\n",
       "\t<li>7</li>\n",
       "\t<li>8</li>\n",
       "\t<li>9</li>\n",
       "\t<li>10</li>\n",
       "\t<li>11</li>\n",
       "\t<li>12</li>\n",
       "\t<li>13</li>\n",
       "\t<li>14</li>\n",
       "\t<li>15</li>\n",
       "\t<li>16</li>\n",
       "\t<li>17</li>\n",
       "\t<li>18</li>\n",
       "\t<li>19</li>\n",
       "\t<li>20</li>\n",
       "</ol>\n"
      ],
      "text/latex": [
       "\\begin{enumerate*}\n",
       "\\item 0\n",
       "\\item 1\n",
       "\\item 2\n",
       "\\item 3\n",
       "\\item 4\n",
       "\\item 5\n",
       "\\item 6\n",
       "\\item 7\n",
       "\\item 8\n",
       "\\item 9\n",
       "\\item 10\n",
       "\\item 11\n",
       "\\item 12\n",
       "\\item 13\n",
       "\\item 14\n",
       "\\item 15\n",
       "\\item 16\n",
       "\\item 17\n",
       "\\item 18\n",
       "\\item 19\n",
       "\\item 20\n",
       "\\end{enumerate*}\n"
      ],
      "text/markdown": [
       "1. 0\n",
       "2. 1\n",
       "3. 2\n",
       "4. 3\n",
       "5. 4\n",
       "6. 5\n",
       "7. 6\n",
       "8. 7\n",
       "9. 8\n",
       "10. 9\n",
       "11. 10\n",
       "12. 11\n",
       "13. 12\n",
       "14. 13\n",
       "15. 14\n",
       "16. 15\n",
       "17. 16\n",
       "18. 17\n",
       "19. 18\n",
       "20. 19\n",
       "21. 20\n",
       "\n",
       "\n"
      ],
      "text/plain": [
       " [1]  0  1  2  3  4  5  6  7  8  9 10 11 12 13 14 15 16 17 18 19 20"
      ]
     },
     "metadata": {},
     "output_type": "display_data"
    }
   ],
   "source": [
    "sapply(s,ps,l=1)\n",
    "ps(0,1)\n",
    "ps(1,1)\n",
    "s"
   ]
  },
  {
   "cell_type": "code",
   "execution_count": 42,
   "metadata": {},
   "outputs": [
    {
     "data": {
      "text/html": [
       "'l1'"
      ],
      "text/latex": [
       "'l1'"
      ],
      "text/markdown": [
       "'l1'"
      ],
      "text/plain": [
       "[1] \"l1\""
      ]
     },
     "metadata": {},
     "output_type": "display_data"
    },
    {
     "data": {
      "text/html": [
       "<table>\n",
       "<thead><tr><th scope=col>l1</th></tr></thead>\n",
       "<tbody>\n",
       "\t<tr><td>NA</td></tr>\n",
       "\t<tr><td>NA</td></tr>\n",
       "\t<tr><td>NA</td></tr>\n",
       "\t<tr><td>NA</td></tr>\n",
       "\t<tr><td>NA</td></tr>\n",
       "\t<tr><td>NA</td></tr>\n",
       "\t<tr><td>NA</td></tr>\n",
       "\t<tr><td>NA</td></tr>\n",
       "\t<tr><td>NA</td></tr>\n",
       "\t<tr><td>NA</td></tr>\n",
       "\t<tr><td>NA</td></tr>\n",
       "\t<tr><td>NA</td></tr>\n",
       "\t<tr><td>NA</td></tr>\n",
       "\t<tr><td>NA</td></tr>\n",
       "\t<tr><td>NA</td></tr>\n",
       "\t<tr><td>NA</td></tr>\n",
       "\t<tr><td>NA</td></tr>\n",
       "\t<tr><td>NA</td></tr>\n",
       "\t<tr><td>NA</td></tr>\n",
       "\t<tr><td>NA</td></tr>\n",
       "\t<tr><td>NA</td></tr>\n",
       "</tbody>\n",
       "</table>\n"
      ],
      "text/latex": [
       "\\begin{tabular}{r|l}\n",
       " l1\\\\\n",
       "\\hline\n",
       "\t NA\\\\\n",
       "\t NA\\\\\n",
       "\t NA\\\\\n",
       "\t NA\\\\\n",
       "\t NA\\\\\n",
       "\t NA\\\\\n",
       "\t NA\\\\\n",
       "\t NA\\\\\n",
       "\t NA\\\\\n",
       "\t NA\\\\\n",
       "\t NA\\\\\n",
       "\t NA\\\\\n",
       "\t NA\\\\\n",
       "\t NA\\\\\n",
       "\t NA\\\\\n",
       "\t NA\\\\\n",
       "\t NA\\\\\n",
       "\t NA\\\\\n",
       "\t NA\\\\\n",
       "\t NA\\\\\n",
       "\t NA\\\\\n",
       "\\end{tabular}\n"
      ],
      "text/markdown": [
       "\n",
       "| l1 |\n",
       "|---|\n",
       "| NA |\n",
       "| NA |\n",
       "| NA |\n",
       "| NA |\n",
       "| NA |\n",
       "| NA |\n",
       "| NA |\n",
       "| NA |\n",
       "| NA |\n",
       "| NA |\n",
       "| NA |\n",
       "| NA |\n",
       "| NA |\n",
       "| NA |\n",
       "| NA |\n",
       "| NA |\n",
       "| NA |\n",
       "| NA |\n",
       "| NA |\n",
       "| NA |\n",
       "| NA |\n",
       "\n"
      ],
      "text/plain": [
       "   l1\n",
       "1  NA\n",
       "2  NA\n",
       "3  NA\n",
       "4  NA\n",
       "5  NA\n",
       "6  NA\n",
       "7  NA\n",
       "8  NA\n",
       "9  NA\n",
       "10 NA\n",
       "11 NA\n",
       "12 NA\n",
       "13 NA\n",
       "14 NA\n",
       "15 NA\n",
       "16 NA\n",
       "17 NA\n",
       "18 NA\n",
       "19 NA\n",
       "20 NA\n",
       "21 NA"
      ]
     },
     "metadata": {},
     "output_type": "display_data"
    }
   ],
   "source": [
    "names[2]\n",
    "p_functions[names[2]]"
   ]
  },
  {
   "cell_type": "code",
   "execution_count": 43,
   "metadata": {},
   "outputs": [
    {
     "data": {
      "text/html": [
       "<table>\n",
       "<thead><tr><th scope=col>s</th><th scope=col>l1</th><th scope=col>l5</th><th scope=col>l10</th><th scope=col>l15</th></tr></thead>\n",
       "<tbody>\n",
       "\t<tr><td> 0          </td><td>5.000000e-01</td><td>0.166666667 </td><td>0.09090909  </td><td>0.06250000  </td></tr>\n",
       "\t<tr><td> 1          </td><td>2.500000e-01</td><td>0.138888889 </td><td>0.08264463  </td><td>0.05859375  </td></tr>\n",
       "\t<tr><td> 2          </td><td>1.250000e-01</td><td>0.115740741 </td><td>0.07513148  </td><td>0.05493164  </td></tr>\n",
       "\t<tr><td> 3          </td><td>6.250000e-02</td><td>0.096450617 </td><td>0.06830135  </td><td>0.05149841  </td></tr>\n",
       "\t<tr><td> 4          </td><td>3.125000e-02</td><td>0.080375514 </td><td>0.06209213  </td><td>0.04827976  </td></tr>\n",
       "\t<tr><td> 5          </td><td>1.562500e-02</td><td>0.066979595 </td><td>0.05644739  </td><td>0.04526228  </td></tr>\n",
       "\t<tr><td> 6          </td><td>7.812500e-03</td><td>0.055816329 </td><td>0.05131581  </td><td>0.04243338  </td></tr>\n",
       "\t<tr><td> 7          </td><td>3.906250e-03</td><td>0.046513608 </td><td>0.04665074  </td><td>0.03978130  </td></tr>\n",
       "\t<tr><td> 8          </td><td>1.953125e-03</td><td>0.038761340 </td><td>0.04240976  </td><td>0.03729497  </td></tr>\n",
       "\t<tr><td> 9          </td><td>9.765625e-04</td><td>0.032301117 </td><td>0.03855433  </td><td>0.03496403  </td></tr>\n",
       "\t<tr><td>10          </td><td>4.882812e-04</td><td>0.026917597 </td><td>0.03504939  </td><td>0.03277878  </td></tr>\n",
       "\t<tr><td>11          </td><td>2.441406e-04</td><td>0.022431331 </td><td>0.03186308  </td><td>0.03073011  </td></tr>\n",
       "\t<tr><td>12          </td><td>1.220703e-04</td><td>0.018692776 </td><td>0.02896644  </td><td>0.02880947  </td></tr>\n",
       "\t<tr><td>13          </td><td>6.103516e-05</td><td>0.015577313 </td><td>0.02633313  </td><td>0.02700888  </td></tr>\n",
       "\t<tr><td>14          </td><td>3.051758e-05</td><td>0.012981094 </td><td>0.02393920  </td><td>0.02532083  </td></tr>\n",
       "\t<tr><td>15          </td><td>1.525879e-05</td><td>0.010817579 </td><td>0.02176291  </td><td>0.02373828  </td></tr>\n",
       "\t<tr><td>16          </td><td>7.629395e-06</td><td>0.009014649 </td><td>0.01978447  </td><td>0.02225463  </td></tr>\n",
       "\t<tr><td>17          </td><td>3.814697e-06</td><td>0.007512207 </td><td>0.01798588  </td><td>0.02086372  </td></tr>\n",
       "\t<tr><td>18          </td><td>1.907349e-06</td><td>0.006260173 </td><td>0.01635080  </td><td>0.01955974  </td></tr>\n",
       "\t<tr><td>19          </td><td>9.536743e-07</td><td>0.005216811 </td><td>0.01486436  </td><td>0.01833725  </td></tr>\n",
       "\t<tr><td>20          </td><td>4.768372e-07</td><td>0.004347342 </td><td>0.01351306  </td><td>0.01719117  </td></tr>\n",
       "</tbody>\n",
       "</table>\n"
      ],
      "text/latex": [
       "\\begin{tabular}{r|lllll}\n",
       " s & l1 & l5 & l10 & l15\\\\\n",
       "\\hline\n",
       "\t  0           & 5.000000e-01 & 0.166666667  & 0.09090909   & 0.06250000  \\\\\n",
       "\t  1           & 2.500000e-01 & 0.138888889  & 0.08264463   & 0.05859375  \\\\\n",
       "\t  2           & 1.250000e-01 & 0.115740741  & 0.07513148   & 0.05493164  \\\\\n",
       "\t  3           & 6.250000e-02 & 0.096450617  & 0.06830135   & 0.05149841  \\\\\n",
       "\t  4           & 3.125000e-02 & 0.080375514  & 0.06209213   & 0.04827976  \\\\\n",
       "\t  5           & 1.562500e-02 & 0.066979595  & 0.05644739   & 0.04526228  \\\\\n",
       "\t  6           & 7.812500e-03 & 0.055816329  & 0.05131581   & 0.04243338  \\\\\n",
       "\t  7           & 3.906250e-03 & 0.046513608  & 0.04665074   & 0.03978130  \\\\\n",
       "\t  8           & 1.953125e-03 & 0.038761340  & 0.04240976   & 0.03729497  \\\\\n",
       "\t  9           & 9.765625e-04 & 0.032301117  & 0.03855433   & 0.03496403  \\\\\n",
       "\t 10           & 4.882812e-04 & 0.026917597  & 0.03504939   & 0.03277878  \\\\\n",
       "\t 11           & 2.441406e-04 & 0.022431331  & 0.03186308   & 0.03073011  \\\\\n",
       "\t 12           & 1.220703e-04 & 0.018692776  & 0.02896644   & 0.02880947  \\\\\n",
       "\t 13           & 6.103516e-05 & 0.015577313  & 0.02633313   & 0.02700888  \\\\\n",
       "\t 14           & 3.051758e-05 & 0.012981094  & 0.02393920   & 0.02532083  \\\\\n",
       "\t 15           & 1.525879e-05 & 0.010817579  & 0.02176291   & 0.02373828  \\\\\n",
       "\t 16           & 7.629395e-06 & 0.009014649  & 0.01978447   & 0.02225463  \\\\\n",
       "\t 17           & 3.814697e-06 & 0.007512207  & 0.01798588   & 0.02086372  \\\\\n",
       "\t 18           & 1.907349e-06 & 0.006260173  & 0.01635080   & 0.01955974  \\\\\n",
       "\t 19           & 9.536743e-07 & 0.005216811  & 0.01486436   & 0.01833725  \\\\\n",
       "\t 20           & 4.768372e-07 & 0.004347342  & 0.01351306   & 0.01719117  \\\\\n",
       "\\end{tabular}\n"
      ],
      "text/markdown": [
       "\n",
       "| s | l1 | l5 | l10 | l15 |\n",
       "|---|---|---|---|---|\n",
       "|  0           | 5.000000e-01 | 0.166666667  | 0.09090909   | 0.06250000   |\n",
       "|  1           | 2.500000e-01 | 0.138888889  | 0.08264463   | 0.05859375   |\n",
       "|  2           | 1.250000e-01 | 0.115740741  | 0.07513148   | 0.05493164   |\n",
       "|  3           | 6.250000e-02 | 0.096450617  | 0.06830135   | 0.05149841   |\n",
       "|  4           | 3.125000e-02 | 0.080375514  | 0.06209213   | 0.04827976   |\n",
       "|  5           | 1.562500e-02 | 0.066979595  | 0.05644739   | 0.04526228   |\n",
       "|  6           | 7.812500e-03 | 0.055816329  | 0.05131581   | 0.04243338   |\n",
       "|  7           | 3.906250e-03 | 0.046513608  | 0.04665074   | 0.03978130   |\n",
       "|  8           | 1.953125e-03 | 0.038761340  | 0.04240976   | 0.03729497   |\n",
       "|  9           | 9.765625e-04 | 0.032301117  | 0.03855433   | 0.03496403   |\n",
       "| 10           | 4.882812e-04 | 0.026917597  | 0.03504939   | 0.03277878   |\n",
       "| 11           | 2.441406e-04 | 0.022431331  | 0.03186308   | 0.03073011   |\n",
       "| 12           | 1.220703e-04 | 0.018692776  | 0.02896644   | 0.02880947   |\n",
       "| 13           | 6.103516e-05 | 0.015577313  | 0.02633313   | 0.02700888   |\n",
       "| 14           | 3.051758e-05 | 0.012981094  | 0.02393920   | 0.02532083   |\n",
       "| 15           | 1.525879e-05 | 0.010817579  | 0.02176291   | 0.02373828   |\n",
       "| 16           | 7.629395e-06 | 0.009014649  | 0.01978447   | 0.02225463   |\n",
       "| 17           | 3.814697e-06 | 0.007512207  | 0.01798588   | 0.02086372   |\n",
       "| 18           | 1.907349e-06 | 0.006260173  | 0.01635080   | 0.01955974   |\n",
       "| 19           | 9.536743e-07 | 0.005216811  | 0.01486436   | 0.01833725   |\n",
       "| 20           | 4.768372e-07 | 0.004347342  | 0.01351306   | 0.01719117   |\n",
       "\n"
      ],
      "text/plain": [
       "   s  l1           l5          l10        l15       \n",
       "1   0 5.000000e-01 0.166666667 0.09090909 0.06250000\n",
       "2   1 2.500000e-01 0.138888889 0.08264463 0.05859375\n",
       "3   2 1.250000e-01 0.115740741 0.07513148 0.05493164\n",
       "4   3 6.250000e-02 0.096450617 0.06830135 0.05149841\n",
       "5   4 3.125000e-02 0.080375514 0.06209213 0.04827976\n",
       "6   5 1.562500e-02 0.066979595 0.05644739 0.04526228\n",
       "7   6 7.812500e-03 0.055816329 0.05131581 0.04243338\n",
       "8   7 3.906250e-03 0.046513608 0.04665074 0.03978130\n",
       "9   8 1.953125e-03 0.038761340 0.04240976 0.03729497\n",
       "10  9 9.765625e-04 0.032301117 0.03855433 0.03496403\n",
       "11 10 4.882812e-04 0.026917597 0.03504939 0.03277878\n",
       "12 11 2.441406e-04 0.022431331 0.03186308 0.03073011\n",
       "13 12 1.220703e-04 0.018692776 0.02896644 0.02880947\n",
       "14 13 6.103516e-05 0.015577313 0.02633313 0.02700888\n",
       "15 14 3.051758e-05 0.012981094 0.02393920 0.02532083\n",
       "16 15 1.525879e-05 0.010817579 0.02176291 0.02373828\n",
       "17 16 7.629395e-06 0.009014649 0.01978447 0.02225463\n",
       "18 17 3.814697e-06 0.007512207 0.01798588 0.02086372\n",
       "19 18 1.907349e-06 0.006260173 0.01635080 0.01955974\n",
       "20 19 9.536743e-07 0.005216811 0.01486436 0.01833725\n",
       "21 20 4.768372e-07 0.004347342 0.01351306 0.01719117"
      ]
     },
     "metadata": {},
     "output_type": "display_data"
    }
   ],
   "source": [
    "#4. Populate the dataframe with the required values\n",
    "j=2\n",
    "for (i in lvalues){\n",
    "    p_functions[names[j]]<-sapply(s,ps,l=i)\n",
    "    j<-j+1\n",
    "}\n",
    "p_functions"
   ]
  },
  {
   "cell_type": "markdown",
   "metadata": {},
   "source": [
    "The next steps are to check the conditions 1 and 2. Note that in this case $S={0,\\dots,20}$. \n",
    "\n",
    "(1) Checking condition 1:  we need to check that all the elements in the columns ``l1`` to ``l15`` are positive."
   ]
  },
  {
   "cell_type": "code",
   "execution_count": 45,
   "metadata": {},
   "outputs": [
    {
     "data": {
      "text/html": [
       "<table>\n",
       "<thead><tr><th scope=col>l1</th></tr></thead>\n",
       "<tbody>\n",
       "\t<tr><td>TRUE</td></tr>\n",
       "\t<tr><td>TRUE</td></tr>\n",
       "\t<tr><td>TRUE</td></tr>\n",
       "\t<tr><td>TRUE</td></tr>\n",
       "\t<tr><td>TRUE</td></tr>\n",
       "\t<tr><td>TRUE</td></tr>\n",
       "\t<tr><td>TRUE</td></tr>\n",
       "\t<tr><td>TRUE</td></tr>\n",
       "\t<tr><td>TRUE</td></tr>\n",
       "\t<tr><td>TRUE</td></tr>\n",
       "\t<tr><td>TRUE</td></tr>\n",
       "\t<tr><td>TRUE</td></tr>\n",
       "\t<tr><td>TRUE</td></tr>\n",
       "\t<tr><td>TRUE</td></tr>\n",
       "\t<tr><td>TRUE</td></tr>\n",
       "\t<tr><td>TRUE</td></tr>\n",
       "\t<tr><td>TRUE</td></tr>\n",
       "\t<tr><td>TRUE</td></tr>\n",
       "\t<tr><td>TRUE</td></tr>\n",
       "\t<tr><td>TRUE</td></tr>\n",
       "\t<tr><td>TRUE</td></tr>\n",
       "</tbody>\n",
       "</table>\n"
      ],
      "text/latex": [
       "\\begin{tabular}{l}\n",
       " l1\\\\\n",
       "\\hline\n",
       "\t TRUE\\\\\n",
       "\t TRUE\\\\\n",
       "\t TRUE\\\\\n",
       "\t TRUE\\\\\n",
       "\t TRUE\\\\\n",
       "\t TRUE\\\\\n",
       "\t TRUE\\\\\n",
       "\t TRUE\\\\\n",
       "\t TRUE\\\\\n",
       "\t TRUE\\\\\n",
       "\t TRUE\\\\\n",
       "\t TRUE\\\\\n",
       "\t TRUE\\\\\n",
       "\t TRUE\\\\\n",
       "\t TRUE\\\\\n",
       "\t TRUE\\\\\n",
       "\t TRUE\\\\\n",
       "\t TRUE\\\\\n",
       "\t TRUE\\\\\n",
       "\t TRUE\\\\\n",
       "\t TRUE\\\\\n",
       "\\end{tabular}\n"
      ],
      "text/markdown": [
       "\n",
       "| l1 |\n",
       "|---|\n",
       "| TRUE |\n",
       "| TRUE |\n",
       "| TRUE |\n",
       "| TRUE |\n",
       "| TRUE |\n",
       "| TRUE |\n",
       "| TRUE |\n",
       "| TRUE |\n",
       "| TRUE |\n",
       "| TRUE |\n",
       "| TRUE |\n",
       "| TRUE |\n",
       "| TRUE |\n",
       "| TRUE |\n",
       "| TRUE |\n",
       "| TRUE |\n",
       "| TRUE |\n",
       "| TRUE |\n",
       "| TRUE |\n",
       "| TRUE |\n",
       "| TRUE |\n",
       "\n"
      ],
      "text/plain": [
       "      l1  \n",
       " [1,] TRUE\n",
       " [2,] TRUE\n",
       " [3,] TRUE\n",
       " [4,] TRUE\n",
       " [5,] TRUE\n",
       " [6,] TRUE\n",
       " [7,] TRUE\n",
       " [8,] TRUE\n",
       " [9,] TRUE\n",
       "[10,] TRUE\n",
       "[11,] TRUE\n",
       "[12,] TRUE\n",
       "[13,] TRUE\n",
       "[14,] TRUE\n",
       "[15,] TRUE\n",
       "[16,] TRUE\n",
       "[17,] TRUE\n",
       "[18,] TRUE\n",
       "[19,] TRUE\n",
       "[20,] TRUE\n",
       "[21,] TRUE"
      ]
     },
     "metadata": {},
     "output_type": "display_data"
    }
   ],
   "source": [
    "p_functions[names[2]]>0"
   ]
  },
  {
   "cell_type": "code",
   "execution_count": 47,
   "metadata": {},
   "outputs": [
    {
     "data": {
      "text/html": [
       "TRUE"
      ],
      "text/latex": [
       "TRUE"
      ],
      "text/markdown": [
       "TRUE"
      ],
      "text/plain": [
       "[1] TRUE"
      ]
     },
     "metadata": {},
     "output_type": "display_data"
    }
   ],
   "source": [
    "all(p_functions[names[2]]>0)"
   ]
  },
  {
   "cell_type": "code",
   "execution_count": 6,
   "metadata": {
    "scrolled": true
   },
   "outputs": [
    {
     "name": "stdout",
     "output_type": "stream",
     "text": [
      "[1] \"Are all the elements in column 2 positive? TRUE\"\n",
      "[1] \"Are all the elements in column 3 positive? TRUE\"\n",
      "[1] \"Are all the elements in column 4 positive? TRUE\"\n",
      "[1] \"Are all the elements in column 5 positive? TRUE\"\n"
     ]
    }
   ],
   "source": [
    "#One way to check the condition for each value of lambda\n",
    "for (i in 2:5){\n",
    "    print(paste0('Are all the elements in column ',i,' positive? ',all(p_functions[names[i]]>0)))\n",
    "}"
   ]
  },
  {
   "cell_type": "code",
   "execution_count": 50,
   "metadata": {},
   "outputs": [
    {
     "data": {
      "text/html": [
       "TRUE"
      ],
      "text/latex": [
       "TRUE"
      ],
      "text/markdown": [
       "TRUE"
      ],
      "text/plain": [
       "[1] TRUE"
      ]
     },
     "metadata": {},
     "output_type": "display_data"
    }
   ],
   "source": [
    "all(p_functions[names[2:5]]>0)"
   ]
  },
  {
   "cell_type": "code",
   "execution_count": 51,
   "metadata": {},
   "outputs": [
    {
     "name": "stdout",
     "output_type": "stream",
     "text": [
      "[1] \"Condition 1 is satisfied!\"\n"
     ]
    }
   ],
   "source": [
    "#Check the conditions for all values of lambda at the same time\n",
    "if (all(p_functions[names[2:5]]>0)==1){print('Condition 1 is satisfied!')}"
   ]
  },
  {
   "cell_type": "markdown",
   "metadata": {},
   "source": [
    "(2) Checking condition 2: we need to check that the sum of all elements in columns ``l1`` to ``l5`` add up to one."
   ]
  },
  {
   "cell_type": "markdown",
   "metadata": {},
   "source": [
    "$\\begin{aligned} \\sum_{\\text {all } s \\in S} p(s) &=\\sum_{s=0}^{\\infty} \\frac{1}{1+\\lambda}\\left(\\frac{\\lambda}{1+\\lambda}\\right)^{s} \\\\ &=\\frac{1}{1+\\lambda}\\left(\\frac{1}{1-\\frac{\\lambda}{1+\\lambda}}\\right) \\\\ &=\\frac{1}{1+\\lambda} \\cdot \\frac{1+\\lambda}{1} \\\\ &=1 \\end{aligned}$"
   ]
  },
  {
   "cell_type": "code",
   "execution_count": null,
   "metadata": {},
   "outputs": [],
   "source": []
  },
  {
   "cell_type": "code",
   "execution_count": null,
   "metadata": {},
   "outputs": [],
   "source": []
  },
  {
   "cell_type": "code",
   "execution_count": 8,
   "metadata": {},
   "outputs": [
    {
     "data": {
      "text/html": [
       "<dl class=dl-horizontal>\n",
       "\t<dt>l1</dt>\n",
       "\t\t<dd>0.999999523162842</dd>\n",
       "\t<dt>l5</dt>\n",
       "\t\t<dd>0.978263288912843</dd>\n",
       "\t<dt>l10</dt>\n",
       "\t\t<dd>0.86486942906896</dd>\n",
       "\t<dt>l15</dt>\n",
       "\t\t<dd>0.742132384479685</dd>\n",
       "</dl>\n"
      ],
      "text/latex": [
       "\\begin{description*}\n",
       "\\item[l1] 0.999999523162842\n",
       "\\item[l5] 0.978263288912843\n",
       "\\item[l10] 0.86486942906896\n",
       "\\item[l15] 0.742132384479685\n",
       "\\end{description*}\n"
      ],
      "text/markdown": [
       "l1\n",
       ":   0.999999523162842l5\n",
       ":   0.978263288912843l10\n",
       ":   0.86486942906896l15\n",
       ":   0.742132384479685\n",
       "\n"
      ],
      "text/plain": [
       "       l1        l5       l10       l15 \n",
       "0.9999995 0.9782633 0.8648694 0.7421324 "
      ]
     },
     "metadata": {},
     "output_type": "display_data"
    }
   ],
   "source": [
    "apply(p_functions[names[2:5]],2,sum)"
   ]
  },
  {
   "cell_type": "code",
   "execution_count": 9,
   "metadata": {},
   "outputs": [
    {
     "data": {
      "text/html": [
       "0.999999999999652"
      ],
      "text/latex": [
       "0.999999999999652"
      ],
      "text/markdown": [
       "0.999999999999652"
      ],
      "text/plain": [
       "[1] 1"
      ]
     },
     "metadata": {},
     "output_type": "display_data"
    },
    {
     "data": {
      "text/html": [
       "1"
      ],
      "text/latex": [
       "1"
      ],
      "text/markdown": [
       "1"
      ],
      "text/plain": [
       "[1] 1"
      ]
     },
     "metadata": {},
     "output_type": "display_data"
    },
    {
     "data": {
      "text/html": [
       "0.999999996341069"
      ],
      "text/latex": [
       "0.999999996341069"
      ],
      "text/markdown": [
       "0.999999996341069"
      ],
      "text/plain": [
       "[1] 1"
      ]
     },
     "metadata": {},
     "output_type": "display_data"
    },
    {
     "data": {
      "text/html": [
       "0.999999999999991"
      ],
      "text/latex": [
       "0.999999999999991"
      ],
      "text/markdown": [
       "0.999999999999991"
      ],
      "text/plain": [
       "[1] 1"
      ]
     },
     "metadata": {},
     "output_type": "display_data"
    },
    {
     "data": {
      "text/html": [
       "1"
      ],
      "text/latex": [
       "1"
      ],
      "text/markdown": [
       "1"
      ],
      "text/plain": [
       "[1] 1"
      ]
     },
     "metadata": {},
     "output_type": "display_data"
    }
   ],
   "source": [
    "#Increase the sample size to make the function sum up to exaclty one\n",
    "\n",
    "#for lambda=10\n",
    "sum(sapply(0:300,ps,l=10))\n",
    "sum(sapply(0:500,ps,l=10))\n",
    "\n",
    "#for lambda=15\n",
    "sum(sapply(0:300,ps,l=15))\n",
    "sum(sapply(0:500,ps,l=15))\n",
    "sum(sapply(0:700,ps,l=15))"
   ]
  },
  {
   "cell_type": "markdown",
   "metadata": {},
   "source": [
    "Finally, let's see how the distribution looks like for different values of $\\lambda$"
   ]
  },
  {
   "cell_type": "code",
   "execution_count": 10,
   "metadata": {},
   "outputs": [],
   "source": [
    "suppressWarnings(library('ggplot2'))"
   ]
  },
  {
   "cell_type": "code",
   "execution_count": 22,
   "metadata": {},
   "outputs": [
    {
     "data": {
      "text/html": [
       "<table>\n",
       "<thead><tr><th scope=col>s</th><th scope=col>type</th><th scope=col>p</th></tr></thead>\n",
       "<tbody>\n",
       "\t<tr><td>0       </td><td>l1      </td><td>0.500000</td></tr>\n",
       "\t<tr><td>1       </td><td>l1      </td><td>0.250000</td></tr>\n",
       "\t<tr><td>2       </td><td>l1      </td><td>0.125000</td></tr>\n",
       "\t<tr><td>3       </td><td>l1      </td><td>0.062500</td></tr>\n",
       "\t<tr><td>4       </td><td>l1      </td><td>0.031250</td></tr>\n",
       "\t<tr><td>5       </td><td>l1      </td><td>0.015625</td></tr>\n",
       "</tbody>\n",
       "</table>\n"
      ],
      "text/latex": [
       "\\begin{tabular}{r|lll}\n",
       " s & type & p\\\\\n",
       "\\hline\n",
       "\t 0        & l1       & 0.500000\\\\\n",
       "\t 1        & l1       & 0.250000\\\\\n",
       "\t 2        & l1       & 0.125000\\\\\n",
       "\t 3        & l1       & 0.062500\\\\\n",
       "\t 4        & l1       & 0.031250\\\\\n",
       "\t 5        & l1       & 0.015625\\\\\n",
       "\\end{tabular}\n"
      ],
      "text/markdown": [
       "\n",
       "| s | type | p |\n",
       "|---|---|---|\n",
       "| 0        | l1       | 0.500000 |\n",
       "| 1        | l1       | 0.250000 |\n",
       "| 2        | l1       | 0.125000 |\n",
       "| 3        | l1       | 0.062500 |\n",
       "| 4        | l1       | 0.031250 |\n",
       "| 5        | l1       | 0.015625 |\n",
       "\n"
      ],
      "text/plain": [
       "  s type p       \n",
       "1 0 l1   0.500000\n",
       "2 1 l1   0.250000\n",
       "3 2 l1   0.125000\n",
       "4 3 l1   0.062500\n",
       "5 4 l1   0.031250\n",
       "6 5 l1   0.015625"
      ]
     },
     "metadata": {},
     "output_type": "display_data"
    }
   ],
   "source": [
    "suppressWarnings(library('dplyr'))\n",
    "suppressWarnings(library('tidyr'))\n",
    "df_long <- gather(p_functions,\"type\", \"p\", -s)\n",
    "head(df_long)"
   ]
  },
  {
   "cell_type": "code",
   "execution_count": 12,
   "metadata": {},
   "outputs": [
    {
     "data": {
      "image/png": "[encoded data removed]",
      "text/plain": [
       "plot without title"
      ]
     },
     "metadata": {},
     "output_type": "display_data"
    }
   ],
   "source": [
    "options(repr.plot.width=6, repr.plot.height=4)\n",
    "ggplot(df_long, aes(x = s, y = p, fill=type)) +\n",
    "  geom_col(position = \"dodge\") "
   ]
  },
  {
   "cell_type": "code",
   "execution_count": 13,
   "metadata": {},
   "outputs": [
    {
     "data": {
      "text/html": [
       "0.5"
      ],
      "text/latex": [
       "0.5"
      ],
      "text/markdown": [
       "0.5"
      ],
      "text/plain": [
       "[1] 0.5"
      ]
     },
     "metadata": {},
     "output_type": "display_data"
    },
    {
     "data": {
      "text/html": [
       "0.9375"
      ],
      "text/latex": [
       "0.9375"
      ],
      "text/markdown": [
       "0.9375"
      ],
      "text/plain": [
       "[1] 0.9375"
      ]
     },
     "metadata": {},
     "output_type": "display_data"
    }
   ],
   "source": [
    "(1/(1+1))\n",
    "(15/(1+15))"
   ]
  },
  {
   "cell_type": "markdown",
   "metadata": {},
   "source": [
    "## Definition 2: Probability Density Function\n",
    "\n",
    "Remember: a *discrete random variable* is a function mapping from $S$ to a countable set in the reals. Then, associated with every discrete random variable $X$ is a probability density function (PDF), denoted $p_{X}(k)$, where\n",
    "\n",
    "$$p_{X}(k)=P(X=k)$$\n",
    "\n",
    "Note that $p_{X} (k) = 0$ for any $k$ not in the range of $X$. "
   ]
  },
  {
   "cell_type": "markdown",
   "metadata": {},
   "source": [
    "### Example 2:\n",
    "An urn contains five balls numbered 1 to 5. Two balls are drawn simultaneously.\n",
    "\n",
    "(a) Let $X$ be the larger of the two numbers drawn. Find $p_{X}(k)$.\n",
    "\n",
    "(b) Let $V$ be the sum of the two numbers drawn. Find $p_{V} (k)$."
   ]
  },
  {
   "cell_type": "code",
   "execution_count": 14,
   "metadata": {
    "scrolled": false
   },
   "outputs": [
    {
     "data": {
      "text/html": [
       "<table>\n",
       "<thead><tr><th scope=col>1</th><th scope=col>2</th><th scope=col>3</th><th scope=col>4</th><th scope=col>5</th><th scope=col>6</th><th scope=col>7</th><th scope=col>8</th><th scope=col>9</th><th scope=col>10</th></tr></thead>\n",
       "<tbody>\n",
       "\t<tr><td>1</td><td>1</td><td>1</td><td>1</td><td>2</td><td>2</td><td>2</td><td>3</td><td>3</td><td>4</td></tr>\n",
       "\t<tr><td>2</td><td>3</td><td>4</td><td>5</td><td>3</td><td>4</td><td>5</td><td>4</td><td>5</td><td>5</td></tr>\n",
       "</tbody>\n",
       "</table>\n"
      ],
      "text/latex": [
       "\\begin{tabular}{r|llllllllll}\n",
       " 1 & 2 & 3 & 4 & 5 & 6 & 7 & 8 & 9 & 10\\\\\n",
       "\\hline\n",
       "\t 1 & 1 & 1 & 1 & 2 & 2 & 2 & 3 & 3 & 4\\\\\n",
       "\t 2 & 3 & 4 & 5 & 3 & 4 & 5 & 4 & 5 & 5\\\\\n",
       "\\end{tabular}\n"
      ],
      "text/markdown": [
       "\n",
       "| 1 | 2 | 3 | 4 | 5 | 6 | 7 | 8 | 9 | 10 |\n",
       "|---|---|---|---|---|---|---|---|---|---|\n",
       "| 1 | 1 | 1 | 1 | 2 | 2 | 2 | 3 | 3 | 4 |\n",
       "| 2 | 3 | 4 | 5 | 3 | 4 | 5 | 4 | 5 | 5 |\n",
       "\n"
      ],
      "text/plain": [
       "  1 2 3 4 5 6 7 8 9 10\n",
       "1 1 1 1 1 2 2 2 3 3 4 \n",
       "2 2 3 4 5 3 4 5 4 5 5 "
      ]
     },
     "metadata": {},
     "output_type": "display_data"
    }
   ],
   "source": [
    "#1. Create container\n",
    "u<-1:5\n",
    "\n",
    "#2. Create dataframe with all possible combinations without repetition\n",
    "comb<-data.frame(combn(u,2))\n",
    "colnames(comb) <- 1:length(comb)\n",
    "comb"
   ]
  },
  {
   "cell_type": "markdown",
   "metadata": {},
   "source": [
    "(a) Finding $p_{X}(k)$:"
   ]
  },
  {
   "cell_type": "code",
   "execution_count": 15,
   "metadata": {},
   "outputs": [
    {
     "data": {
      "text/html": [
       "<dl class=dl-horizontal>\n",
       "\t<dt>1</dt>\n",
       "\t\t<dd>2</dd>\n",
       "\t<dt>2</dt>\n",
       "\t\t<dd>3</dd>\n",
       "\t<dt>3</dt>\n",
       "\t\t<dd>4</dd>\n",
       "\t<dt>4</dt>\n",
       "\t\t<dd>5</dd>\n",
       "\t<dt>5</dt>\n",
       "\t\t<dd>3</dd>\n",
       "\t<dt>6</dt>\n",
       "\t\t<dd>4</dd>\n",
       "\t<dt>7</dt>\n",
       "\t\t<dd>5</dd>\n",
       "\t<dt>8</dt>\n",
       "\t\t<dd>4</dd>\n",
       "\t<dt>9</dt>\n",
       "\t\t<dd>5</dd>\n",
       "\t<dt>10</dt>\n",
       "\t\t<dd>5</dd>\n",
       "</dl>\n"
      ],
      "text/latex": [
       "\\begin{description*}\n",
       "\\item[1] 2\n",
       "\\item[2] 3\n",
       "\\item[3] 4\n",
       "\\item[4] 5\n",
       "\\item[5] 3\n",
       "\\item[6] 4\n",
       "\\item[7] 5\n",
       "\\item[8] 4\n",
       "\\item[9] 5\n",
       "\\item[10] 5\n",
       "\\end{description*}\n"
      ],
      "text/markdown": [
       "1\n",
       ":   22\n",
       ":   33\n",
       ":   44\n",
       ":   55\n",
       ":   36\n",
       ":   47\n",
       ":   58\n",
       ":   49\n",
       ":   510\n",
       ":   5\n",
       "\n"
      ],
      "text/plain": [
       " 1  2  3  4  5  6  7  8  9 10 \n",
       " 2  3  4  5  3  4  5  4  5  5 "
      ]
     },
     "metadata": {},
     "output_type": "display_data"
    }
   ],
   "source": [
    "#Create a vector with the maximum of all possible combinations\n",
    "\n",
    "max_val<-sapply(comb,max)\n",
    "max_val"
   ]
  },
  {
   "cell_type": "code",
   "execution_count": 16,
   "metadata": {
    "scrolled": true
   },
   "outputs": [
    {
     "data": {
      "text/html": [
       "<ol class=list-inline>\n",
       "\t<li>0</li>\n",
       "\t<li>0.1</li>\n",
       "\t<li>0.2</li>\n",
       "\t<li>0.3</li>\n",
       "\t<li>0.4</li>\n",
       "</ol>\n"
      ],
      "text/latex": [
       "\\begin{enumerate*}\n",
       "\\item 0\n",
       "\\item 0.1\n",
       "\\item 0.2\n",
       "\\item 0.3\n",
       "\\item 0.4\n",
       "\\end{enumerate*}\n"
      ],
      "text/markdown": [
       "1. 0\n",
       "2. 0.1\n",
       "3. 0.2\n",
       "4. 0.3\n",
       "5. 0.4\n",
       "\n",
       "\n"
      ],
      "text/plain": [
       "[1] 0.0 0.1 0.2 0.3 0.4"
      ]
     },
     "metadata": {},
     "output_type": "display_data"
    }
   ],
   "source": [
    "#Calculate the probabilities\n",
    "\n",
    "px<-vector()\n",
    "for (j in 1:5){\n",
    "    px<-append(px,mean(max_val==j))\n",
    "}\n",
    "px"
   ]
  },
  {
   "cell_type": "markdown",
   "metadata": {},
   "source": [
    "(b) Finding $p_{V} (k)$."
   ]
  },
  {
   "cell_type": "code",
   "execution_count": 17,
   "metadata": {
    "scrolled": true
   },
   "outputs": [
    {
     "data": {
      "text/html": [
       "<dl class=dl-horizontal>\n",
       "\t<dt>1</dt>\n",
       "\t\t<dd>3</dd>\n",
       "\t<dt>2</dt>\n",
       "\t\t<dd>4</dd>\n",
       "\t<dt>3</dt>\n",
       "\t\t<dd>5</dd>\n",
       "\t<dt>4</dt>\n",
       "\t\t<dd>6</dd>\n",
       "\t<dt>5</dt>\n",
       "\t\t<dd>5</dd>\n",
       "\t<dt>6</dt>\n",
       "\t\t<dd>6</dd>\n",
       "\t<dt>7</dt>\n",
       "\t\t<dd>7</dd>\n",
       "\t<dt>8</dt>\n",
       "\t\t<dd>7</dd>\n",
       "\t<dt>9</dt>\n",
       "\t\t<dd>8</dd>\n",
       "\t<dt>10</dt>\n",
       "\t\t<dd>9</dd>\n",
       "</dl>\n"
      ],
      "text/latex": [
       "\\begin{description*}\n",
       "\\item[1] 3\n",
       "\\item[2] 4\n",
       "\\item[3] 5\n",
       "\\item[4] 6\n",
       "\\item[5] 5\n",
       "\\item[6] 6\n",
       "\\item[7] 7\n",
       "\\item[8] 7\n",
       "\\item[9] 8\n",
       "\\item[10] 9\n",
       "\\end{description*}\n"
      ],
      "text/markdown": [
       "1\n",
       ":   32\n",
       ":   43\n",
       ":   54\n",
       ":   65\n",
       ":   56\n",
       ":   67\n",
       ":   78\n",
       ":   79\n",
       ":   810\n",
       ":   9\n",
       "\n"
      ],
      "text/plain": [
       " 1  2  3  4  5  6  7  8  9 10 \n",
       " 3  4  5  6  5  6  7  7  8  9 "
      ]
     },
     "metadata": {},
     "output_type": "display_data"
    }
   ],
   "source": [
    "#Create a vector with the sum of all possible combinations\n",
    "\n",
    "sum_val<-sapply(comb,sum)\n",
    "sum_val"
   ]
  },
  {
   "cell_type": "code",
   "execution_count": 18,
   "metadata": {},
   "outputs": [
    {
     "data": {
      "text/html": [
       "<ol class=list-inline>\n",
       "\t<li>0</li>\n",
       "\t<li>0</li>\n",
       "\t<li>0.1</li>\n",
       "\t<li>0.1</li>\n",
       "\t<li>0.2</li>\n",
       "\t<li>0.2</li>\n",
       "\t<li>0.2</li>\n",
       "\t<li>0.1</li>\n",
       "\t<li>0.1</li>\n",
       "</ol>\n"
      ],
      "text/latex": [
       "\\begin{enumerate*}\n",
       "\\item 0\n",
       "\\item 0\n",
       "\\item 0.1\n",
       "\\item 0.1\n",
       "\\item 0.2\n",
       "\\item 0.2\n",
       "\\item 0.2\n",
       "\\item 0.1\n",
       "\\item 0.1\n",
       "\\end{enumerate*}\n"
      ],
      "text/markdown": [
       "1. 0\n",
       "2. 0\n",
       "3. 0.1\n",
       "4. 0.1\n",
       "5. 0.2\n",
       "6. 0.2\n",
       "7. 0.2\n",
       "8. 0.1\n",
       "9. 0.1\n",
       "\n",
       "\n"
      ],
      "text/plain": [
       "[1] 0.0 0.0 0.1 0.1 0.2 0.2 0.2 0.1 0.1"
      ]
     },
     "metadata": {},
     "output_type": "display_data"
    }
   ],
   "source": [
    "#Calculate the probabilities\n",
    "\n",
    "pv<-vector()\n",
    "for (j in 1:9){\n",
    "    pv<-append(pv,mean(sum_val==j))\n",
    "}\n",
    "pv"
   ]
  },
  {
   "cell_type": "markdown",
   "metadata": {},
   "source": [
    "Graphing the two probability density functions"
   ]
  },
  {
   "cell_type": "code",
   "execution_count": 19,
   "metadata": {},
   "outputs": [],
   "source": [
    "#To combine both vectors in the same dataframe, add 4 zeros to the px vector\n",
    "\n",
    "px<-append(px,c(0,0,0,0))"
   ]
  },
  {
   "cell_type": "code",
   "execution_count": 20,
   "metadata": {},
   "outputs": [
    {
     "data": {
      "text/html": [
       "<table>\n",
       "<thead><tr><th scope=col>s</th><th scope=col>px</th><th scope=col>pv</th></tr></thead>\n",
       "<tbody>\n",
       "\t<tr><td>1  </td><td>0.0</td><td>0.0</td></tr>\n",
       "\t<tr><td>2  </td><td>0.1</td><td>0.0</td></tr>\n",
       "\t<tr><td>3  </td><td>0.2</td><td>0.1</td></tr>\n",
       "\t<tr><td>4  </td><td>0.3</td><td>0.1</td></tr>\n",
       "\t<tr><td>5  </td><td>0.4</td><td>0.2</td></tr>\n",
       "\t<tr><td>6  </td><td>0.0</td><td>0.2</td></tr>\n",
       "\t<tr><td>7  </td><td>0.0</td><td>0.2</td></tr>\n",
       "\t<tr><td>8  </td><td>0.0</td><td>0.1</td></tr>\n",
       "\t<tr><td>9  </td><td>0.0</td><td>0.1</td></tr>\n",
       "</tbody>\n",
       "</table>\n"
      ],
      "text/latex": [
       "\\begin{tabular}{r|lll}\n",
       " s & px & pv\\\\\n",
       "\\hline\n",
       "\t 1   & 0.0 & 0.0\\\\\n",
       "\t 2   & 0.1 & 0.0\\\\\n",
       "\t 3   & 0.2 & 0.1\\\\\n",
       "\t 4   & 0.3 & 0.1\\\\\n",
       "\t 5   & 0.4 & 0.2\\\\\n",
       "\t 6   & 0.0 & 0.2\\\\\n",
       "\t 7   & 0.0 & 0.2\\\\\n",
       "\t 8   & 0.0 & 0.1\\\\\n",
       "\t 9   & 0.0 & 0.1\\\\\n",
       "\\end{tabular}\n"
      ],
      "text/markdown": [
       "\n",
       "| s | px | pv |\n",
       "|---|---|---|\n",
       "| 1   | 0.0 | 0.0 |\n",
       "| 2   | 0.1 | 0.0 |\n",
       "| 3   | 0.2 | 0.1 |\n",
       "| 4   | 0.3 | 0.1 |\n",
       "| 5   | 0.4 | 0.2 |\n",
       "| 6   | 0.0 | 0.2 |\n",
       "| 7   | 0.0 | 0.2 |\n",
       "| 8   | 0.0 | 0.1 |\n",
       "| 9   | 0.0 | 0.1 |\n",
       "\n"
      ],
      "text/plain": [
       "  s px  pv \n",
       "1 1 0.0 0.0\n",
       "2 2 0.1 0.0\n",
       "3 3 0.2 0.1\n",
       "4 4 0.3 0.1\n",
       "5 5 0.4 0.2\n",
       "6 6 0.0 0.2\n",
       "7 7 0.0 0.2\n",
       "8 8 0.0 0.1\n",
       "9 9 0.0 0.1"
      ]
     },
     "metadata": {},
     "output_type": "display_data"
    }
   ],
   "source": [
    "#Create dataframe\n",
    "df<-data.frame('s'=1:9,px,pv)\n",
    "df"
   ]
  },
  {
   "cell_type": "code",
   "execution_count": 21,
   "metadata": {},
   "outputs": [
    {
     "data": {
      "image/png": "[encoded data removed]",
      "text/plain": [
       "plot without title"
      ]
     },
     "metadata": {},
     "output_type": "display_data"
    }
   ],
   "source": [
    "#Create long dataframe to include both categories in the graph\n",
    "df_long2 <- gather(df,\"type\", \"PDF\", -s)\n",
    "\n",
    "#Create graph\n",
    "\n",
    "options(repr.plot.width=6, repr.plot.height=4)\n",
    "ggplot(df_long2, aes(x = s, y = PDF, fill=type)) +\n",
    "  geom_col(position = \"dodge\") "
   ]
  }
 ],
 "metadata": {
  "kernelspec": {
   "display_name": "R",
   "language": "R",
   "name": "ir"
  },
  "language_info": {
   "codemirror_mode": "r",
   "file_extension": ".r",
   "mimetype": "text/x-r-source",
   "name": "R",
   "pygments_lexer": "r",
   "version": "3.6.1"
  }
 },
 "nbformat": 4,
 "nbformat_minor": 4
}
