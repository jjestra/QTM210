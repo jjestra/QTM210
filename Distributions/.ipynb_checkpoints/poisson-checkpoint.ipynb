{
 "cells": [
  {
   "cell_type": "markdown",
   "metadata": {},
   "source": [
    "# Special distributions"
   ]
  },
  {
   "cell_type": "markdown",
   "metadata": {},
   "source": [
    "1. The Poisson distribution\n",
    "2. The normal distribution\n",
    "3. The geometric distribution\n",
    "4. The negative binomial distribution\n",
    "5. The gamma distribution"
   ]
  },
  {
   "cell_type": "markdown",
   "metadata": {},
   "source": [
    "## The Poisson distribution"
   ]
  },
  {
   "cell_type": "markdown",
   "metadata": {},
   "source": [
    "The Poisson process models the number of events that occur during each of a series **units**."
   ]
  },
  {
   "attachments": {
    "poisson1.png": {
     "image/png": "[encoded data removed]"
    }
   },
   "cell_type": "markdown",
   "metadata": {},
   "source": [
    "![poisson1.png](attachment:poisson1.png)"
   ]
  },
  {
   "cell_type": "markdown",
   "metadata": {},
   "source": [
    "The units are often time or space. For instance:\n",
    "\n",
    "- Number of costumers per *minute* calling a help center\n",
    "- Number of wars starting in a given *year*\n",
    "- Number of trees in an *acre*"
   ]
  },
  {
   "cell_type": "markdown",
   "metadata": {},
   "source": [
    "The probability distribution of the Poisson gives the probability of observing $k$ events in a time period --given the length of the period and the average events per period--. Let the parameter $\\lambda$ represent the rate at which events occur (e.g., $\\lambda$ might be expressed as 2.5 events per minute), then:\n",
    "\n",
    "$$P_{X}(k) = P(X=k) = \\frac{e^{-\\lambda} \\lambda^{k}}{k !}, \\quad k=0,1,2, \\ldots $$"
   ]
  },
  {
   "cell_type": "markdown",
   "metadata": {},
   "source": [
    "**Example of how to calculate probabilities:**\n",
    "\n",
    "Let $X$ denote the number of bug parts in twenty grams of peanut butter. Suppose the contamination level equals thirty fragments per hundred grams (or 0.30 fragment/g). Notice that $T$ in this case is twenty grams, making\n",
    "\n",
    "$$\\frac{0.3 \\text{fragment}}{\\text{g}}\\times 20 \\text{g}= 6.0 \\text{fragments}.$$\n",
    "\n",
    "The probability that the number of bug parts in twenty grams of peanut butter is more than 5, is given by"
   ]
  },
  {
   "cell_type": "markdown",
   "metadata": {},
   "source": [
    "Using the cumulative distribution where $P(X \\leq 4)$ is given by ```ppois(4, lambda=6)```:"
   ]
  },
  {
   "cell_type": "code",
   "execution_count": 9,
   "metadata": {},
   "outputs": [
    {
     "data": {
      "text/html": [
       "0.714943499683369"
      ],
      "text/latex": [
       "0.714943499683369"
      ],
      "text/markdown": [
       "0.714943499683369"
      ],
      "text/plain": [
       "[1] 0.7149435"
      ]
     },
     "metadata": {},
     "output_type": "display_data"
    }
   ],
   "source": [
    "1 - ppois(4, lambda=6) "
   ]
  },
  {
   "cell_type": "markdown",
   "metadata": {},
   "source": [
    "We can also use the density function"
   ]
  },
  {
   "cell_type": "code",
   "execution_count": 11,
   "metadata": {},
   "outputs": [
    {
     "data": {
      "text/html": [
       "0.714943499683369"
      ],
      "text/latex": [
       "0.714943499683369"
      ],
      "text/markdown": [
       "0.714943499683369"
      ],
      "text/plain": [
       "[1] 0.7149435"
      ]
     },
     "metadata": {},
     "output_type": "display_data"
    }
   ],
   "source": [
    "p <- 1\n",
    "for(l in 0:4){\n",
    "    p <- p - dpois(l, 6)\n",
    "}\n",
    "p"
   ]
  },
  {
   "cell_type": "markdown",
   "metadata": {},
   "source": [
    "**Graphical Example:**"
   ]
  },
  {
   "cell_type": "code",
   "execution_count": 21,
   "metadata": {},
   "outputs": [],
   "source": [
    "suppressWarnings(library('ggplot2'))\n",
    "suppressWarnings(library('RColorBrewer'))\n",
    "suppressWarnings(library('tidyr'))\n",
    "suppressWarnings(library('gridExtra'))"
   ]
  },
  {
   "cell_type": "code",
   "execution_count": 22,
   "metadata": {},
   "outputs": [],
   "source": [
    "colors = brewer.pal(6,\"Spectral\")"
   ]
  },
  {
   "cell_type": "code",
   "execution_count": 23,
   "metadata": {},
   "outputs": [
    {
     "data": {
      "image/png": "[encoded data removed]",
      "text/plain": [
       "plot without title"
      ]
     },
     "metadata": {},
     "output_type": "display_data"
    }
   ],
   "source": [
    "options(repr.plot.width=5, repr.plot.height=4)\n",
    "b <- ggplot(data.frame(x=c(0:10)), aes(x))\n",
    "for(l in 1:6){\n",
    "    b <- b + stat_function(geom=\"point\", n=11, fun=dpois, args=l, color = colors[l]) + \n",
    "    stat_function(geom=\"line\", n=11, fun=dpois, args=l, color = colors[l]) +\n",
    "    xlab(\"Poisson Random Variables\") + ylab(\"Density\")\n",
    "}\n",
    "print(b)"
   ]
  },
  {
   "cell_type": "markdown",
   "metadata": {},
   "source": [
    "### 1. Poisson as an approximation for a Binomial for big $n$ and small $p$"
   ]
  },
  {
   "cell_type": "markdown",
   "metadata": {},
   "source": [
    "**Theorem 4.2.1:**\n",
    "\n",
    "Suppose $X$ is a binomial random variable, where\n",
    "\n",
    "$$P(X=k)=p_{X}(k)=\\left(\\begin{array}{c} n \\\\ k \\end{array}\\right) p^{k}(1-p)^{n-k}, \\quad k=0,1, \\ldots, n$$\n",
    "\n",
    "If $n \\rightarrow \\infty$ and $p \\rightarrow 0$ in such a way that $\\lambda=np$ remains constant, then\n",
    "\n",
    "$$\\lim _{n \\rightarrow \\infty \\atop p=0} P(X=k)=\\lim _{n \\rightarrow \\infty \\atop p=0}\\left(\\begin{array}{l}\n",
    "n \\\\\n",
    "k\n",
    "\\end{array}\\right) p^{k}(1-p)^{n-k}=\\frac{e^{-n p}(n p)^{k}}{k !}$$"
   ]
  },
  {
   "cell_type": "code",
   "execution_count": 99,
   "metadata": {},
   "outputs": [],
   "source": [
    "k= 0:10\n",
    "df1 <- data.frame(k = k,binomial =dbinom(k, size=5, prob=1/5), poisson = dpois(k, 1))\n",
    "df2 <- data.frame(k = k,binomial =dbinom(k, size=100, prob=1/100), poisson = dpois(k, 1))\n",
    "\n",
    "dfl1 <- gather(df1,\"Distribution\", \"value\", -k)\n",
    "dfl2 <- gather(df2,\"Distribution\", \"value\", -k)"
   ]
  },
  {
   "cell_type": "code",
   "execution_count": 100,
   "metadata": {},
   "outputs": [
    {
     "data": {
      "image/png": "[encoded data removed]",
      "text/plain": [
       "plot without title"
      ]
     },
     "metadata": {},
     "output_type": "display_data"
    }
   ],
   "source": [
    "n5 <- ggplot(dfl1, aes(x = k, y = value, fill=Distribution)) +\n",
    "geom_col(position = \"dodge\") + xlab(\"Values of k\") + ylab(\"Probabilities\")\n",
    "\n",
    "n100 <- ggplot(dfl2, aes(x = k, y = value, fill=Distribution)) +\n",
    "geom_col(position = \"dodge\") + xlab(\"Values of k\") + ylab(\"Probabilities\")\n",
    "\n",
    "options(repr.plot.width=7, repr.plot.height=3)\n",
    "grid.arrange(n5, n100, ncol=2)"
   ]
  },
  {
   "cell_type": "markdown",
   "metadata": {},
   "source": [
    "### 2. Waiting Time and the exponential distribution"
   ]
  },
  {
   "cell_type": "markdown",
   "metadata": {},
   "source": [
    "The relevant question is to find out how long we have to wait for the next event to happen:"
   ]
  },
  {
   "attachments": {
    "poisson2.png": {
     "image/png": "[encoded data removed]"
    }
   },
   "cell_type": "markdown",
   "metadata": {},
   "source": [
    "![poisson2.png](attachment:poisson2.png)"
   ]
  },
  {
   "cell_type": "markdown",
   "metadata": {},
   "source": [
    "**Theorem 4.2.3:**\n",
    "Suppose a series of events satisfying the Poisson model are occurring at the rate of $\\lambda$ per unit time. Let the random variable $Y$ denote the interval between consecutive events. Then $Y$ has the exponential distribution\n",
    "\n",
    "$$f_{Y}(y)=\\lambda e^{-\\lambda y}, \\quad y>0$$"
   ]
  },
  {
   "cell_type": "markdown",
   "metadata": {},
   "source": [
    "As mentioned before, the exponential distribution predicts the amount of waiting time until the next event. For example the amount of time you need to wait until the bus arrives (arrival time). The exponential distribution takes the parameter $\\lambda$ as input. Intuitively, this parameter represents the proportion of times that the event occurs during a unit of time."
   ]
  },
  {
   "cell_type": "code",
   "execution_count": 31,
   "metadata": {},
   "outputs": [
    {
     "data": {
      "image/png": "[encoded data removed]",
      "text/plain": [
       "plot without title"
      ]
     },
     "metadata": {},
     "output_type": "display_data"
    }
   ],
   "source": [
    "options(repr.plot.width=5, repr.plot.height=4)\n",
    "\n",
    "e <- ggplot(data.frame(x=c(0:2)), aes(x))\n",
    "for(l in 1:6){\n",
    "    e <- e + stat_function(fun = dexp, args=l, color = colors[l], size = 0.7) +\n",
    "    xlab(\"Exponential Random Variables\") + ylab(\"Density\")\n",
    "}\n",
    "options(repr.plot.width=7, repr.plot.height=3)\n",
    "grid.arrange(b, e, ncol=2)"
   ]
  }
 ],
 "metadata": {
  "kernelspec": {
   "display_name": "R",
   "language": "R",
   "name": "ir"
  },
  "language_info": {
   "codemirror_mode": "r",
   "file_extension": ".r",
   "mimetype": "text/x-r-source",
   "name": "R",
   "pygments_lexer": "r",
   "version": "3.6.1"
  }
 },
 "nbformat": 4,
 "nbformat_minor": 4
}
