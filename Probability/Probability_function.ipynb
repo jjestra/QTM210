{
 "cells": [
  {
   "cell_type": "markdown",
   "metadata": {},
   "source": [
    "# Probability Function"
   ]
  },
  {
   "cell_type": "markdown",
   "metadata": {},
   "source": [
    "## Four important concept:\n",
    "- Experiment\n",
    "- Sample Space\n",
    "- Sample Outcome\n",
    "- Event"
   ]
  },
  {
   "cell_type": "markdown",
   "metadata": {},
   "source": [
    "# Combinatorics"
   ]
  },
  {
   "cell_type": "markdown",
   "metadata": {},
   "source": [
    "## Example"
   ]
  },
  {
   "cell_type": "markdown",
   "metadata": {},
   "source": [
    "**Context:** a firm is looking to fill two positions. Three woman $(W_1,W_2,W_3)$ and two man apply $(M_1,M_2)$.\n",
    "\n",
    "**Experiment:** _hiring two workers_. This is an experiment because, in theory, it can be repeated many times and has a well defined set of possible outcomes.\n",
    "\n",
    "**Sample Space:** $S=\\{(W_1,W_2),(W_1,W_3),(W_1,M_1),(W_1,M_2),(W_2,W_3),(W_2,M_1),(W_2,M_2),(W_3,M_1),(W_3,M_2),(M_1,M_2)\\}$. The **Sample Outcome** is one of the options in the sample space, for instance hiring two man $(M_1,M_2)$. In the sample outcome is represented by $s \\in S$.\n"
   ]
  },
  {
   "cell_type": "markdown",
   "metadata": {},
   "source": [
    "### How can we know the total number of possible outcomes composing the sample space?"
   ]
  },
  {
   "cell_type": "markdown",
   "metadata": {},
   "source": [
    "It depends on the context. Depending on the experiment, an option can be **repeated** for two different outcomes, and **order** may be relevant."
   ]
  },
  {
   "cell_type": "markdown",
   "metadata": {},
   "source": [
    "### 1. Combination without repetition"
   ]
  },
  {
   "cell_type": "markdown",
   "metadata": {},
   "source": [
    "In the previous example, the options cannot be repeated. Once one worker is hired, she/he cannot be hired again. Also, order doe not matter because the positions are the same, then $(W_1,W_2)=(W_2,W_1)$. This particular case is know as a **combination:** that is, selecting $m$ objects from $n$ total options without regard to order.\n",
    "$$C_{n,m}=\\frac{n!}{m!(n-m)!}=\\frac{5!}{2!3!}=\\frac{5\\times 4}{2}=10\n",
    "$$"
   ]
  },
  {
   "cell_type": "code",
   "execution_count": 16,
   "metadata": {},
   "outputs": [
    {
     "data": {
      "text/html": [
       "6"
      ],
      "text/latex": [
       "6"
      ],
      "text/markdown": [
       "6"
      ],
      "text/plain": [
       "[1] 6"
      ]
     },
     "metadata": {},
     "output_type": "display_data"
    }
   ],
   "source": [
    "prod(3:1)"
   ]
  },
  {
   "cell_type": "code",
   "execution_count": 15,
   "metadata": {},
   "outputs": [
    {
     "data": {
      "text/html": [
       "10"
      ],
      "text/latex": [
       "10"
      ],
      "text/markdown": [
       "10"
      ],
      "text/plain": [
       "[1] 10"
      ]
     },
     "metadata": {},
     "output_type": "display_data"
    }
   ],
   "source": [
    "combine<-function(n,m)\n",
    "    {prod(n:1)/(prod(m:1)*prod((n-m):1))}\n",
    "combine(5,2)"
   ]
  },
  {
   "cell_type": "code",
   "execution_count": 17,
   "metadata": {},
   "outputs": [
    {
     "data": {
      "text/html": [
       "10"
      ],
      "text/latex": [
       "10"
      ],
      "text/markdown": [
       "10"
      ],
      "text/plain": [
       "[1] 10"
      ]
     },
     "metadata": {},
     "output_type": "display_data"
    }
   ],
   "source": [
    "choose(5,2)"
   ]
  },
  {
   "cell_type": "markdown",
   "metadata": {},
   "source": [
    "## What if the order matters?"
   ]
  },
  {
   "cell_type": "markdown",
   "metadata": {},
   "source": [
    "###  2. Permutation without repetition"
   ]
  },
  {
   "cell_type": "markdown",
   "metadata": {},
   "source": [
    "In our previous example the order did not matter because the two opening positions were the same. Now, think that the first position is for data scientist and the second is for manager. \n",
    "\n",
    "**Experiment:** _hire one worker for data science and one for manager._\n",
    "\n",
    "This is known as a **permutation** where an **ordered** sequence of m objects taken from n distinct possibilities.\n",
    "\n",
    "$$P_{n,m}=\\frac{n!}{(n-m)!}=\\frac{5!}{3!}=5\\times 4=20$$"
   ]
  },
  {
   "cell_type": "code",
   "execution_count": 24,
   "metadata": {},
   "outputs": [
    {
     "data": {
      "text/html": [
       "20"
      ],
      "text/latex": [
       "20"
      ],
      "text/markdown": [
       "20"
      ],
      "text/plain": [
       "[1] 20"
      ]
     },
     "metadata": {},
     "output_type": "display_data"
    }
   ],
   "source": [
    "permutes<-function(n,m)\n",
    "    {prod(n:1)/prod((n-m):1)}\n",
    "permutes(5,2)"
   ]
  },
  {
   "cell_type": "code",
   "execution_count": 1,
   "metadata": {},
   "outputs": [],
   "source": [
    "library()"
   ]
  },
  {
   "cell_type": "code",
   "execution_count": 1,
   "metadata": {},
   "outputs": [],
   "source": [
    "#install.packages('gtools')\n",
    "library('gtools')"
   ]
  },
  {
   "cell_type": "code",
   "execution_count": 31,
   "metadata": {},
   "outputs": [
    {
     "data": {
      "text/html": [
       "<table>\n",
       "<tbody>\n",
       "\t<tr><td>M1</td><td>M2</td></tr>\n",
       "\t<tr><td>M1</td><td>W1</td></tr>\n",
       "\t<tr><td>M1</td><td>W2</td></tr>\n",
       "\t<tr><td>M1</td><td>W3</td></tr>\n",
       "\t<tr><td>M2</td><td>M1</td></tr>\n",
       "\t<tr><td>M2</td><td>W1</td></tr>\n",
       "\t<tr><td>M2</td><td>W2</td></tr>\n",
       "\t<tr><td>M2</td><td>W3</td></tr>\n",
       "\t<tr><td>W1</td><td>M1</td></tr>\n",
       "\t<tr><td>W1</td><td>M2</td></tr>\n",
       "\t<tr><td>W1</td><td>W2</td></tr>\n",
       "\t<tr><td>W1</td><td>W3</td></tr>\n",
       "\t<tr><td>W2</td><td>M1</td></tr>\n",
       "\t<tr><td>W2</td><td>M2</td></tr>\n",
       "\t<tr><td>W2</td><td>W1</td></tr>\n",
       "\t<tr><td>W2</td><td>W3</td></tr>\n",
       "\t<tr><td>W3</td><td>M1</td></tr>\n",
       "\t<tr><td>W3</td><td>M2</td></tr>\n",
       "\t<tr><td>W3</td><td>W1</td></tr>\n",
       "\t<tr><td>W3</td><td>W2</td></tr>\n",
       "</tbody>\n",
       "</table>\n"
      ],
      "text/latex": [
       "\\begin{tabular}{ll}\n",
       "\t M1 & M2\\\\\n",
       "\t M1 & W1\\\\\n",
       "\t M1 & W2\\\\\n",
       "\t M1 & W3\\\\\n",
       "\t M2 & M1\\\\\n",
       "\t M2 & W1\\\\\n",
       "\t M2 & W2\\\\\n",
       "\t M2 & W3\\\\\n",
       "\t W1 & M1\\\\\n",
       "\t W1 & M2\\\\\n",
       "\t W1 & W2\\\\\n",
       "\t W1 & W3\\\\\n",
       "\t W2 & M1\\\\\n",
       "\t W2 & M2\\\\\n",
       "\t W2 & W1\\\\\n",
       "\t W2 & W3\\\\\n",
       "\t W3 & M1\\\\\n",
       "\t W3 & M2\\\\\n",
       "\t W3 & W1\\\\\n",
       "\t W3 & W2\\\\\n",
       "\\end{tabular}\n"
      ],
      "text/markdown": [
       "\n",
       "| M1 | M2 |\n",
       "| M1 | W1 |\n",
       "| M1 | W2 |\n",
       "| M1 | W3 |\n",
       "| M2 | M1 |\n",
       "| M2 | W1 |\n",
       "| M2 | W2 |\n",
       "| M2 | W3 |\n",
       "| W1 | M1 |\n",
       "| W1 | M2 |\n",
       "| W1 | W2 |\n",
       "| W1 | W3 |\n",
       "| W2 | M1 |\n",
       "| W2 | M2 |\n",
       "| W2 | W1 |\n",
       "| W2 | W3 |\n",
       "| W3 | M1 |\n",
       "| W3 | M2 |\n",
       "| W3 | W1 |\n",
       "| W3 | W2 |\n",
       "\n"
      ],
      "text/plain": [
       "      [,1] [,2]\n",
       " [1,] M1   M2  \n",
       " [2,] M1   W1  \n",
       " [3,] M1   W2  \n",
       " [4,] M1   W3  \n",
       " [5,] M2   M1  \n",
       " [6,] M2   W1  \n",
       " [7,] M2   W2  \n",
       " [8,] M2   W3  \n",
       " [9,] W1   M1  \n",
       "[10,] W1   M2  \n",
       "[11,] W1   W2  \n",
       "[12,] W1   W3  \n",
       "[13,] W2   M1  \n",
       "[14,] W2   M2  \n",
       "[15,] W2   W1  \n",
       "[16,] W2   W3  \n",
       "[17,] W3   M1  \n",
       "[18,] W3   M2  \n",
       "[19,] W3   W1  \n",
       "[20,] W3   W2  "
      ]
     },
     "metadata": {},
     "output_type": "display_data"
    }
   ],
   "source": [
    "x<-c('W1','W2','W3','M1','M2')\n",
    "permutations(n=5,r=2,v=x)"
   ]
  },
  {
   "cell_type": "code",
   "execution_count": 33,
   "metadata": {},
   "outputs": [
    {
     "data": {
      "text/html": [
       "20"
      ],
      "text/latex": [
       "20"
      ],
      "text/markdown": [
       "20"
      ],
      "text/plain": [
       "[1] 20"
      ]
     },
     "metadata": {},
     "output_type": "display_data"
    }
   ],
   "source": [
    "nrow(permutations(n=5,r=2,v=x))"
   ]
  },
  {
   "cell_type": "markdown",
   "metadata": {},
   "source": [
    "### 3. Permutation with repetition"
   ]
  },
  {
   "cell_type": "markdown",
   "metadata": {},
   "source": [
    "The number of permutations with replacement is calculated with a simple equation. If there are $n$ options to choose $m$ times, then the number of permutations is $n^m$. "
   ]
  },
  {
   "cell_type": "markdown",
   "metadata": {},
   "source": [
    "**Experiment:** create a license plate that can be made from four digits? \n",
    "\n",
    "**Sample Space:** there are 10 possibles options to choose (numbers from 0 to 9) for each of the 4 digits. Therefore there are $10^4=10,000$ possible license plates.\n",
    "\n",
    "**Sample Outcome:** one of the possible options from the sample space. For instance 0001 or 1234."
   ]
  },
  {
   "cell_type": "code",
   "execution_count": 37,
   "metadata": {},
   "outputs": [
    {
     "data": {
      "text/html": [
       "10000"
      ],
      "text/latex": [
       "10000"
      ],
      "text/markdown": [
       "10000"
      ],
      "text/plain": [
       "[1] 10000"
      ]
     },
     "metadata": {},
     "output_type": "display_data"
    }
   ],
   "source": [
    "p<-seq(0,9)\n",
    "nrow(permutations(n=length(p),r=4,v=p,repeats.allowed=T))"
   ]
  },
  {
   "cell_type": "markdown",
   "metadata": {},
   "source": [
    "The concepts of **permutations** with and without repetition are related with the concepts of **sampling** with and without replacement in statistics."
   ]
  },
  {
   "cell_type": "markdown",
   "metadata": {},
   "source": [
    "# Probability Function"
   ]
  },
  {
   "cell_type": "markdown",
   "metadata": {},
   "source": [
    "If $A$ is any event defined on a sample space $S$, the symbol $P(A)$ denote the probability of $A$ and $P$ is known as the _probability function_. It is a mapping from a set to a number in $[0,1]$. \n",
    "\n",
    "Remember, an event $A$ is any **subset** of the **sample space**, $A \\subseteq S$.\n",
    "\n",
    "--------------------------------------------------------------------------------------------------------------------------\n",
    "#### Axioms of probability\n",
    "1. For any event $A$ defined over $S$: $0 \\leq P(A) \\leq 1$.\n",
    "\n",
    "2. For two mutually exclusive events $A$ and $B$: $P(A \\cup B)= P(A)+P(B)$.\n",
    "\n",
    "3. Let $A_1, A_2, ...$ be defined over $S$. IF $A_i \\cap A_j = \\emptyset$ for all $i \\neq j$, then \n",
    "\n",
    "    $$P(\\bigcup\\limits_{i=1}^{\\infty} A_{i})=\\sum_{i=1}^{\\infty}P(A_i)$$\n",
    "--------------------------------------------------------------------------------------------------------------------------"
   ]
  },
  {
   "cell_type": "markdown",
   "metadata": {},
   "source": [
    "#### Result 1: \n",
    "For an event $A \\subseteq S$, $P(A^{c})=1-P(A)$.\n",
    "\n",
    "_Proof:_ note that $A \\cup A^{c}=S$. Then by axiom 2, $P(S)=P(A \\cup A^{c})=P(A)+P(A^{c})$.\n"
   ]
  },
  {
   "cell_type": "markdown",
   "metadata": {},
   "source": [
    "#### Application of Result 1:\n",
    "\n",
    "Suppose that a room contains $m$ students. Also, assume that every day of the year is equally likely to be a birthday. What is the probability that at least two of the students have the same birthday?\n",
    "\n",
    "**Solution:**\n",
    "\n",
    "- Event $A$: two or more students have the same birthday. In other words, event $A$ requires to find one birthday match. It is a difficult probability to calculate so let's start with the complement probability.\n",
    "\n",
    "- Event $A^{c}$: no two students in the room have the same birthday.\n",
    "\n",
    "The event $A^{c}$ is can be divided in different sub-events. Take individual 1, her birthday can happen in any of the 365 days of the year. Then, compare individuals 1 and 2, there are 364 for which individuals 1 and 2 birthdays are different. For three that number goes to 363 because it has to be different from individual 1 and 2 birthdays. The process continues in the same way. Then, the event $A^{c}$ can happen in $365 \\times 364 \\times ... \\times (365-m+1)$. The total sample space can be calculated using **permutation with repetition** so that $S=356^{m}$. Therefore\n",
    "\n",
    "$$P(A^{c})=\\frac{365 \\times 364 \\times ... \\times (365-m+1)}{365^{m}}.$$\n",
    "\n",
    "By using **Result 1**, we can write\n",
    "\n",
    "$$P(A)=1-P(A^{c})$$\n",
    "\n",
    "Note that the probability of the event $A$ depends on the size of the class $m$. Let's use R to illustrate how the probability evolves with the class's size."
   ]
  },
  {
   "cell_type": "code",
   "execution_count": 6,
   "metadata": {},
   "outputs": [
    {
     "data": {
      "text/html": [
       "0.820416588478134"
      ],
      "text/latex": [
       "0.820416588478134"
      ],
      "text/markdown": [
       "0.820416588478134"
      ],
      "text/plain": [
       "[1] 0.8204166"
      ]
     },
     "metadata": {},
     "output_type": "display_data"
    }
   ],
   "source": [
    "(1-(365*364*363)/(365^3))*100"
   ]
  },
  {
   "cell_type": "code",
   "execution_count": 65,
   "metadata": {},
   "outputs": [
    {
     "data": {
      "text/html": [
       "23"
      ],
      "text/latex": [
       "23"
      ],
      "text/markdown": [
       "23"
      ],
      "text/plain": [
       "[1] 23"
      ]
     },
     "metadata": {},
     "output_type": "display_data"
    },
    {
     "data": {
      "image/png": "[encoded data removed]",
      "text/plain": [
       "Plot with title \"Probabilities by group size\""
      ]
     },
     "metadata": {},
     "output_type": "display_data"
    }
   ],
   "source": [
    "m<-seq(1:120) #Define a sequence from 1 to 120 which represents the total number of students in the room \n",
    "pa<-vector() #Initialize an empty vector that will contain the probability pa\n",
    "\n",
    "#Calculate the probability of the event A for different group sizes \n",
    "for (j in m){\n",
    "  p<-1- (prod(365:(365-j+1))/(365^j))\n",
    "  pa<-append(pa,p)\n",
    "}\n",
    "\n",
    "length(pa[pa<0.51])\n",
    "\n",
    "#Create plot\n",
    "plot(pa,type=\"o\", col=\"blue\",ann=FALSE)\n",
    "\n",
    "abline(h=1, col=\"black\",lwd=3, lty=2)\n",
    "\n",
    "abline(h=0.5,v=length(pa[pa<0.51]),col=\"gray\",lwd=0.5)\n",
    "\n",
    "title(main=\"Probabilities by group size\")\n",
    "title(xlab=\"Group Size\", col.lab=rgb(0,0.5,0))\n",
    "title(ylab=\"Probability\", col.lab=rgb(0,0.5,0))\n",
    "\n",
    "options(repr.plot.width=5, repr.plot.height=4)\n"
   ]
  }
 ],
 "metadata": {
  "kernelspec": {
   "display_name": "R",
   "language": "R",
   "name": "ir"
  },
  "language_info": {
   "codemirror_mode": "r",
   "file_extension": ".r",
   "mimetype": "text/x-r-source",
   "name": "R",
   "pygments_lexer": "r",
   "version": "3.6.1"
  }
 },
 "nbformat": 4,
 "nbformat_minor": 2
}
