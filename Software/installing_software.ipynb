{
 "cells": [
  {
   "cell_type": "markdown",
   "metadata": {},
   "source": [
    "# Install R in Jupyter"
   ]
  },
  {
   "cell_type": "markdown",
   "metadata": {},
   "source": [
    "## Notebooks advantages"
   ]
  },
  {
   "cell_type": "markdown",
   "metadata": {},
   "source": [
    "- Interactive environment\n",
    "- We are able to include both code and rich elements\n",
    "- Facilitates collaboration\n",
    "- Improves quality when communicating results"
   ]
  },
  {
   "cell_type": "markdown",
   "metadata": {},
   "source": [
    "## Installing Jupyter"
   ]
  },
  {
   "cell_type": "markdown",
   "metadata": {},
   "source": [
    "1. Go to Anaconda web-page: https://www.anaconda.com/\n",
    "2. Click on download and choose operating system\n",
    "3. Choose Python version"
   ]
  },
  {
   "cell_type": "markdown",
   "metadata": {},
   "source": [
    "## Installing R in Jupyter with IRKernel"
   ]
  },
  {
   "cell_type": "markdown",
   "metadata": {},
   "source": [
    "1. Open Anaconda Prompt\n",
    "2. To install Kernel run the code: `conda install -c r r-irkernel`"
   ]
  },
  {
   "cell_type": "markdown",
   "metadata": {},
   "source": [
    "## Before continuing: some good practices "
   ]
  },
  {
   "cell_type": "markdown",
   "metadata": {},
   "source": [
    "- Try to provide comments and documentation to your code \n",
    "- Maintain a consistent naming scheme\n",
    "- Import your packages in the first code cell of your notebook\n",
    "- Use keyboard shortcuts to speed up your work: in command mode press `H` to show the keyboard shortcut\n",
    "- Use the spellchecker in the toolbar: the spellchecker requires to download the nbextensions\n",
    "\n",
    "&nbsp;&nbsp;&nbsp;&nbsp;&nbsp;&nbsp;&nbsp;\n",
    "To download the extensions run the following code\n",
    "```anaconda\n",
    "conda isntall jupyter_contrib_nbextensions\n",
    "jupyter contrib nbextension install --user\n",
    "jupyter nbextension enable spellchecker/main\n",
    "```\n",
    "&nbsp;&nbsp;&nbsp;&nbsp;&nbsp;&nbsp;&nbsp;\n",
    "Now when you launch Jupyter Notebook, you will see the Nbextensions option in the dashboard\n"
   ]
  }
 ],
 "metadata": {
  "kernelspec": {
   "display_name": "R",
   "language": "R",
   "name": "ir"
  },
  "language_info": {
   "codemirror_mode": "r",
   "file_extension": ".r",
   "mimetype": "text/x-r-source",
   "name": "R",
   "pygments_lexer": "r",
   "version": "3.6.1"
  }
 },
 "nbformat": 4,
 "nbformat_minor": 2
}
