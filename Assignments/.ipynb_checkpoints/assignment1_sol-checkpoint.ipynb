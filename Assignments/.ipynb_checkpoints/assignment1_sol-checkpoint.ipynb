{
 "cells": [
  {
   "cell_type": "markdown",
   "metadata": {},
   "source": [
    "# Assignment 1"
   ]
  },
  {
   "cell_type": "markdown",
   "metadata": {},
   "source": [
    "##### Exercise 1\n",
    "\n",
    "a). A man has $n$ keys on a key ring, one of which opens the door to his apartment. Having celebrated a bit too much one evening, he returns home only to find himself unable to distinguish one key from another. Resourceful, he works out a fiendishly clever plan: He will choose a key at random and try it. If it fails to open the door, he will discard it and choose at random one of the remaining $n−1$ keys, and so on. Clearly, the probability that he gains entrance with the first key he selects is 1/n. Show that the probability the door opens with the third key he tries is also $1/n$.\n",
    "\n",
    "b). Let $n=50$. In R, calculate the conditional probability of opening the door with each of the keys $k=2, \\dots 50$ given that the previous keys did not work. Additionally, calculate the probability of opening the door with exactly the second, third, ..., 50th key. Plot both probabilities in the same graph. Interpret the results."
   ]
  },
  {
   "cell_type": "markdown",
   "metadata": {},
   "source": [
    "##### Solution"
   ]
  },
  {
   "cell_type": "markdown",
   "metadata": {},
   "source": [
    "a). To solve this problem think about the joint probability of the events that the man has to go through to get to key number 3. Let the events be:\n",
    "\n",
    "- A: the door does not open the door with the first key\n",
    "- B: the door does not open the door with the second key\n",
    "- C: the door opens with the third key\n",
    "\n",
    "To find the probability that the door opens precisely with the third key lets find the joint probability. Remember we can apply conditional probability to find high-order intersections:\n",
    "\n",
    "$P(A \\cap B \\cap C)=P(C | A \\cap B) P(B | A) P(A)$\n",
    "\n",
    "- The probability of not opening the door with the first key is $P(A)=\\frac{n-1}{n}$\n",
    "- The probability of not opening the door with the second key given that the first key did not work is $P(B|A)=\\frac{n-2}{n-1}$\n",
    "- The probability of opening the door given that keys 1 and 2 did not work is: $P(C|A\\cap B)=\\frac{1}{n-2}$\n",
    "\n",
    "Therefore using the previous equation to find the probability that the door opens exactly with the third key:\n",
    "\n",
    "$P(A \\cap B \\cap C)=\\frac{1}{n-2} \\times \\frac{n-2}{n-1} \\times \\frac{n-1}{n}=\\frac{1}{n}$\n"
   ]
  },
  {
   "cell_type": "code",
   "execution_count": 5,
   "metadata": {},
   "outputs": [
    {
     "data": {
      "text/html": [
       "24"
      ],
      "text/latex": [
       "24"
      ],
      "text/markdown": [
       "24"
      ],
      "text/plain": [
       "[1] 24"
      ]
     },
     "metadata": {},
     "output_type": "display_data"
    }
   ],
   "source": [
    "prod(4:1)"
   ]
  },
  {
   "cell_type": "code",
   "execution_count": 6,
   "metadata": {},
   "outputs": [
    {
     "data": {
      "image/png": "[encoded data removed]",
      "text/plain": [
       "Plot with title \"Conditional versus Joint Probabilities\""
      ]
     },
     "metadata": {},
     "output_type": "display_data"
    }
   ],
   "source": [
    "#b).\n",
    "\n",
    "n<-50\n",
    "cond_p<-1/n\n",
    "joint_p<-1/n\n",
    "for (k in 2:n-1){\n",
    "    cond_p<-append(cond_p,1/(n-k))\n",
    "    joint_p<-append(joint_p,prod((n-1):(n-k))/prod(n:(n-k)))\n",
    "                }\n",
    "\n",
    "plot(cond_p,type=\"o\", col=\"blue\",cex=0.8,ann=FALSE)\n",
    "lines(joint_p,type=\"o\", col=\"red\",cex=0.5, pch = 0,ann=FALSE)\n",
    "title(main=\"Conditional versus Joint Probabilities\")\n",
    "title(xlab=\"Number of the key\")\n",
    "title(ylab=\"Probability\")\n",
    "options(repr.plot.width=6, repr.plot.height=5)\n"
   ]
  },
  {
   "cell_type": "markdown",
   "metadata": {},
   "source": [
    "##### Exercise 2\n",
    "\n",
    "a). One chip is drawn at random from an urn that contains one white chip and one black chip. If the white chip is selected, we simply return it to the urn; if the black chip is drawn, that chip -together with another black- are returned to the urn. Then a second chip is drawn, with the same rules for returning it to the urn. Calculate the probability of drawing two whites followed by three blacks.\n",
    "\n",
    "b). Simulate the empirical joint probabilities using sample sizes of 50 and 1000. That is, create a code that simulates the experiment of drawing 5 chips of the urn the the stated replacement rules. Repeat the experiment 50 and 1000 times. Then, calculate the probability of observing the sequence (white, white, black, black, black) for each experiment. Repeat the calculation of the probabilities 100 times and construct one vector containing the 50 and 1000 sample size joint probabilities. Finally, create a plot containing both histograms. Interpret the results. \n",
    "\n",
    "**Note:** This exercise is similar to example 2.4.7 in the Introduction to Mathematical Statistics and its Applications. I created a code to simulate that probability in the *'conditional_probability'* jupyter notebook. This exercise has an additional difficulty when compared with the code to simulate example 2.4.7 because of the rules of replacement. One approach I found useful was to create separate functions: \n",
    "\n",
    "- one function to produce the sample with replacement with the additional condition to add more black chips when a black chip is drawn\n",
    "- one function to simulate the experiment of drawing the five chips\n",
    "- one function to perform the experiment n time and calculate the proportion of times (probability) that the sequence (white, white, black, black, black) is observed.\n",
    "- one loop to recalculate 100 times the probability of observing the sequence (white, white, black, black, black) for 50 and 1000 sample size (number of times that the experiment is repeated to calculate the probability)."
   ]
  },
  {
   "cell_type": "markdown",
   "metadata": {},
   "source": [
    "##### Solution\n",
    "\n",
    "a). This exercise is similar to example 2.4.7 in the Introduction to Mathematical Statistics and its Applications. It is important to recognize the composition of the urn after each type of chip is drawn. To calculate the probability define the following events:\n",
    "\n",
    "- A: white chip is drawn on first selection\n",
    "- B: white chip is drawn on second selection\n",
    "- C: black chip is drawn on third selection\n",
    "- D: black chip is drawn on fourth selection\n",
    "- E: black chip is drawn on fifth selection\n",
    "\n",
    "The objective is to find $P(A \\cap B \\cap C \\cap D \\cap E)$. Following the formula for high-order intersections:\n",
    "\n",
    "$$P(A \\cap B \\cap C \\cap D \\cap E)=P(E | A \\cap B \\cap C\\cap E) \\cdot P(D | A \\cap B \\cap C) \\cdot P(C | A \\cap B) \\cdot P(B | A) \\cdot P(A)$$\n",
    "\n",
    "The question now reduces to calculate the conditional probability of each event given the composition of the urn:\n",
    "\n",
    "- $P(E | A \\cap B \\cap C\\cap E)=3/4$. The urn starts with 1 withe and 1 black chip. After event A and B, the composition of the urn is not altered. However, events C and D add one black chip each. Then, in the fifth selection, there are 1 withe and 3 black chips.\n",
    "\n",
    "- $P(D | A \\cap B \\cap C)=2/3$. Following the same logic, after events A,B and C, the composition of the urn is: 1 withe and 2 black chips.\n",
    "\n",
    "- $P(C | A \\cap B)=P(B | A)=P(A)=1/2$. Notice that the even of drawing a white chip does not alter the composition of the urn. Then, for events A, B and C the urn only contains 1 withe and 1 black chip.\n",
    "\n",
    "With this information, we can calculate the joint probability as:\n",
    "\n",
    "$$P(A \\cap B \\cap C \\cap D \\cap E)=\\frac{3}{4} \\times \\frac{2}{3} \\times \\frac{1}{2} \\times \\frac{1}{2} \\times \\frac{1}{2}=0.0625$$"
   ]
  },
  {
   "cell_type": "code",
   "execution_count": 2,
   "metadata": {},
   "outputs": [],
   "source": [
    "#b).\n",
    "#define the function containing the sample rules\n",
    "sample_r<-function(x){\n",
    "    s<-sample(x,1)\n",
    "    if (s=='B'){x<-append(x,'B')}\n",
    "    r<-c(s,x)\n",
    "}"
   ]
  },
  {
   "cell_type": "code",
   "execution_count": 3,
   "metadata": {
    "scrolled": true
   },
   "outputs": [],
   "source": [
    "#define the function to perform the experiment\n",
    "experiment<-function(x){\n",
    "    res<-sample_r(u)              #initialize a vector with the first result of the sample\n",
    "    cr<-res[1]                    #vector containing the drawn chips\n",
    "\n",
    "    #create loop to repeat the sample four more times\n",
    "    for (j in 1:4){\n",
    "        res<-sample_r(res[2:length(res)])\n",
    "        cr<-append(cr,res[1])\n",
    "    }\n",
    "    cr\n",
    "}"
   ]
  },
  {
   "cell_type": "code",
   "execution_count": 4,
   "metadata": {},
   "outputs": [],
   "source": [
    "#define the function to create the empirical probability of obtaining the sequence W,W,B,B,B for different sample sizes:\n",
    "prob<-function(n,u){\n",
    "    event<-vector()\n",
    "    for (i in 1:n){\n",
    "        event<-append(event,all(experiment(u)==c('W','W','B','B','B'))*1)\n",
    "    }\n",
    "    \n",
    "    mean(event)\n",
    "}"
   ]
  },
  {
   "cell_type": "code",
   "execution_count": 5,
   "metadata": {},
   "outputs": [],
   "source": [
    "#create the urn containing the two initial chips\n",
    "u<-c('W','B')\n",
    "\n",
    "#Perform the simulation\n",
    "\n",
    "prob_50<-vector()\n",
    "prob_1000<-vector()\n",
    "\n",
    "for (j in 1:100){\n",
    "    prob_50<-append(prob_50,prob(50,u))\n",
    "    prob_1000<-append(prob_1000,prob(1000,u))\n",
    "}"
   ]
  },
  {
   "cell_type": "code",
   "execution_count": 6,
   "metadata": {},
   "outputs": [
    {
     "data": {
      "image/png": "[encoded data removed]",
      "text/plain": [
       "Plot with title \"Histogram of the joint probabilities\""
      ]
     },
     "metadata": {},
     "output_type": "display_data"
    }
   ],
   "source": [
    "#create graph\n",
    "c1 <- rgb(173,216,230,max = 255, alpha = 80, names = \"lt.blue\")\n",
    "c2 <- rgb(255,192,203, max = 255, alpha = 80, names = \"lt.pink\")\n",
    "\n",
    "h1<-hist(prob_50, breaks=9,plot = FALSE)\n",
    "h2<-hist(prob_1000, breaks=4,plot = FALSE)\n",
    "\n",
    "plot(h1,ann=FALSE, col=c1) \n",
    "plot(h2, add = TRUE, col=c2)\n",
    "options(repr.plot.width=5, repr.plot.height=4)\n",
    "title(main=\"Histogram of the joint probabilities\")\n",
    "title(xlab=\"Probabilities\")\n",
    "abline(v=0.0625,col=\"black\",lwd=3, lty=2)"
   ]
  }
 ],
 "metadata": {
  "kernelspec": {
   "display_name": "R",
   "language": "R",
   "name": "ir"
  },
  "language_info": {
   "codemirror_mode": "r",
   "file_extension": ".r",
   "mimetype": "text/x-r-source",
   "name": "R",
   "pygments_lexer": "r",
   "version": "3.6.1"
  }
 },
 "nbformat": 4,
 "nbformat_minor": 4
}
