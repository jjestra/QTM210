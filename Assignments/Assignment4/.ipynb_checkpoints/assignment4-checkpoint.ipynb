{
 "cells": [
  {
   "cell_type": "markdown",
   "metadata": {},
   "source": [
    "# Assignment 4"
   ]
  },
  {
   "cell_type": "markdown",
   "metadata": {},
   "source": [
    "1. simulate a dataset with with the following characteristics:\n",
    "\n",
    "A) Two normal random variables with means given by:\n",
    "\n",
    "$$\\boldsymbol{\\mu}=\\left(\\begin{array}{c} 1 \\\\ 2 \\end{array}\\right),$$\n",
    "\n",
    "and covariance matrix \n",
    "    \n",
    "$$\\boldsymbol{\\Sigma_{N}}=\\left(\\begin{array}{cc}\n",
    "2 & -0.7 \\\\\n",
    "-0.7 & 4\n",
    "\\end{array}\\right)$$\n",
    "\n",
    "*Hint:* look at the ```joint_densities``` file to see how to create a random sample of size $n$ from a multivariate normal.\n",
    "\n",
    "B) Two uniform random variables with covariance matrix:\n",
    "\n",
    "$$\\boldsymbol{\\Sigma_{E}}=\\left(\\begin{array}{cc}\n",
    "1 & 0.8 \\\\\n",
    "0.8 & 1\n",
    "\\end{array}\\right)$$\n",
    "\n",
    "*Hint:* see the https://rdrr.io/cran/MultiRNG/man/draw.d.variate.uniform.html to see an example of how to use ```draw.d.variate.uniform()```.\n",
    "\n",
    "**Note:** use $n=1000$ and seed = 42 for the simulation of all the random variables (see ```joint_densities```). You need to use the packages: ```MASS``` and ```MultiRNG```.\n",
    "\n",
    "D). Put all the random variables together in a data frame. Rename the first two normal random variables as ```norm1``` and ```norm2```, the two uniform random variables as ```u1``` and ```u2```.\n"
   ]
  },
  {
   "cell_type": "code",
   "execution_count": null,
   "metadata": {},
   "outputs": [],
   "source": []
  },
  {
   "cell_type": "markdown",
   "metadata": {},
   "source": [
    "2. Create a unique plot where you combine the histograms of the ```norm1```, ```norm2```, ```u1``` and ```u2``` random variables. Comment about what information you can extract from these graphs and what can be missing"
   ]
  },
  {
   "cell_type": "code",
   "execution_count": null,
   "metadata": {},
   "outputs": [],
   "source": []
  },
  {
   "cell_type": "markdown",
   "metadata": {},
   "source": [
    "3. Create 2d plots for all the possible combinations between two variables. For instance, one 2d plot between ```norm1``` and  ```norm2```, one between ```norm1``` and ```u1```, and so on. *Hint:* (1) there will be 6 different plots (2) you may want to use ```chart.Correlation```, see: http://www.sthda.com/english/wiki/correlation-matrix-a-quick-start-guide-to-analyze-format-and-visualize-a-correlation-matrix-using-r-software.\n",
    "\n",
    "Interpret the results and compare with the histograms in the previous exercise and the data generation process."
   ]
  },
  {
   "cell_type": "code",
   "execution_count": null,
   "metadata": {},
   "outputs": [],
   "source": []
  }
 ],
 "metadata": {
  "kernelspec": {
   "display_name": "R",
   "language": "R",
   "name": "ir"
  },
  "language_info": {
   "codemirror_mode": "r",
   "file_extension": ".r",
   "mimetype": "text/x-r-source",
   "name": "R",
   "pygments_lexer": "r",
   "version": "3.6.1"
  }
 },
 "nbformat": 4,
 "nbformat_minor": 4
}
