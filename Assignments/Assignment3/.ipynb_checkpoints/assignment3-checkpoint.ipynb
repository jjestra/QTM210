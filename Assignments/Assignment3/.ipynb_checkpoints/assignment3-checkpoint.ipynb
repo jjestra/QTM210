{
 "cells": [
  {
   "cell_type": "markdown",
   "metadata": {},
   "source": [
    "# Assignment 3"
   ]
  },
  {
   "cell_type": "markdown",
   "metadata": {},
   "source": [
    "**Question 3.4.3.** Let $f_{Y}(y) = \\frac{3}{2} y^{2}$, for $-1 \\leq y \\leq 1$. Find $P\\left(|Y-\\frac{1}{2}|<\\frac{1}{4}\\right)$. Draw a graph of $f_{Y}(y)$ and show the area representing the desired probability. **Solve this question completely using R**. This question can be approached in a way similar to Example 3 in the ```continuous_random_variable``` file."
   ]
  },
  {
   "cell_type": "code",
   "execution_count": null,
   "metadata": {},
   "outputs": [],
   "source": []
  },
  {
   "cell_type": "markdown",
   "metadata": {},
   "source": [
    "**Question 3.5.8.** Calculate $E(Y)$ for the following pdf using R:\n",
    "\n",
    "\\begin{aligned}\n",
    "&f_{Y}(y)=3(1-y)^{2}, 0 \\leq y \\leq 1\\\\\n",
    "&f_{Y}(y)=4 y e^{-2 y}, y \\geq 0\\\\\n",
    "&f_{Y}(y)=\\left\\{\\begin{array}{ll}\n",
    "\\frac{3}{4}, & 0 \\leq y \\leq 1 \\\\\n",
    "\\frac{1}{4}, & 2 \\leq y \\leq 3 \\\\\n",
    "0, & \\text { elsewhere }\n",
    "\\end{array}\\right.\\\\\n",
    "&f_{Y}(y)=\\sin y, \\quad 0 \\leq y \\leq \\frac{\\pi}{2}\n",
    "\\end{aligned}\n",
    "\n",
    "*Hint:* look at Example 2 in the ```expected_value``` file to see how to calculate expectations of continuous random variables in R. Example 1 in the ```continuous_random_variable``` file shows how the function ```integrate()``` works with user-defined functions. "
   ]
  },
  {
   "cell_type": "code",
   "execution_count": null,
   "metadata": {},
   "outputs": [],
   "source": []
  },
  {
   "cell_type": "markdown",
   "metadata": {},
   "source": [
    "**Question 3.5.30.** Let $Y$ have probability density function\n",
    "\n",
    "$$f_{Y}(y)=2(1-y), \\quad 0 \\leq y \\leq 1$$\n",
    "\n",
    "Suppose that $W =Y^2$, in which case\n",
    "\n",
    "$$f_{W}(w)=\\frac{1}{\\sqrt{w}}-1, \\quad 0 \\leq w \\leq 1$$\n",
    "\n",
    "Find $E(W)$ in two different ways. *Hint:* look at Example 3 in the ```expected_value``` file to see how to calculate the expected value of transformations of random variables in two different ways."
   ]
  },
  {
   "cell_type": "code",
   "execution_count": null,
   "metadata": {},
   "outputs": [],
   "source": []
  }
 ],
 "metadata": {
  "kernelspec": {
   "display_name": "R",
   "language": "R",
   "name": "ir"
  },
  "language_info": {
   "codemirror_mode": "r",
   "file_extension": ".r",
   "mimetype": "text/x-r-source",
   "name": "R",
   "pygments_lexer": "r",
   "version": "3.6.1"
  }
 },
 "nbformat": 4,
 "nbformat_minor": 4
}
