{
 "cells": [
  {
   "cell_type": "markdown",
   "metadata": {},
   "source": [
    "# Assignment 5 "
   ]
  },
  {
   "cell_type": "markdown",
   "metadata": {},
   "source": [
    "Maximum likelihood estimator for the exponential distribution."
   ]
  },
  {
   "cell_type": "markdown",
   "metadata": {},
   "source": [
    "Assume you observe a random sample of size $n$ from the exponential pdf. Remember that the exponential pdf is given by $f_{X}(x)=\\lambda e^{-\\lambda x}$ for $x>0$. Let $x_{1}, x_{2}, \\dots x_{n}$ denote the sample."
   ]
  },
  {
   "cell_type": "markdown",
   "metadata": {},
   "source": [
    "1. Construct the likelihood and log-likelihood functions for the exponential pdf"
   ]
  },
  {
   "cell_type": "markdown",
   "metadata": {},
   "source": [
    "Given that the realizations in the random sample are independent, the probability of observing the sequence $x_{1}, x_{2}, \\dots, x_{n}$ is given by the product of the probabilities of observing each $x_{i}$. Therefore, the likelihood function is \n",
    "\n",
    "$\\begin{aligned} L\\left(\\lambda ; x_{1}, \\ldots, x_{n}\\right) &=\\prod_{j=1}^{n} f_{X}\\left(x_{j} ; \\lambda\\right) \\\\ &=\\prod_{j=1}^{n} \\lambda e^{-\\lambda x_{j}} \\\\ &=\\lambda^{n} e^{-\\lambda \\sum_{j=1}^{n} x_{j}}\n",
    "\\end{aligned}$\n",
    "\n",
    "The log-likelihood function is given by\n",
    "\n",
    "$ln L\\left(\\lambda ; x_{1}, \\ldots, x_{n}\\right)=n \\ln (\\lambda)-\\lambda \\sum_{j=1}^{n} x_{j}$"
   ]
  },
  {
   "cell_type": "markdown",
   "metadata": {},
   "source": [
    "2. Find the maximum likelihood estimator for $\\lambda$. Denote the estimator $\\lambda_{e}$."
   ]
  },
  {
   "cell_type": "markdown",
   "metadata": {},
   "source": [
    "Using the first order condition for a maximum on the log-likelihood function\n",
    "\n",
    "$$\\frac{d}{d \\lambda} ln L\\left(\\lambda ; x_{1}, \\ldots, x_{n}\\right)=0$$\n",
    "\n",
    "Therefore \n",
    "\n",
    "$$\\begin{aligned} \\frac{d}{d \\lambda} ln L\\left(\\lambda ; x_{1}, \\ldots, x_{n}\\right) &=\\frac{d}{d \\lambda}\\left(n \\ln (\\lambda)-\\lambda \\sum_{j=1}^{n} x_{j}\\right) \\\\ &=\\frac{n}{\\lambda}-\\sum_{j=1}^{n} x_{j} \\end{aligned}$$\n",
    "\n",
    "The Maximum Likelihood estimator is then given by\n",
    "\n",
    "$$\\lambda_{e}=\\frac{n}{\\sum_{j=1}^{n} x_{j}}$$\n",
    "\n",
    "Therefore, the estimator $\\lambda_{e}$ is just the reciprocal of the sample mean."
   ]
  },
  {
   "cell_type": "markdown",
   "metadata": {},
   "source": [
    "3. Create a function in R recreating the log-likelihood function you constructed in exercise 1. "
   ]
  },
  {
   "cell_type": "code",
   "execution_count": 8,
   "metadata": {},
   "outputs": [],
   "source": [
    "llikelihood <- function(l,x){\n",
    "    n <- length(x)\n",
    "    lnl <- n*log(l) - l*sum(x)\n",
    "    return(-lnl)\n",
    "}"
   ]
  },
  {
   "cell_type": "markdown",
   "metadata": {},
   "source": [
    "4. Simulate a random sample from an exponential distribution with parameter $\\lambda=1.5$ and $n=50$. "
   ]
  },
  {
   "cell_type": "code",
   "execution_count": 3,
   "metadata": {},
   "outputs": [],
   "source": [
    "n <- 50\n",
    "l <- 1.5\n",
    "x <- rexp(n, l)"
   ]
  },
  {
   "cell_type": "markdown",
   "metadata": {},
   "source": [
    "5. Use the function ```optim()``` to calculate in R the value of $\\lambda$ that maximizes the log likelihood function."
   ]
  },
  {
   "cell_type": "code",
   "execution_count": 11,
   "metadata": {},
   "outputs": [
    {
     "data": {
      "text/html": [
       "1.66646521657987"
      ],
      "text/latex": [
       "1.66646521657987"
      ],
      "text/markdown": [
       "1.66646521657987"
      ],
      "text/plain": [
       "[1] 1.666465"
      ]
     },
     "metadata": {},
     "output_type": "display_data"
    }
   ],
   "source": [
    "optim(1, likelihood, x = x,method=\"BFGS\")$par"
   ]
  },
  {
   "cell_type": "markdown",
   "metadata": {},
   "source": [
    "6. Find the Maximum Likelihood estimator for different sample sizes, starting from $n=3$ to $n=100$. Plot the results for the different sample sizes using ```set.seed(42)```. *Hint:* look at the ```maximum_likelihood``` file to see a similar code. Use 0.8 as the initial value for the ```optim()``` function. "
   ]
  },
  {
   "cell_type": "code",
   "execution_count": 21,
   "metadata": {},
   "outputs": [],
   "source": [
    "samples <- 3:100\n",
    "estimators <- vector()\n",
    "set.seed(42)\n",
    "\n",
    "for(n in samples){\n",
    "    estimators <- append(estimators, optim(0.8, likelihood, x = rexp(n, l),method=\"BFGS\")$par)\n",
    "}"
   ]
  },
  {
   "cell_type": "code",
   "execution_count": 19,
   "metadata": {},
   "outputs": [
    {
     "data": {
      "image/png": "[encoded data removed]",
      "text/plain": [
       "plot without title"
      ]
     },
     "metadata": {},
     "output_type": "display_data"
    }
   ],
   "source": [
    "options(repr.plot.width=6, repr.plot.height=5)\n",
    "plot(estimators,type=\"o\", col=\"blue\",ann=FALSE)\n",
    "abline(h=l, col=\"black\",lwd=3, lty=2)"
   ]
  }
 ],
 "metadata": {
  "kernelspec": {
   "display_name": "R",
   "language": "R",
   "name": "ir"
  },
  "language_info": {
   "codemirror_mode": "r",
   "file_extension": ".r",
   "mimetype": "text/x-r-source",
   "name": "R",
   "pygments_lexer": "r",
   "version": "3.6.1"
  }
 },
 "nbformat": 4,
 "nbformat_minor": 4
}
