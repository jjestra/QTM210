{
 "cells": [
  {
   "cell_type": "markdown",
   "metadata": {},
   "source": [
    "## Exercise 2\n",
    "\n",
    "One chip is drawn at random from an urn that contains one white chip and one black chip. If the white chip is selected, we simply return it to the urn; if the black chip is drawn, that chip -together with another black- are returned to the urn. Then a second chip is drawn, with the same rules for returning it to the urn. Calculate the probability of drawing two whites followed by three blacks."
   ]
  },
  {
   "attachments": {
    "f1.png": {
     "image/png": "[encoded data removed]"
    }
   },
   "cell_type": "markdown",
   "metadata": {},
   "source": [
    "### Step 1: create a function simulating the sample process\n",
    "\n",
    "![f1.png](attachment:f1.png)"
   ]
  },
  {
   "cell_type": "code",
   "execution_count": 10,
   "metadata": {},
   "outputs": [
    {
     "data": {
      "text/html": [
       "'B'"
      ],
      "text/latex": [
       "'B'"
      ],
      "text/markdown": [
       "'B'"
      ],
      "text/plain": [
       "[1] \"B\""
      ]
     },
     "metadata": {},
     "output_type": "display_data"
    },
    {
     "data": {
      "text/html": [
       "<ol class=list-inline>\n",
       "\t<li>'W'</li>\n",
       "\t<li>'B'</li>\n",
       "\t<li>'B'</li>\n",
       "</ol>\n"
      ],
      "text/latex": [
       "\\begin{enumerate*}\n",
       "\\item 'W'\n",
       "\\item 'B'\n",
       "\\item 'B'\n",
       "\\end{enumerate*}\n"
      ],
      "text/markdown": [
       "1. 'W'\n",
       "2. 'B'\n",
       "3. 'B'\n",
       "\n",
       "\n"
      ],
      "text/plain": [
       "[1] \"W\" \"B\" \"B\""
      ]
     },
     "metadata": {},
     "output_type": "display_data"
    }
   ],
   "source": [
    "u<-c('W','B')\n",
    "sample(u,1)\n",
    "u<-append(u,'B')\n",
    "u"
   ]
  },
  {
   "cell_type": "code",
   "execution_count": null,
   "metadata": {},
   "outputs": [],
   "source": [
    "\n",
    "sample_r<-function(u){ #note that the imput of this function is the container (urn)\n",
    "    s<-#draw one ship from the container\n",
    "    if (ship==black) #then append another black ship to the initial container\n",
    "    #otherwise keep the container the same\n",
    "    return #vector with initial element equal to drawn ship and positions 2:length(container) new state of the container\n",
    "}"
   ]
  },
  {
   "cell_type": "code",
   "execution_count": 16,
   "metadata": {},
   "outputs": [
    {
     "data": {
      "text/html": [
       "<ol class=list-inline>\n",
       "\t<li>'B'</li>\n",
       "\t<li>'W'</li>\n",
       "\t<li>'B'</li>\n",
       "\t<li>'B'</li>\n",
       "</ol>\n"
      ],
      "text/latex": [
       "\\begin{enumerate*}\n",
       "\\item 'B'\n",
       "\\item 'W'\n",
       "\\item 'B'\n",
       "\\item 'B'\n",
       "\\end{enumerate*}\n"
      ],
      "text/markdown": [
       "1. 'B'\n",
       "2. 'W'\n",
       "3. 'B'\n",
       "4. 'B'\n",
       "\n",
       "\n"
      ],
      "text/plain": [
       "[1] \"B\" \"W\" \"B\" \"B\""
      ]
     },
     "metadata": {},
     "output_type": "display_data"
    },
    {
     "data": {
      "text/html": [
       "'B'"
      ],
      "text/latex": [
       "'B'"
      ],
      "text/markdown": [
       "'B'"
      ],
      "text/plain": [
       "[1] \"B\""
      ]
     },
     "metadata": {},
     "output_type": "display_data"
    }
   ],
   "source": [
    "u<-c('W','B')\n",
    "u<-append(u,'B')\n",
    "return_sample_r<-append('B',u)\n",
    "return_sample_r\n",
    "return_sample_r[1]"
   ]
  },
  {
   "cell_type": "markdown",
   "metadata": {},
   "source": [
    "### Step 2: create a function that performs the sampling procedure 5 times"
   ]
  },
  {
   "cell_type": "code",
   "execution_count": null,
   "metadata": {},
   "outputs": [],
   "source": [
    "experiment<-function(u){\n",
    "    res<- #use the sample function created before to initialize a vector with the first result of the sample\n",
    "    ship<- #use the previous resul stored in res to create a vector containing the drawn chips \n",
    "           #remember that the drawn ship is the first position of the vector res\n",
    "    \n",
    "    #create loop to repeat the sample four more times\n",
    "    for (i in 1:4){\n",
    "        res<- #update the vector res by calling the sample function created before but changing the input:\n",
    "              #in this case input the container contained in the 2:length(container) possition of the res vector \n",
    "        ship<-#append the first possition in the updated res vector to the already initialize ship vector \n",
    "    }\n",
    "    return #the vector ship with 5 elements\n",
    "}"
   ]
  },
  {
   "cell_type": "code",
   "execution_count": 46,
   "metadata": {},
   "outputs": [
    {
     "data": {
      "text/html": [
       "<ol class=list-inline>\n",
       "\t<li>'B'</li>\n",
       "\t<li>'B'</li>\n",
       "\t<li>'B'</li>\n",
       "\t<li>'B'</li>\n",
       "\t<li>'B'</li>\n",
       "</ol>\n"
      ],
      "text/latex": [
       "\\begin{enumerate*}\n",
       "\\item 'B'\n",
       "\\item 'B'\n",
       "\\item 'B'\n",
       "\\item 'B'\n",
       "\\item 'B'\n",
       "\\end{enumerate*}\n"
      ],
      "text/markdown": [
       "1. 'B'\n",
       "2. 'B'\n",
       "3. 'B'\n",
       "4. 'B'\n",
       "5. 'B'\n",
       "\n",
       "\n"
      ],
      "text/plain": [
       "[1] \"B\" \"B\" \"B\" \"B\" \"B\""
      ]
     },
     "metadata": {},
     "output_type": "display_data"
    }
   ],
   "source": [
    "u<-c('W','B')\n",
    "experiment(u)"
   ]
  },
  {
   "cell_type": "markdown",
   "metadata": {},
   "source": [
    "### Step 3: use the same code we discussed in the conditional probability lecture to complete the simulation"
   ]
  },
  {
   "cell_type": "code",
   "execution_count": null,
   "metadata": {},
   "outputs": [],
   "source": [
    "#1. create a container (urn) with two elements: 'W' and 'B' \n",
    "#create the last function to calculate the probability of observing the 5 elemen sequence W','W','B','B','B'\n",
    "\n",
    "prob<-function(n){\n",
    "    event<- #initialize an empty vector\n",
    "    for (i in 1:n){\n",
    "        event<-append(event,all('compare the result of the experiment vector with the desire sequence')*1) \n",
    "    }\n",
    "#calculate the mean of the event vector\n",
    "}\n",
    "#Note that this function takes n (sample size) as an input\n",
    "\n",
    "#2. create two empty vectors cotaining the results of the probabilities using 50 and 1000 sample size\n",
    "\n",
    "for (j in 1:100){\n",
    "    prob_50<- # append the probabilities using 50 sample size\n",
    "    prob_1000<-# append the probabilities using 1000 sample size\n",
    "}"
   ]
  }
 ],
 "metadata": {
  "kernelspec": {
   "display_name": "R",
   "language": "R",
   "name": "ir"
  },
  "language_info": {
   "codemirror_mode": "r",
   "file_extension": ".r",
   "mimetype": "text/x-r-source",
   "name": "R",
   "pygments_lexer": "r",
   "version": "3.6.1"
  }
 },
 "nbformat": 4,
 "nbformat_minor": 4
}
