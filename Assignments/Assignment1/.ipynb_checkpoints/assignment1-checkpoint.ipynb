{
 "cells": [
  {
   "cell_type": "markdown",
   "metadata": {},
   "source": [
    "# Assignment 1"
   ]
  },
  {
   "cell_type": "markdown",
   "metadata": {},
   "source": [
    "##### Exercise 1\n",
    "\n",
    "a). A man has $n$ keys on a key ring, one of which opens the door to his apartment. Having celebrated a bit too much one evening, he returns home only to find himself unable to distinguish one key from another. Resourceful, he works out a fiendishly clever plan: He will choose a key at random and try it. If it fails to open the door, he will discard it and choose at random one of the remaining $n−1$ keys, and so on. Clearly, the probability that he gains entrance with the first key he selects is 1/n. Show that the probability the door opens with the third key he tries is also $1/n$.\n",
    "\n",
    "b). Let $n=50$. In R, calculate the conditional probability of opening the door with each of the keys $k=2, \\dots 50$ given that the previous keys did not work. Additionally, calculate the probability of opening the door with exactly the second, third, ..., 50th key. Plot both probabilities in the same graph. Interpret the results."
   ]
  },
  {
   "cell_type": "code",
   "execution_count": null,
   "metadata": {},
   "outputs": [],
   "source": []
  },
  {
   "cell_type": "markdown",
   "metadata": {},
   "source": [
    "##### Exercise 2\n",
    "\n",
    "a). One chip is drawn at random from an urn that contains one white chip and one black chip. If the white chip is selected, we simply return it to the urn; if the black chip is drawn, that chip -together with another black- are returned to the urn. Then a second chip is drawn, with the same rules for returning it to the urn. Calculate the probability of drawing two whites followed by three blacks.\n",
    "\n",
    "b). Simulate the empirical joint probabilities using sample sizes of 50 and 1000. That is, create a code that simulates the experiment of drawing 5 chips of the urn the the stated replacement rules. Repeat the experiment 50 and 1000 times. Then, calculate the probability of observing the sequence (white, white, black, black, black) for each experiment. Repeat the calculation of the probabilities 100 times and construct one vector containing the 50 and 1000 sample size joint probabilities. Finally, create a plot containing both histograms. Interpret the results. \n",
    "\n",
    "**Note:** This exercise is similar to example 2.4.7 in the Introduction to Mathematical Statistics and its Applications. I created a code to simulate that probability in the *'conditional_probability'* jupyter notebook. This exercise has an additional difficulty when compared with the code to simulate example 2.4.7 because of the rules of replacement. One approach I found useful was to create separate functions: \n",
    "\n",
    "- one function to produce the sample with replacement with the additional condition to add more black chips when a black chip is drawn\n",
    "- one function to simulate the experiment of drawing the five chips\n",
    "- one function to perform the experiment n time and calculate the proportion of times (probability) that the sequence (white, white, black, black, black) is observed\n",
    "- one loop to recalculate 100 times the probability of observing the sequence (white, white, black, black, black) for 50 and 1000 sample size (number of times that the experiment is repeated to calculate the probability)"
   ]
  },
  {
   "cell_type": "code",
   "execution_count": null,
   "metadata": {},
   "outputs": [],
   "source": []
  }
 ],
 "metadata": {
  "kernelspec": {
   "display_name": "R",
   "language": "R",
   "name": "ir"
  },
  "language_info": {
   "codemirror_mode": "r",
   "file_extension": ".r",
   "mimetype": "text/x-r-source",
   "name": "R",
   "pygments_lexer": "r",
   "version": "3.6.1"
  }
 },
 "nbformat": 4,
 "nbformat_minor": 4
}
